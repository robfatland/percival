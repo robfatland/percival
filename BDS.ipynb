{
 "metadata": {
  "name": "",
  "signature": "sha256:cea39c1719c9a09f4a846ccd2351d86aa47654bb999e5f76e4f697cd51cdab63"
 },
 "nbformat": 3,
 "nbformat_minor": 0,
 "worksheets": []
}