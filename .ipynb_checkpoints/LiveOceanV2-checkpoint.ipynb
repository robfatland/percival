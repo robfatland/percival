{
 "cells": [
  {
   "cell_type": "markdown",
   "metadata": {},
   "source": [
    "# LiveOcean Client"
   ]
  },
  {
   "cell_type": "markdown",
   "metadata": {},
   "source": [
    "### IPython Notebook style"
   ]
  },
  {
   "cell_type": "markdown",
   "metadata": {},
   "source": [
    "LiveOcean has a simple (5-command) API and we'd like to explore that from an iPython Notebook perspective"
   ]
  },
  {
   "cell_type": "code",
   "execution_count": 1,
   "metadata": {
    "collapsed": false
   },
   "outputs": [
    {
     "ename": "ImportError",
     "evalue": "No module named rest_framework",
     "output_type": "error",
     "traceback": [
      "\u001b[1;31m---------------------------------------------------------------------------\u001b[0m",
      "\u001b[1;31mImportError\u001b[0m                               Traceback (most recent call last)",
      "\u001b[1;32m<ipython-input-1-05077060d696>\u001b[0m in \u001b[0;36m<module>\u001b[1;34m()\u001b[0m\n\u001b[0;32m      3\u001b[0m \u001b[1;32mimport\u001b[0m \u001b[0mscipy\u001b[0m \u001b[1;32mas\u001b[0m \u001b[0msp\u001b[0m\u001b[1;33m\u001b[0m\u001b[0m\n\u001b[0;32m      4\u001b[0m \u001b[1;32mimport\u001b[0m \u001b[0mjson\u001b[0m\u001b[1;33m\u001b[0m\u001b[0m\n\u001b[1;32m----> 5\u001b[1;33m \u001b[1;32mimport\u001b[0m \u001b[0mrest_framework\u001b[0m\u001b[1;33m\u001b[0m\u001b[0m\n\u001b[0m\u001b[0;32m      6\u001b[0m \u001b[1;32mfrom\u001b[0m \u001b[0mrestful_lib\u001b[0m \u001b[1;32mimport\u001b[0m \u001b[0mConnection\u001b[0m\u001b[1;33m\u001b[0m\u001b[0m\n\u001b[0;32m      7\u001b[0m \u001b[1;33m\u001b[0m\u001b[0m\n",
      "\u001b[1;31mImportError\u001b[0m: No module named rest_framework"
     ]
    }
   ],
   "source": [
    "import numpy as np\n",
    "import numpy.linalg as la\n",
    "import scipy as sp\n",
    "import json\n",
    "import rest_framework\n",
    "from restful_lib import Connection\n",
    "\n",
    "# import matplotlib is not required"
   ]
  },
  {
   "cell_type": "markdown",
   "metadata": {},
   "source": [
    "pylab inline mode retains graphics inline. "
   ]
  },
  {
   "cell_type": "code",
   "execution_count": 2,
   "metadata": {
    "collapsed": false
   },
   "outputs": [
    {
     "name": "stdout",
     "output_type": "stream",
     "text": [
      "Populating the interactive namespace from numpy and matplotlib\n"
     ]
    }
   ],
   "source": [
    "%pylab inline"
   ]
  },
  {
   "cell_type": "markdown",
   "metadata": {},
   "source": [
    "To get full documentation on pylab say: help(pylab)."
   ]
  },
  {
   "cell_type": "markdown",
   "metadata": {},
   "source": [
    "To get usage on a command say: linspace?"
   ]
  },
  {
   "cell_type": "code",
   "execution_count": 3,
   "metadata": {
    "collapsed": false
   },
   "outputs": [
    {
     "data": {
      "image/png": "[encoded data removed]",
      "text/plain": [
       "<matplotlib.figure.Figure at 0x4351710>"
      ]
     },
     "metadata": {},
     "output_type": "display_data"
    }
   ],
   "source": [
    "# Create a plot of a simple function using 'linspace' (rather than a loop)\n",
    "\n",
    "x = linspace(0.0, 30.0, 1000)\n",
    "plot(x, cos(x)/(1.0+x/4))\n",
    "\n",
    "# Save this to the folder 'IPython Notebooks' in my User Documents folder (Windows)\n",
    "savefig('kilroy.png')\n"
   ]
  },
  {
   "cell_type": "markdown",
   "metadata": {},
   "source": [
    "This segment does JSON-based API calls 'get-info' and 'get-value'"
   ]
  },
  {
   "cell_type": "code",
   "execution_count": 4,
   "metadata": {
    "collapsed": false
   },
   "outputs": [
    {
     "ename": "NameError",
     "evalue": "name 'Connection' is not defined",
     "output_type": "error",
     "traceback": [
      "\u001b[1;31m---------------------------------------------------------------------------\u001b[0m",
      "\u001b[1;31mNameError\u001b[0m                                 Traceback (most recent call last)",
      "\u001b[1;32m<ipython-input-4-f4b44124cd49>\u001b[0m in \u001b[0;36m<module>\u001b[1;34m()\u001b[0m\n\u001b[0;32m      6\u001b[0m \u001b[1;33m\u001b[0m\u001b[0m\n\u001b[0;32m      7\u001b[0m \u001b[0mbaseUrl\u001b[0m \u001b[1;33m=\u001b[0m \u001b[1;34m\"http://liveocean.azurewebsites.net/api\"\u001b[0m\u001b[1;33m\u001b[0m\u001b[0m\n\u001b[1;32m----> 8\u001b[1;33m \u001b[0mconn\u001b[0m \u001b[1;33m=\u001b[0m \u001b[0mConnection\u001b[0m\u001b[1;33m(\u001b[0m\u001b[0mbaseUrl\u001b[0m\u001b[1;33m)\u001b[0m\u001b[1;33m\u001b[0m\u001b[0m\n\u001b[0m\u001b[0;32m      9\u001b[0m \u001b[0mresponse\u001b[0m \u001b[1;33m=\u001b[0m \u001b[0mconn\u001b[0m\u001b[1;33m.\u001b[0m\u001b[0mrequest_get\u001b[0m\u001b[1;33m(\u001b[0m\u001b[1;34m\"/get-info\"\u001b[0m\u001b[1;33m,\u001b[0m \u001b[0margs\u001b[0m\u001b[1;33m=\u001b[0m\u001b[1;33m{\u001b[0m\u001b[1;33m}\u001b[0m\u001b[1;33m,\u001b[0m \u001b[0mheaders\u001b[0m\u001b[1;33m=\u001b[0m\u001b[1;33m{\u001b[0m\u001b[1;34m'content-type'\u001b[0m\u001b[1;33m:\u001b[0m\u001b[1;34m'application/json'\u001b[0m\u001b[1;33m,\u001b[0m \u001b[1;34m'accept'\u001b[0m\u001b[1;33m:\u001b[0m\u001b[1;34m'application/json'\u001b[0m\u001b[1;33m}\u001b[0m\u001b[1;33m)\u001b[0m\u001b[1;33m\u001b[0m\u001b[0m\n\u001b[0;32m     10\u001b[0m \u001b[0mgetinfo\u001b[0m \u001b[1;33m=\u001b[0m \u001b[0mresponse\u001b[0m\u001b[1;33m[\u001b[0m\u001b[1;34mu'body'\u001b[0m\u001b[1;33m]\u001b[0m\u001b[1;33m\u001b[0m\u001b[0m\n",
      "\u001b[1;31mNameError\u001b[0m: name 'Connection' is not defined"
     ]
    }
   ],
   "source": [
    "# Here are working API calls:\n",
    "# http://liveocean.azurewebsites.net/api/get-value?date=2015-05-04T17:00:00Z&depthIndex=39&param=salt\n",
    "# http://liveocean.azurewebsites.net/api/get-value?date=2015-05-04T17:00:00Z&depthMeters=-10.0&param=salt\n",
    "# http://liveocean.azurewebsites.net/api/get-info\n",
    "# http://liveocean.azurewebsites.net/api/get-overlay?date=2015-05-10T22:00:00Z&depthIndex=39&param=salt\n",
    "\n",
    "baseUrl = \"http://liveocean.azurewebsites.net/api\"\n",
    "conn = Connection(baseUrl)\n",
    "response = conn.request_get(\"/get-info\", args={}, headers={'content-type':'application/json', 'accept':'application/json'})\n",
    "getinfo = response[u'body']\n",
    "# print getinfo\n",
    "# print \"\""
   ]
  },
  {
   "cell_type": "markdown",
   "metadata": {},
   "source": [
    "### get-overlay API receives a PNG, not JSON"
   ]
  },
  {
   "cell_type": "code",
   "execution_count": 14,
   "metadata": {
    "collapsed": false
   },
   "outputs": [],
   "source": [
    "# Kilroy: Stub for an api-oriented transaction for a (png) get-overlay.\n",
    "# Contrast the below: An \"Image from url\" approach... which works fine.\n",
    "# resp = conn.request_get(\"/get-overlay\", args={'date':'2015-05-04T17:00:00Z', 'depthMeters':'-10.0','param':'salt'}, headers={'content-type':'application/json', 'accept':'application/png'})"
   ]
  },
  {
   "cell_type": "markdown",
   "metadata": {},
   "source": [
    "This segment reads the png saved above and displays it again; key thing being the Image."
   ]
  },
  {
   "cell_type": "code",
   "execution_count": 15,
   "metadata": {
    "collapsed": false
   },
   "outputs": [
    {
     "data": {
      "image/png": "[encoded data removed]",
      "text/plain": [
       "<IPython.core.display.Image at 0xa48d518>"
      ]
     },
     "execution_count": 15,
     "metadata": {},
     "output_type": "execute_result"
    }
   ],
   "source": [
    "from IPython.display import Image \n",
    "cosplot = Image(filename='kilroy.png')\n",
    "cosplot"
   ]
  },
  {
   "cell_type": "markdown",
   "metadata": {},
   "source": [
    "Using the same formalism -- but from a url -- this section uses an API call to get a Live Ocean overlay"
   ]
  },
  {
   "cell_type": "code",
   "execution_count": 8,
   "metadata": {
    "collapsed": false
   },
   "outputs": [
    {
     "data": {
      "text/html": [
       "<img src=\"http://liveocean.azurewebsites.net/api/get-overlay?date=2015-05-10T22:00:00Z&depthIndex=39&param=salt\"/>"
      ],
      "text/plain": [
       "<IPython.core.display.Image at 0xa0bcd30>"
      ]
     },
     "execution_count": 8,
     "metadata": {},
     "output_type": "execute_result"
    }
   ],
   "source": [
    "i = Image(url='http://liveocean.azurewebsites.net/api/get-overlay?date=2015-05-10T22:00:00Z&depthIndex=39&param=salt')\n",
    "i"
   ]
  },
  {
   "cell_type": "markdown",
   "metadata": {},
   "source": [
    "# Parsing get-info and get-value JSON"
   ]
  },
  {
   "cell_type": "markdown",
   "metadata": {},
   "source": [
    "getinfo is a JSON object, i.e. a List of Dictionaries (unordered key:value pairs)"
   ]
  },
  {
   "cell_type": "code",
   "execution_count": 16,
   "metadata": {
    "collapsed": false
   },
   "outputs": [],
   "source": [
    "# Kilroy: This works but is deprecated.\n",
    "# \n",
    "# NTS: In one of these cells if you end with a line that just names a variable it prints; but if you\n",
    "#   continue with more code after that the printout is blanked.\n",
    "# \n",
    "# NTS: The JSON we get back from the API is a unicode string; but it looks precisely like a list of dictionaries. \n",
    "# It is necessary to use a json method to translate it into the latter.\n",
    "# \n",
    "# In slow motion: Uncomment this code to see a translation of the 'getinfo' JSON string\n",
    "#   into an ordered list [a, b, c] of dictionaries (which are unordered sets of kv pairs)\n",
    "#   Each dictionary corresponds to one of the LiveOcean data types: rho, salt, temp.\n",
    "# \n",
    "# a=json.loads(getinfo)\n",
    "# print type(a)\n",
    "#\n",
    "# Pull the Zeroth such list element into the dictionary a0\n",
    "# a0=a[0]\n",
    "# print type(a0)\n",
    "#\n",
    "# get the value of the PartitionKey (unicode) into pk\n",
    "# pk = a0[u'PartitionKey']\n",
    "# print pk, '\\n', type(pk), '\\n'\n",
    "#\n",
    "# Translate this to ascii\n",
    "# pkascii = encoding.smart_str(pk, encoding='ascii', errors='ignore')\n",
    "# print pkascii\n",
    "# print \"\"\n",
    "# print type(pkascii)\n",
    "# print \"\""
   ]
  },
  {
   "cell_type": "markdown",
   "metadata": {},
   "source": [
    "Failed experiment: Try treating getinfo as if it were a python List (it's not!)"
   ]
  },
  {
   "cell_type": "code",
   "execution_count": 17,
   "metadata": {
    "collapsed": false
   },
   "outputs": [],
   "source": [
    "# Kilroy: This fails\n",
    "# \n",
    "# Did the experiment; the results are not good so for now I will use the json.loads() method\n",
    "#   getinfo is of type unicode\n",
    "#   this can be converted to ascii using encoding.smart_str(etcetera) \n",
    "#   this can be split using xxx.split(\",\")\n",
    "#   the result can be indexed like a list; producing a string which is just a poorly parsed string (fragment)\n",
    "# \n",
    "# getinfoAscii = encoding.smart_str(getinfo, encoding='ascii',errors='ignore')\n",
    "# b0=getinfoAscii.split(\",\")\n",
    "# bb0=b0[0]\n",
    "# Looks like this: [{\"etag\": \"W/\\\"datetime'2014-12-01T17%3A32%3A23.9923515Z'\\\"\"\n"
   ]
  },
  {
   "cell_type": "markdown",
   "metadata": {},
   "source": [
    "Decode the getinfo <unicode> string > List > Dictionaries > a selected value from each Dictionary"
   ]
  },
  {
   "cell_type": "code",
   "execution_count": 18,
   "metadata": {
    "collapsed": false
   },
   "outputs": [],
   "source": [
    "# Kilroy: This works but is deprecated.\n",
    "# \n",
    "# Can do 'encode' to clean up u' unicode tags; but this is not necessary at the outset\n",
    "#   getinfoAscii = getinfo.encode('ascii','ignore')\n",
    "#\n",
    "# The laborious procedure, for posterity; it is interesting to see the types marching along:\n",
    "# c=json.loads(getinfo)\n",
    "# print 'json.loads(getinfo) is a', type(c),'\\n'\n",
    "# c0=c[0]\n",
    "# print 'element 0 of this is', c0, 'of type', type(c0),'\\n'\n",
    "#\n",
    "# Note that here the index in the source is unicode (with u') but this indexing string works fine:\n",
    "# pkc=c0['PartitionKey']\n",
    "# print 'element [\\'PartitionKey\\'] of this is \\'', pkc, '\\' of',type(pkc),'\\n'\n",
    "# pkcs = pkc.encode('ascii','ignore')\n",
    "# print 'where the ascii encode of this is', pkcs, 'of', type(pkcs), '\\n'"
   ]
  },
  {
   "cell_type": "code",
   "execution_count": 19,
   "metadata": {
    "collapsed": false
   },
   "outputs": [
    {
     "name": "stdout",
     "output_type": "stream",
     "text": [
      "In one go:\n",
      "\n",
      "['rho', 'salt', 'temp'] \n",
      "\n"
     ]
    }
   ],
   "source": [
    "# In one go where we do not know in advance that this List has 3 Dictionaries: \n",
    "pk=[]\n",
    "giList = json.loads(getinfo)\n",
    "for i in range(0,len(giList)):\n",
    "        pk.append(giList[i]['PartitionKey'].encode('ascii','ignore'))\n",
    "print 'In one go:\\n\\n',pk,'\\n'"
   ]
  },
  {
   "cell_type": "markdown",
   "metadata": {},
   "source": [
    "Decode the getvalue string > List > Dictionaries > 2D numpy array"
   ]
  },
  {
   "cell_type": "code",
   "execution_count": 20,
   "metadata": {
    "collapsed": false
   },
   "outputs": [],
   "source": [
    "# This gets a sheet of salinity values\n",
    "response = conn.request_get(\"/get-value\", args={'date':'2015-05-04T17:00:00Z', 'depthMeters':'-10.0','param':'salt'}, headers={'content-type':'application/json', 'accept':'application/json'})\n",
    "getvalue = response[u'body']\n"
   ]
  },
  {
   "cell_type": "code",
   "execution_count": 21,
   "metadata": {
    "collapsed": false
   },
   "outputs": [
    {
     "name": "stdout",
     "output_type": "stream",
     "text": [
      "3 \n",
      "\n",
      "API getvalue provides 174 lists each with 381 elements \n",
      "\n",
      "element 341 of list 131, data[130][340], is 30.6600619246 which is  <type 'float'> \n",
      "\n",
      "element 381 of list 174, data[173][380], is None which is  <type 'NoneType'> \n",
      "\n",
      "floats: 36284 and Nones: 30010 sum is 66294 and area is 66294\n",
      "\n"
     ]
    }
   ],
   "source": [
    "getvalueDictionary = json.loads(getvalue)\n",
    "\n",
    "# There are entries in this Dictionary: keys are 'max', 'data' and 'min'. We care about the value for key 'data'\n",
    "# This value is a List of Lists. The List has 174 elements. Each is a List with 381 elements. \n",
    "\n",
    "print len(getvalueDictionary),'\\n'\n",
    "data=getvalueDictionary['data']\n",
    "numLists = len(data)\n",
    "numElementsPerList = len(data[0])\n",
    "\n",
    "print 'API getvalue provides', numLists, 'lists each with', numElementsPerList, 'elements','\\n'\n",
    "print 'element 341 of list 131, data[130][340], is',data[130][340],'which is ',type(data[130][340]),'\\n'\n",
    "print 'element 381 of list 174, data[173][380], is',data[173][380],'which is ',type(data[173][380]),'\\n'\n",
    "\n",
    "nFloat = 0\n",
    "nNone = 0\n",
    "for s in data:\n",
    "    for t in s:\n",
    "        if (isinstance(t,float)):\n",
    "            nFloat += 1\n",
    "        else:\n",
    "            nNone += 1\n",
    "        \n",
    "print 'floats:',nFloat,'and Nones:',nNone, 'sum is',nFloat+nNone,'and area is',numLists*numElementsPerList\n",
    "print \"\"\n",
    "\n"
   ]
  },
  {
   "cell_type": "markdown",
   "metadata": {},
   "source": [
    "# Parsing get-coords"
   ]
  },
  {
   "cell_type": "code",
   "execution_count": 22,
   "metadata": {
    "collapsed": false
   },
   "outputs": [
    {
     "name": "stdout",
     "output_type": "stream",
     "text": [
      "That time was probably invalid. Or something.\n"
     ]
    }
   ],
   "source": [
    "getcoords = conn.request_get(\"/get-coords\", args={'date':'2015-05-04T17:00:00Z'}, headers={'content-type':'application/json', 'accept':'application/json'})[u'body']\n",
    "\n",
    "# Kilroy there is a bug in LiveOceanServer: It still expects a time in hours; needs to be updated to a date.\n",
    "# Kilroy also would be good to review why get-coords needs to pass a date!\n",
    "print getcoords\n",
    "\n",
    "# getcoordsDictionary = json.loads(getcoords)\n",
    "# print len(getcoordsDictionary)\n",
    "# print \"\"\n",
    "# print getcoordsDictionary\n",
    "\n",
    "\n"
   ]
  },
  {
   "cell_type": "code",
   "execution_count": null,
   "metadata": {
    "collapsed": false
   },
   "outputs": [],
   "source": [
    "Using 'requests' version of the API calls"
   ]
  },
  {
   "cell_type": "code",
   "execution_count": 17,
   "metadata": {
    "collapsed": false
   },
   "outputs": [
    {
     "name": "stdout",
     "output_type": "stream",
     "text": [
      "http://liveocean.azurewebsites.net/api/get-info True 200\n",
      "[{u'RowKey': u'rho', u'long_name': u'density anomaly', u'PartitionKey': u'rho', u'etag': u'W/\"datetime\\'2014-12-01T17%3A32%3A23.9923515Z\\'\"', u'cmap': u'YlOrBr', u'units': u'kilogram meter-3', u'color_max': u'47.4864997864', u'color_min': u'-0.161183387041'}, {u'RowKey': u'salt', u'long_name': u'salinity', u'PartitionKey': u'salt', u'etag': u'W/\"datetime\\'2014-12-01T17%3A32%3A23.4720345Z\\'\"', u'cmap': u'YlOrBr', u'units': u'none', u'color_max': u'34.8383483887', u'color_min': u'0.0'}, {u'RowKey': u'temp', u'long_name': u'potential temperature', u'PartitionKey': u'temp', u'etag': u'W/\"datetime\\'2014-12-01T17%3A32%3A22.7634246Z\\'\"', u'cmap': u'YlOrBr', u'units': u'Celsius', u'color_max': u'13.9652376175', u'color_min': u'-0.00917375646532'}]\n",
      "http://liveocean.azurewebsites.net/api/get-overlay?date=2015-05-10T22%3A00%3A00Z&depthIndex=39&param=salt True\n",
      "<type 'str'>\n"
     ]
    },
    {
     "data": {
      "image/png": "[encoded data removed]",
      "text/plain": [
       "<IPython.core.display.Image at 0x59b1710>"
      ]
     },
     "execution_count": 17,
     "metadata": {},
     "output_type": "execute_result"
    }
   ],
   "source": [
    "import urlparse\n",
    "import requests\n",
    "from IPython.display import Image\n",
    "\n",
    "baseUrl = \"http://liveocean.azurewebsites.net/api/\"\n",
    "requestcall = \"get-info\"\n",
    "r = requests.get(urlparse.urljoin(baseUrl, requestcall))\n",
    "print r.url, r.ok, r.status_code\n",
    "rjson = r.json()\n",
    "print rjson\n",
    "len(rjson), [el['PartitionKey'] for el in rjson]\n",
    "requestcall = \"get-overlay\"\n",
    "data_args = {'date':'2015-05-10T22:00:00Z', 'depthIndex':39, 'param':'salt'}\n",
    "r = requests.get(urlparse.urljoin(baseUrl, requestcall), params=data_args)\n",
    "print r.url, r.ok\n",
    "\n",
    "\n",
    "i = Image(data=r.content)\n",
    "# imshow(i)\n",
    "print type(r.content)\n",
    "i\n"
   ]
  },
  {
   "cell_type": "code",
   "execution_count": 15,
   "metadata": {
    "collapsed": false
   },
   "outputs": [
    {
     "name": "stdout",
     "output_type": "stream",
     "text": [
      "done\n"
     ]
    }
   ],
   "source": [
    "print 'done'"
   ]
  },
  {
   "cell_type": "code",
   "execution_count": 13,
   "metadata": {
    "collapsed": false
   },
   "outputs": [],
   "source": []
  },
  {
   "cell_type": "code",
   "execution_count": 13,
   "metadata": {
    "collapsed": false
   },
   "outputs": [],
   "source": []
  },
  {
   "cell_type": "markdown",
   "metadata": {},
   "source": [
    "# Live Ocean"
   ]
  },
  {
   "cell_type": "markdown",
   "metadata": {},
   "source": [
    "Authors Rob Fatland, Parker MacCready, Nels Oscar"
   ]
  },
  {
   "cell_type": "markdown",
   "metadata": {},
   "source": [
    "### Abstract"
   ]
  },
  {
   "cell_type": "markdown",
   "metadata": {},
   "source": [
    "This chapter describes LiveOcean, a project intended to anticipate the financial consequences of ocean acidification on the marine food industry in the Pacific Northwest of the United States. Underlying the practical details of building this system on the Microsoft Azure cloud platform are a number of design considerations addressing recurring themes in the deployment of 'small' scientific data management systems. The most important of these modularity: Building such systems incrementally as self-contained components that do not overtax development resources.    "
   ]
  },
  {
   "cell_type": "markdown",
   "metadata": {},
   "source": [
    "### Introduction"
   ]
  },
  {
   "cell_type": "markdown",
   "metadata": {},
   "source": [
    "LiveOcean is a Microsoft Azure cloud solution for conveying ocean forecasts into actionable information for the marine industry. This chapter describes the LiveOcean solution, project motivation from ocean acidification, scenarios for data use and validation, and extension of the project through open source and new applications. \n",
    "\n",
    "LiveOcean (LO) represents a bridging project, one that originates strictly from the research domain of physical oceanography and extends to shellfish farming and commercial fishing.  LO is built on the Regional Ocean Modeling System (ROMS) which uses initial conditions from today, known tidal and current patterns, and fluid dynamics to produce an hourly forecast of ocean conditions running 72 hours. This is analogous to a weather forecast; but one that extends from the ocean surface down to the sea floor.\n",
    "\n",
    "LiveOcean originated from a study commissioned by the state of Washington, USA, under the driving question: What are top economic implications of climate change -- specifically ocean acidification -- in the commercial fisheries? The study was conducted from Kilroy to Kilroy by the Kilroy council that has a Kilroy relationship to WOAC and Kilroy other organizations. The study produced five recommendations (Kilroy) and the resulting RFP was successfully answered by Parker MacCready, professor of oceanography at the University of Washington.\n",
    "\n",
    "LO has proceeded as three parallel efforts: Operationalizing the ROMS model, building the LiveOcean Server cloud middleware, and producing Client views of the forecast data. This third component proceeds from the LO design emphasis on decoupling the physical model from the use of the forecast data."
   ]
  },
  {
   "cell_type": "markdown",
   "metadata": {},
   "source": [
    "### LiveOcean design"
   ]
  },
  {
   "cell_type": "markdown",
   "metadata": {},
   "source": [
    "##### Data structure"
   ]
  },
  {
   "cell_type": "markdown",
   "metadata": {},
   "source": [
    "ROMS as used to power LO is a computational fluid dynamics model taylored to the ocean waters west of Washington, Oregon and British Columbia including Puget Sound, the Strait of Juan de Fuca and the southern extent of the Georgia Strait. ROMS operates on initial and boundary conditions after these have been collected from various data sources; for example Kilroy river discharge. The resulting dataset represents an hour-by-hour volumetric forecast across approximately 20 scalar parameters, including temperature, salinity, pH, aragonite saturation, dissolved oxygen, phytoplankton, zooplankton, and detritus; as well as the ocean current vector field.\n",
    "\n",
    "ROMS runs on a 100-core HPC cluster to produce (72) hourly NetCDF files representing water conditions at 40 stratified layers across ~ 200 x 400 map-plane cells covering a rectangular region from Kilroy latitude to latitude and Kilroy longitude to longitude. The resulting Kilroy square kilometers region off the coast of Washington state (USA) results in individual grid cells approximately Kilroy x Kilroy kilometers. Map-plane grid spaceing is not even: Finer resolution is used in proximity to the coast to better support complex fluid flow in those areas. \n",
    "\n",
    "The vertical stratification of each map-plane cell is fixed in proportion to mean water depth for that cell.  Due to ocean bathymetry therefore the cells are not vertically aligned from one map plane column to another. The cells are more finely spaced near the surface and near the sea bed; and an algorithm is provided for converting between (cell index plus bathymetry) and physical depth. The ROMS data structure, thus, is driven by a compromise between precision and computing power; and the resulting output is not readily consumable by a non-scientist. This suggests a translational layer that we describe in terms of modularity. \n",
    "\n"
   ]
  },
  {
   "cell_type": "markdown",
   "metadata": {},
   "source": [
    "##### Modularity"
   ]
  },
  {
   "cell_type": "raw",
   "metadata": {},
   "source": [
    "In the research context the ROMS model is a tool for studying the physical ocean, an end in itself. LiveOcean will carry ROMS model results to a new endpoint: Maritime commercial operations. Hence there is a natural break between a ROMS forecast and the dissemination (consumption) of those results. Commonly a forecast is communicated via website, for example using a map tool supporting layers and overlays that runs in a web browser. In the LiveOcean project we modularize this process into two components: Middleware and Client. The Middleware is responsible for providing a data service according to ease-of-use principles. The Client is software that acts on behalf of the information consumer, for example an app used by a shellfish grower. This person is presumed interested in only a small subset of the ROMS model output:  Aragonite saturation forecast only at the company's oyster beds for the next three days. This person might also be remote with limited (cell phone or VHF) connectivity. This shellfish grower represents only one of potentially dozens of different forecast consumers. LiveOcean if successful therefore has a one-to-many relationsihp. By adopting a modular approach for LiveOcean we address two aspects of this relationship: The information consumption is easily tailored; and the interpretation of the forecast information is not proscribed.\n",
    "\n",
    "The LiveOcean middleware -- the translational layer between the ROMS model output and the Client -- provides data according to three three principles: The query-response mechanism is simple and well-documented, the data are simple and readily understood and the response latency is minimal.  This middleware called Live Ocean Server is implemented in the Python programming language using the Django Web Application Framework. The software was developed in the Microsoft Visual Studio programming environment and deployed to the Microsoft Azure cloud. Hence LiveOcean as a solution represents a synthesis of four technologies: Python, Django, Visual Studio and Azure.\n",
    "\n",
    "The notion of modularity extends further: Suppose that a need develops for LiveOcean forecast data in a different format such as a Web Mapping Service. Such a service could be built on an as-needed basis; but a more compelling example follows. Because the LiveOcean forecast includes ocean current information the query-response engine could be extended both forward and backward in time. 'Where did the water at this location come from?', 'Where will the water at this location go?' Common phenomena such as Harmful Algal Blooms (HABs) and nutrient upwelling along the continental shelf have important consequences in the relationship between coastal ecosystems and there people who live there. If LiveOcean proves adept at forecasting these events their translation to common use can be implemented as a modular addition to the existing system. Virtually all of these -- including sophisticated machine learning pattern search analysis -- can be implemented as cloud services that operate on the accumulation of ROMS model output data. "
   ]
  },
  {
   "cell_type": "markdown",
   "metadata": {},
   "source": [
    "##### Initializing model runs"
   ]
  },
  {
   "cell_type": "markdown",
   "metadata": {},
   "source": [
    "As noted ROMS is initialized through four data resources. Kilroy."
   ]
  },
  {
   "cell_type": "markdown",
   "metadata": {},
   "source": [
    "##### Cache Management"
   ]
  },
  {
   "cell_type": "markdown",
   "metadata": {},
   "source": [
    "The principle point of this section is that a cache is created to avoid re-generating commonly requested results. This is the primary means of overcoming LO latency. There are three related strategies: Build a cache that is a pre-defined subset of the complete results, build cache adaptively based on prior queries, or simply cache (almost) everything. The latter is prohibitively expensive; and adaptive caching would be an advanced option. Current development is towards a pre-defined caching process that is initiated once a new forecast is produced. "
   ]
  },
  {
   "cell_type": "markdown",
   "metadata": {},
   "source": [
    "##### Administration"
   ]
  },
  {
   "cell_type": "markdown",
   "metadata": {},
   "source": [
    "LiveOcean includes a website (http://liveocean.azurewebsites.net) that serves administrative functions. This includes documentation for the API, reporting on ROMS model run history, working examples and other state-of-health information. "
   ]
  },
  {
   "cell_type": "markdown",
   "metadata": {},
   "source": [
    "### LiveOcean as open-source template for other applications"
   ]
  },
  {
   "cell_type": "markdown",
   "metadata": {},
   "source": [
    "ice2ocean body"
   ]
  },
  {
   "cell_type": "markdown",
   "metadata": {},
   "source": [
    "### Application Programming Interface"
   ]
  },
  {
   "cell_type": "markdown",
   "metadata": {},
   "source": [
    "The LiveOcean Application Progamming Interface (API) is a computer-to-computer interface for Clients to query the LiveOcean middleware. A query is in the form of a base URL with text appended, technically an HTTP POST operation. There is no authentication required and the interface is technically state-less and RESTful. As a consequence there are essentially two things necessary for a succesful Client-LiveOceanServer interaction: The Client must correctly format the query URL; and the Client must correctly parse the returned data. \n",
    "\n",
    "The LiveOceanAPI has five API calls, some of which make use of qualifiers: Parameter (salinity etc), date and depth (as either model index or as a depth in meters). \n",
    "\n",
    "get-info provides information on what information is currently available from LiveOcean (JSON)\n",
    "get-cmap provides a color map for rendering overlay images (JSON)\n",
    "get-coords provides the coordinate grid of the LiveOcean map space (JSON)\n",
    "get-value provides a map space sheet of floating point values (JSON)\n",
    "get-overlay provides a greyscale image of parameter/time/depth (PNG)"
   ]
  },
  {
   "cell_type": "markdown",
   "metadata": {},
   "source": [
    "### Client space"
   ]
  },
  {
   "cell_type": "markdown",
   "metadata": {},
   "source": [
    "Initially four Clients were written for LiveOcean. The modular design anticipates that other Clients will be written as needs for interpretations of the forecast develop. The first Client includes a bing map to support time-series animation of forecast overlays for a given depth and parameter. This overlay includes transparent pixels where no data is present (land) and can be adusted in opacity with respect to the bing map. <Kilroy Figure>  The second Client connects LiveOcean forecast data to a visualization engine called Worldwide Telescope with support for four/five/six dimensions of data.  "
   ]
  },
  {
   "cell_type": "markdown",
   "metadata": {},
   "source": [
    "### Validation"
   ]
  },
  {
   "cell_type": "markdown",
   "metadata": {},
   "source": [
    "ROMS has been validated primarily against mooring data. Other data resources (casts from research cruises, ARGO data, gliders, etc) could be used as well. ROMS predictions of algal blooms would provide strong motivation for validation effort owing to the potentially large impact of these events. "
   ]
  },
  {
   "cell_type": "markdown",
   "metadata": {},
   "source": [
    "### Applications"
   ]
  },
  {
   "cell_type": "markdown",
   "metadata": {},
   "source": [
    "The significance of LiveOcean is yet to be realized. If it is successfully validated in terms of physical oceanography one obvious implication will be: Can LiveOcean reliably provide higher-level or derived information to the marine industry? "
   ]
  },
  {
   "cell_type": "markdown",
   "metadata": {},
   "source": [
    "### Enhancement"
   ]
  },
  {
   "cell_type": "markdown",
   "metadata": {},
   "source": [
    "LiveOcean could provide tide data. It could provide turbulence estimates; upwelling; other driving condition data. Ocean current forecasts.\n",
    "\n",
    "Very important: LiveOcean could provide an API call that says \"Where did the water at this location come from?\" as well as \"Where will the water at this location go?\" "
   ]
  },
  {
   "cell_type": "markdown",
   "metadata": {},
   "source": [
    "### Conclusion"
   ]
  },
  {
   "cell_type": "markdown",
   "metadata": {},
   "source": [
    "The role of scientific models such as ROMS in predictive forecasts is at once developing as a necessity and intrinsically perilous. Computational fluid dynamics is fraught with uncertainty and error when rendered into software; so the cautious person cries 'caveat emptor' and so on. "
   ]
  },
  {
   "cell_type": "markdown",
   "metadata": {},
   "source": [
    "### References"
   ]
  },
  {
   "cell_type": "markdown",
   "metadata": {},
   "source": [
    "refs body"
   ]
  },
  {
   "cell_type": "code",
   "execution_count": 0,
   "metadata": {
    "collapsed": false
   },
   "outputs": [],
   "source": []
  },
  {
   "cell_type": "code",
   "execution_count": 0,
   "metadata": {
    "collapsed": false
   },
   "outputs": [],
   "source": []
  },
  {
   "cell_type": "code",
   "execution_count": 0,
   "metadata": {
    "collapsed": false
   },
   "outputs": [],
   "source": []
  },
  {
   "cell_type": "code",
   "execution_count": null,
   "metadata": {
    "collapsed": false
   },
   "outputs": [],
   "source": []
  }
 ],
 "metadata": {
  "kernelspec": {
   "display_name": "Python 2",
   "language": "python",
   "name": "python2"
  },
  "language_info": {
   "codemirror_mode": {
    "name": "ipython",
    "version": 2
   },
   "file_extension": ".py",
   "mimetype": "text/x-python",
   "name": "python",
   "nbconvert_exporter": "python",
   "pygments_lexer": "ipython2",
   "version": "2.7.10"
  }
 },
 "nbformat": 4,
 "nbformat_minor": 0
}
