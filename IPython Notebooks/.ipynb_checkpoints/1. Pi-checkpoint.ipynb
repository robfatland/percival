{
 "cells": [
  {
   "cell_type": "markdown",
   "metadata": {},
   "source": [
    "## A Piece of Pi\n",
    "\n",
    "This notebook has three sections. \n",
    "\n",
    "\n",
    "The upper section searches pi for a sequence of digits that you pick. Find the part that says \"Put your digits here!\" and make it say whatever you like. Then hold down the Shift key and press Enter. It may take some time (like a minute or two) if you choose something long like '88888888'. Maybe start with shorter sequences first, like '3333'. \n",
    "\n",
    "\n",
    "Pi starts out 3.14159265358979323846264338327950288419716939937510582097494459230781640628620899862803482534211...\n",
    "In fact you can see the first 100,000 digits at http://www.geom.uiuc.edu/~huberty/math5337/groupe/digits.html. \n",
    "\n",
    "\n",
    "The middle section calculates pi using random numbers. We will describe how to do this at the next OMC meeting.\n",
    "\n",
    "\n",
    "The final section is advanced. We haven't gotten to this yet but you are welcome to check it out! It concerns series expansion for a complex exponential, specifically for e raised to the i times pi over 2. We hope the cosine of pi over 2 turns out to be zero and the sine is one.\n"
   ]
  },
  {
   "cell_type": "markdown",
   "metadata": {},
   "source": [
    "#### Section 1: Finding digits in pi"
   ]
  },
  {
   "cell_type": "code",
   "execution_count": null,
   "metadata": {
    "collapsed": false
   },
   "outputs": [],
   "source": [
    "def iter_file(filename, chunksize=100000):\n",
    "    with open(filename) as f:\n",
    "        while True:\n",
    "            substring = f.read(chunksize)\n",
    "            if not substring:\n",
    "                return\n",
    "            # for Python 3\n",
    "            # yield from substring\n",
    "            # for Python 2\n",
    "            for char in substring:\n",
    "                yield char\n",
    "\n",
    "from toolz import sliding_window\n",
    "\n",
    "def look_for_sequence(filename, sequence):\n",
    "    s = iter_file(filename)\n",
    "\n",
    "    for i, group in enumerate(sliding_window(len(sequence), s)):\n",
    "        if ''.join(group) == sequence:\n",
    "            print ('found your sequence \"{0}\" at location {1} in pi'.format(sequence, i))\n",
    "            break\n",
    "            \n",
    "\n",
    "# 'data/pi.txt' is the first one million digits of pi\n",
    "# 'data/pi-billion.txt' is the first one billion digits of pi\n",
    "\n",
    "\n",
    "# **************************\n",
    "# Put your digits here! (replace whatever is inside the single-quotes)\n",
    "# **************************\n",
    "\n",
    "my_digits = '9999999'\n",
    "\n",
    "# **************************\n",
    "# When you are done with that hold down Shift and press Enter!\n",
    "# **************************\n",
    "\n",
    "look_for_sequence('data/pi-billion.txt', my_digits)"
   ]
  },
  {
   "cell_type": "markdown",
   "metadata": {},
   "source": [
    "#### Section 2: Calculate Pi\n",
    "\n",
    "We will not be able to calculate pi very accurately using these ideas; but approximate will be fun! Why? Because even when pi isn't very good... its still pretty good!\n",
    "\n",
    "First we calculate pi using random darts. \n",
    "\n",
    "Then we use a more exhaustive method that counts up little squares."
   ]
  },
  {
   "cell_type": "code",
   "execution_count": null,
   "metadata": {
    "collapsed": false
   },
   "outputs": [],
   "source": [
    "# This cell takes about 15 seconds to run.\n",
    "# It throws 4 million darts at a dart board. If they land inside a circle they \"count\"\n",
    "# At the end it uses the number of hits to calculate pi.\n",
    "\n",
    "import numpy as np\n",
    "import random as r\n",
    "\n",
    "hits = 0.0\n",
    "nDarts = 4000000\n",
    "fDarts = float(nDarts)\n",
    "for i in range(nDarts):\n",
    "    x = r.random()\n",
    "    y = r.random()\n",
    "    if np.sqrt(x*x+y*y) <= 1.0: hits += 1.0\n",
    "\n",
    "print 4.0*hits/fDarts \n",
    "    "
   ]
  },
  {
   "cell_type": "markdown",
   "metadata": {},
   "source": [
    "This cell calculates pi more methodically using an exhaustion of little squares."
   ]
  },
  {
   "cell_type": "code",
   "execution_count": null,
   "metadata": {
    "collapsed": false
   },
   "outputs": [],
   "source": [
    "# count up little squares to get pi. Those squares must be inside the unit circle, that is, \n",
    "#   the circle at the origin with a radius of 1. \n",
    "\n",
    "# We will loop over little boxes at location (x, y).  \n",
    "# x ranges from 0 to 1 and y ranges from 0 to 1. The total area of this box is what? \n",
    "# We only count boxes in our total if they are at a distance of 1 or less from the origin.\n",
    "# How do we calculate that distance (what is the name of the formula)?\n",
    "# Once we are done we have looked at only one quadrant of the unit circle.\n",
    "# Therefore we multiply the answer by what? \n",
    "\n",
    "import numpy as np\n",
    "\n",
    "# Change the value of 'size_of_square' to see how it affects the approximation of pi.\n",
    "# If you make this value very small (less than 0.001) it will start to take a long time to finish!\n",
    "size_of_square = 0.001\n",
    "\n",
    "how_many_squares = int(1.0 / size_of_square)\n",
    "\n",
    "print 'There are', how_many_squares, 'little squares on one side of the big square.'\n",
    "\n",
    "area_of_little_square = size_of_square * size_of_square\n",
    "\n",
    "print 'The little squares have an area of', area_of_little_square, 'square units.'\n",
    "print '   (a number like 1e-06 is read \"one times ten to the minus six\" or \"one millionth\")'\n",
    "\n",
    "# area is a bucket of variable that will increase when we find little squares inside the circle\n",
    "area = 0.0\n",
    "\n",
    "for x in np.arange(0.0, 1.0, size_of_square):\n",
    "    for y in np.arange(0.0, 1.0, size_of_square):\n",
    "        dist = np.sqrt(x*x+y*y)\n",
    "        if dist < 1.0:\n",
    "            area = area + area_of_little_square\n",
    "\n",
    "# area is just in the first quadrant; so let's multiply it by four to account for all 4 quadrants\n",
    "area = area * 4\n",
    "\n",
    "print 'Our estimate of pi is ', area\n",
    "\n",
    "# It would be nice to create a little drawing of this"
   ]
  },
  {
   "cell_type": "code",
   "execution_count": null,
   "metadata": {
    "collapsed": true
   },
   "outputs": [],
   "source": [
    "# with sq 0.025 got 3.2325\n",
    "# with sq 0.005 got 3.1602\n",
    "# with sq 0.001 got 3.14552\n",
    "# with sq 0.0005 got 3.143579\n",
    "# with sq 0.0001 got 3.14199016\n",
    "# with sq 0.00001 got 3.14163274808"
   ]
  },
  {
   "cell_type": "markdown",
   "metadata": {
    "collapsed": true
   },
   "source": [
    "It would also be pleasant to calculate the volume of a sphere and the area of a sphere."
   ]
  },
  {
   "cell_type": "markdown",
   "metadata": {},
   "source": [
    "#### Section 3: Complex exponential series expansion for sine and cosine"
   ]
  },
  {
   "cell_type": "code",
   "execution_count": null,
   "metadata": {
    "collapsed": false
   },
   "outputs": [],
   "source": [
    "print \"numpy is numpy\""
   ]
  },
  {
   "cell_type": "code",
   "execution_count": null,
   "metadata": {
    "collapsed": false
   },
   "outputs": [],
   "source": [
    "import numpy as np\n",
    "pi = np.pi\n",
    "print 'pi is', pi\n",
    "\n",
    "# let's add up the even-numbered terms... 0, 2, 4... we hope they equal 0 \n",
    "evenSum = 1 - pi*pi/8 + (pi*pi*pi*pi)/(2*2*2*2)/(4*3*2*1)\n",
    "print evenSum"
   ]
  },
  {
   "cell_type": "code",
   "execution_count": null,
   "metadata": {
    "collapsed": false
   },
   "outputs": [],
   "source": [
    "# let's add up the odd-numbered terms... 1, 3, 5... we hope they equal 1\n",
    "oddSum = pi/2 - (pi*pi*pi)/48 + (pi*pi*pi*pi*pi)/(2*2*2*2*2)/120\n",
    "print oddSum"
   ]
  },
  {
   "cell_type": "code",
   "execution_count": null,
   "metadata": {
    "collapsed": true
   },
   "outputs": [],
   "source": [
    "def IsOdd(number):\n",
    "    if number % 2 == 0: return False\n",
    "    else: return True"
   ]
  },
  {
   "cell_type": "code",
   "execution_count": null,
   "metadata": {
    "collapsed": true
   },
   "outputs": [],
   "source": [
    "def Factorial(number):\n",
    "    if number == 0: return 1\n",
    "    if number == 1: return 1\n",
    "    if number > 1:\n",
    "        factorial = 1\n",
    "        for j in range(number):\n",
    "            factorial = factorial * (j+1)\n",
    "        return factorial"
   ]
  },
  {
   "cell_type": "code",
   "execution_count": null,
   "metadata": {
    "collapsed": true
   },
   "outputs": [],
   "source": [
    "def Numerator(number, power):\n",
    "    return np.power(number, power)"
   ]
  },
  {
   "cell_type": "code",
   "execution_count": null,
   "metadata": {
    "collapsed": true
   },
   "outputs": [],
   "source": [
    "def ThisEvenTerm(x, term):\n",
    "    termOverTwo = term/2\n",
    "    if IsOdd(termOverTwo):\n",
    "        thisSign = -1\n",
    "    else:\n",
    "        thisSign = 1\n",
    "    return thisSign*Numerator(x, term)/Factorial(term)"
   ]
  },
  {
   "cell_type": "code",
   "execution_count": null,
   "metadata": {
    "collapsed": true
   },
   "outputs": [],
   "source": [
    "def ThisOddTerm(x, term):\n",
    "    termMinusOne = term - 1\n",
    "    termMinusOneOverTwo = termMinusOne/2\n",
    "    if IsOdd(termMinusOneOverTwo):\n",
    "        thisSign = -1\n",
    "    else:\n",
    "        thisSign = 1\n",
    "    return thisSign*Numerator(x, term)/Factorial(term)"
   ]
  },
  {
   "cell_type": "code",
   "execution_count": null,
   "metadata": {
    "collapsed": false
   },
   "outputs": [],
   "source": [
    "oddSum = 0.0\n",
    "evenSum = 0.0\n",
    "x = pi/2\n",
    "for term in range(17):\n",
    "    print term\n",
    "    if IsOdd(term):\n",
    "        oddSum = oddSum + ThisOddTerm(x, term)\n",
    "    else:\n",
    "        evenSum = evenSum + ThisEvenTerm(x, term)\n",
    "\n",
    "print 'even sum:', round(evenSum, 8)\n",
    "print 'odd sum:', round(oddSum, 8)"
   ]
  },
  {
   "cell_type": "markdown",
   "metadata": {
    "collapsed": true
   },
   "source": [
    "#### Section 3 Calculating pi from arc length"
   ]
  },
  {
   "cell_type": "markdown",
   "metadata": {},
   "source": [
    "Suppose you are interested in measuring the perimeter of a circle with radius 1. We 'know' that this distance will prove to be about 6.28..., in other words 2 times pi. But can we calculate that in some way? That is what this section attempts to do. The math is a bit technical for middle school; so you may want to read/skim and you can always talk to us to dig deeper.\n",
    "\n",
    "Imagine you use a compass to draw the circle centered on the origin. Now draw four inscribed lines to make a rotated square: From (1, 0) to (0, 1) to (-1, 0) to (0, -1) back to (1, 0). Each of these lines has a length of (square root of 2) from the pythagorean formula. Let's abbreviate 'square root of 2' as sqrt(2). So our first estimate for the perimeter of the unit circle is 4 x sqrt(2) or about 5.657. This is obviously a low estimate because our square is inscribed inside the circle; it does not follow the curved perimeter very well. \n",
    "\n",
    "Here is the important idea for what follows: We can look at this square as an inscribed regular polygon with four sides and we can use it to build another regular polygon with twice as many sides that will be a closer approximation to the shape of the circle... and we can keep on doing this 'doubling' process a whole bunch of times until our polygon looks a lot like the unit circle. Therefore our approximate values for the perimeter should get closer and closer to the right answer. \n",
    "\n",
    "In creating these polygons the first vertex is always at (1, 0). The second vertex has coordinates (c, s) based on the central angle subtended by each edge of the polygon. Once we know (c) and (s) we can calculate the distance from there to (1, 0) and multiply that distance by n, the number of vertices / edges in the polygon. That will be our estimate of the perimeter of the circle.\n",
    "\n",
    "Each time we double the number of vertices n we cut the subtended angle in half. Fortunately the new coordinates (c2, s2) are easy to determine from (c, s) using trigonometry rules. "
   ]
  },
  {
   "cell_type": "markdown",
   "metadata": {},
   "source": [
    "Let's calculate pi using a known value of cosine and the 'half angle' formula. This method has both a good and a bad aspect to it. The good aspect is that there is some circular reasoning involved, in particular we are calling the circumference of the unit circle '2 pi' without much justification. On the positive side the calculation itself only involves square roots... so it is a pi-free calculation that approximates pi. \n",
    "\n",
    "As Isabella will tell you $$d(e^{i\\theta},1)=\\sqrt{2-2\\cos \\theta}$$"
   ]
  },
  {
   "cell_type": "markdown",
   "metadata": {},
   "source": [
    "Suppose we know s = the arc-length from 1 to pi/4. Then pi is approximately this arc length times eight (because pi/4 fits into 2 * pi eight times. That is the circular reasoning bit. \n",
    "\n",
    "If we have a rule for getting cos (theta / 2) then we could get a slightly better estimate of pi by cutting pi/4 in half to get pi/8. Calculate that distance and multiply it by 16 because there are twice as many segments. What we are doing, you see, is inscribing polygons into the unit circle. Each polygon has twice the number of vertices as the previous one. The important equation is the cosine half-angle formula:\n",
    "\n",
    "$$\\cos\\left(\\frac{\\theta}{2}\\right)=\\sqrt\\frac{\\cos\\theta+1}{2}$$"
   ]
  },
  {
   "cell_type": "markdown",
   "metadata": {},
   "source": [
    "We can take a recursive approach to this calculation. We can start at pi/4 and call that n=1. That is an octagon inscribed inside the unit circle. Then what is the improved calculation for pi using the half-angle pi/8? Call that n + 1. And then recurse to n + 2, n + 3, n + 4, ...\n",
    "\n",
    "$$\\cos\\theta_{n+1}=\\sqrt{\\frac{\\cos\\theta_{n}+1}{2}}$$\n",
    "\n",
    "where\n",
    "\n",
    "$$\\cos\\theta_{1}=\\frac{\\sqrt{2}}{2}$$\n",
    "\n",
    "and now here is the next estimate of pi: \n",
    "    \n",
    "$$\\pi_{n+1} = 2^{2+n}\\cdot\\sqrt{2-2\\cos\\theta_{n+1}}$$"
   ]
  },
  {
   "cell_type": "code",
   "execution_count": 23,
   "metadata": {
    "collapsed": false
   },
   "outputs": [
    {
     "name": "stdout",
     "output_type": "stream",
     "text": [
      "iteration 1 pi estimate 3.12144515226\n",
      "iteration 2 pi estimate 3.13654849055\n",
      "iteration 3 pi estimate 3.14033115695\n",
      "iteration 4 pi estimate 3.14127725093\n",
      "iteration 5 pi estimate 3.14151380114\n",
      "iteration 6 pi estimate 3.14157294037\n",
      "iteration 7 pi estimate 3.14158772528\n",
      "iteration 8 pi estimate 3.1415914215\n",
      "iteration 9 pi estimate 3.14159234561\n",
      "iteration 10 pi estimate 3.14159257655\n",
      "iteration 11 pi estimate 3.14159263346\n",
      "iteration 12 pi estimate 3.14159265481\n",
      "iteration 13 pi estimate 3.14159264532\n",
      "iteration 14 pi estimate 3.14159260738\n",
      "iteration 15 pi estimate 3.14159291094\n",
      "iteration 16 pi estimate 3.1415941252\n",
      "iteration 17 pi estimate 3.1415965537\n",
      "iteration 18 pi estimate 3.1415965537\n",
      "iteration 19 pi estimate 3.14167426502\n",
      "iteration 20 pi estimate 3.14182968189\n"
     ]
    }
   ],
   "source": [
    "import numpy as np\n",
    "\n",
    "def next_cos_theta(cos_theta):\n",
    "    return np.sqrt((cos_theta + 1.0)/2.0)\n",
    "\n",
    "def next_pi(n, cos_theta):\n",
    "    return np.power(2.0, 3.0 + n)*np.sqrt(2.0-2.0*cos_theta)\n",
    "\n",
    "nIterations = 20\n",
    "\n",
    "cos_theta_1 = np.sqrt(2.0)/2.0\n",
    "ct = cos_theta_1\n",
    "pi_est = []\n",
    "\n",
    "for n in range(nIterations):\n",
    "    nct = next_cos_theta(ct)\n",
    "    nxtpi = next_pi(n, nct)\n",
    "    print 'iteration', n+1, 'pi estimate', nxtpi\n",
    "    pi_est.append(nxtpi)\n",
    "    ct = nct\n",
    "    \n"
   ]
  },
  {
   "cell_type": "code",
   "execution_count": 10,
   "metadata": {
    "collapsed": false
   },
   "outputs": [
    {
     "data": {
      "text/plain": [
       "[<matplotlib.lines.Line2D at 0x7f837139d610>]"
      ]
     },
     "execution_count": 10,
     "metadata": {},
     "output_type": "execute_result"
    },
    {
     "data": {
      "image/png": "[encoded data removed]",
      "text/plain": [
       "<matplotlib.figure.Figure at 0x7f83736d5c50>"
      ]
     },
     "metadata": {},
     "output_type": "display_data"
    }
   ],
   "source": [
    "# make plots inline (so that they do not pop-out)\n",
    "%matplotlib inline\n",
    "\n",
    "# get the plotting library going (this is how we make plots)\n",
    "import matplotlib.pyplot as plt\n",
    "\n",
    "# math library (this is how we do advanced mathematics using Python)\n",
    "import numpy as np\n",
    "\n",
    "# make a little plot going from 0 to 5 in steps of 0.01\n",
    "pi_err = [x-np.pi for x in pi_est]\n",
    "plt.plot(pi_err)"
   ]
  },
  {
   "cell_type": "code",
   "execution_count": 22,
   "metadata": {
    "collapsed": false
   },
   "outputs": [
    {
     "data": {
      "text/plain": [
       "(-1.0, 1.0, -1.0, 1.0)"
      ]
     },
     "execution_count": 22,
     "metadata": {},
     "output_type": "execute_result"
    },
    {
     "data": {
      "image/png": "[encoded data removed]",
      "text/plain": [
       "<matplotlib.figure.Figure at 0x7f837052c050>"
      ]
     },
     "metadata": {},
     "output_type": "display_data"
    }
   ],
   "source": [
    "# This code draws the polygon. Increase n_polygon to make it look more like the unit circle.\n",
    "\n",
    "###################\n",
    "###################\n",
    "##\n",
    "## other math club: change the value of n_polygon\n",
    "##\n",
    "###################\n",
    "###################\n",
    "\n",
    "n_polygon = 8\n",
    "\n",
    "dtheta = np.pi*2.0/n_polygon\n",
    "px = []\n",
    "py = []\n",
    "theta = 0.0\n",
    "\n",
    "for i in range(n_polygon):\n",
    "    px.append(0.0)\n",
    "    py.append(0.0)\n",
    "    px.append(np.cos(theta))\n",
    "    py.append(np.sin(theta))\n",
    "    px.append(np.cos(theta+dtheta))\n",
    "    py.append(np.sin(theta+dtheta))\n",
    "    theta += dtheta\n",
    "\n",
    "fig, ax = plt.subplots(figsize=(12,10))\n",
    "ax.plot(px, py)\n",
    "ax.axis('equal')"
   ]
  },
  {
   "cell_type": "code",
   "execution_count": null,
   "metadata": {
    "collapsed": true
   },
   "outputs": [],
   "source": []
  }
 ],
 "metadata": {
  "anaconda-cloud": {},
  "kernelspec": {
   "display_name": "Python [default]",
   "language": "python",
   "name": "python2"
  },
  "language_info": {
   "codemirror_mode": {
    "name": "ipython",
    "version": 2
   },
   "file_extension": ".py",
   "mimetype": "text/x-python",
   "name": "python",
   "nbconvert_exporter": "python",
   "pygments_lexer": "ipython2",
   "version": "2.7.12"
  }
 },
 "nbformat": 4,
 "nbformat_minor": 0
}
