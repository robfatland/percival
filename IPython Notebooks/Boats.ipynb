{
 "cells": [
  {
   "cell_type": "markdown",
   "metadata": {},
   "source": [
    "This IGERT-inspired code was written by Rob Fatland (2015) with two purposes\n",
    "\n",
    "1. Introduction to python by example with extensive remarks. \"Any line of code (that does not have an accompanying comment is an error.\")\n",
    "\n",
    "2. Create a through-line from mathematics to a problem in estuary circulation.\n",
    "\n",
    "This motivates boating excursions to estuaries. (\"Believe me, my young friend, there is nothing—-absolutely nothing—-half so much worth doing as simply messing about in boats.\")\n",
    "\n",
    "From Oceanography:\n",
    "Blue crab larvae and other zooplankton spend lots of time in estuaries\n",
    "Buckets of water from estuaries can be subjected to analysis, collectively H2Omes.\n",
    "Sequencing to genes to metagenomes.\n",
    "Spectral analysis of dissolved organics: mass spectrometry, color, fluorescence, etc. \n",
    "Sample metadata (assay methods): total carbon, pH, etcetera\n",
    "Cytomes: From a flow cytometer\n",
    "\n",
    "From Mathematics:\n",
    "A graph G is a pair of sets V and E where E are pairs of elements of V. \n",
    "Graphs in turn have properties: Girth, circumference, presence/absence of Hamiltonian cycles, etc.\n",
    "Graphs can be represented in terms of various connectivity matrices.\n",
    "These include the 'Laplacian' forms.\n",
    "Graph matrices, in turn, have characteristic polynomials and eigenvalues that may be related to properties of the graph.\n",
    "Specifically we could describe the conditional probability distribution of plankton in an estuary using Markov process theory which in turn can be associated with attributes of graphs. \n",
    "\n",
    "The resulting research might proceed from observations of the estuary { plankton, light, water chemistry, etc} to produce a predictive model. The model would be tested; hence the research provides two opportunities to go float around an estuary in a boat. \n"
   ]
  },
  {
   "cell_type": "code",
   "execution_count": 2,
   "metadata": {
    "collapsed": false
   },
   "outputs": [
    {
     "ename": "TypeError",
     "evalue": "'float' object is not callable",
     "output_type": "error",
     "traceback": [
      "\u001b[1;31m---------------------------------------------------------------------------\u001b[0m",
      "\u001b[1;31mTypeError\u001b[0m                                 Traceback (most recent call last)",
      "\u001b[1;32m<ipython-input-2-e9cdd1403dbd>\u001b[0m in \u001b[0;36m<module>\u001b[1;34m()\u001b[0m\n\u001b[0;32m      6\u001b[0m \u001b[1;31m# for charting (matplotlib) I import scipy and a subset as 'chart'\u001b[0m\u001b[1;33m\u001b[0m\u001b[1;33m\u001b[0m\u001b[0m\n\u001b[0;32m      7\u001b[0m \u001b[1;32mimport\u001b[0m \u001b[0mscipy\u001b[0m \u001b[1;32mas\u001b[0m \u001b[0ms\u001b[0m\u001b[1;33m\u001b[0m\u001b[0m\n\u001b[1;32m----> 8\u001b[1;33m \u001b[0mpi\u001b[0m \u001b[1;33m=\u001b[0m \u001b[0ms\u001b[0m\u001b[1;33m.\u001b[0m\u001b[0mpi\u001b[0m\u001b[1;33m(\u001b[0m\u001b[1;33m)\u001b[0m\u001b[1;33m\u001b[0m\u001b[0m\n\u001b[0m\u001b[0;32m      9\u001b[0m \u001b[1;32mprint\u001b[0m \u001b[0mpi\u001b[0m\u001b[1;33m\u001b[0m\u001b[0m\n\u001b[0;32m     10\u001b[0m \u001b[1;33m\u001b[0m\u001b[0m\n",
      "\u001b[1;31mTypeError\u001b[0m: 'float' object is not callable"
     ]
    }
   ],
   "source": [
    "# for linear algebra I import numpy and related topics with abbreviations: \n",
    "#   'la' for linear algebra methods, etcetera\n",
    "import numpy\n",
    "import numpy.linalg as la\n",
    "\n",
    "# for charting (matplotlib) I import scipy and a subset as 'chart'\n",
    "import scipy as s\n",
    "pi = s.pi()\n",
    "print pi\n",
    "\n",
    "# pandas: for analysis and more practically for reading CSV files into a data structure\n",
    "import pandas\n",
    "\n",
    "# os: for file listings and changing directories\n",
    "import os\n"
   ]
  },
  {
   "cell_type": "code",
   "execution_count": 3,
   "metadata": {
    "collapsed": false
   },
   "outputs": [
    {
     "name": "stdout",
     "output_type": "stream",
     "text": [
      "L =  [[1 1 0]\n",
      " [1 0 1]\n",
      " [0 1 1]]\n",
      "\n",
      "inverse L =  [[ 0.5  0.5 -0.5]\n",
      " [ 0.5 -0.5  0.5]\n",
      " [-0.5  0.5  0.5]]\n",
      "eigenvalues of L =  [-1.  1.  2.]\n",
      "determinant L =  -2.0\n",
      "adc =  0\n",
      "adc =  10\n",
      "adc =  20\n",
      "adc =  30\n",
      "adc =  40\n",
      "adc =  50\n",
      "adc =  60\n",
      "adc =  70\n",
      "adc =  80\n",
      "adc =  90\n",
      "adc =  100\n",
      "adc =  110\n",
      "adc =  120\n",
      "adc =  130\n",
      "adc =  140\n",
      "adc =  150\n",
      "adc =  160\n",
      "adc =  170\n",
      "adc =  180\n",
      "adc =  190\n",
      "adc =  200\n",
      "adc =  210\n",
      "adc =  220\n",
      "adc =  230\n",
      "adc =  240\n",
      "adc =  250\n"
     ]
    }
   ],
   "source": [
    "# This will eventually be the Laplacian matrix representation of a graph\n",
    "Laplacian = numpy.matrix([[1,1,0],[1,0,1],[0,1,1]])\n",
    "print 'L = ', Laplacian\n",
    "print ''\n",
    "print 'inverse L = ', la.inv(Laplacian)\n",
    "print 'eigenvalues of L = ', la.eigvals(Laplacian)\n",
    "print 'determinant L = ', la.det(Laplacian)\n",
    "\n",
    "\n",
    "#############\n",
    "##\n",
    "## This section is motivated by Make Your Own CTD\n",
    "##\n",
    "#############\n",
    "\n",
    "####\n",
    "# \n",
    "# Decimal readout of a parallel (MSB to LSB) signal\n",
    "#\n",
    "####\n",
    "\n",
    "# We have an analog-to-digital converter from Texas Instruments that produces a parallel\n",
    "#   signal 1000 times per second. The signal is 8 bits of readout, each 'hi' or 'lo', that\n",
    "#   translates from binary to a decimal number between 0 and 255 inclusive. Let's create a \n",
    "#   digital readout of that number on a three digit display, in fact 3 7-segment LEDs. \n",
    "# Run through a loop and determine what digits to place in a 3 x 7-segment LED display\n",
    "for i7 in range(2):\n",
    "    for i6 in range(2):\n",
    "        for i5 in range(2):\n",
    "            for i4 in range(2):\n",
    "                for i3 in range(2):\n",
    "                    for i2 in range(2):\n",
    "                        for i1 in range(2):\n",
    "                            for i0 in range(2):\n",
    "                                adc = i7*128 + i6*64 + i5*32 + i4*16 + i3*8 + i2*4 + i1*2 + i0\n",
    "                                if (s.mod(adc,10) == 0):\n",
    "                                    print 'adc = ', adc\n",
    "                                    \n",
    "\n",
    "                                    \n",
    "###############\n",
    "##\n",
    "## CSV file of FT-ICR mass spectrometer peak list \n",
    "##\n",
    "###############\n",
    "# os.chdir('C:\\\\Users\\\\robfat\\\\Documents\\\\Data\\\\BDS Create Test Backup\\\\Beaches_2014')\n",
    "# os.getcwd()\n",
    "# data=pandas.read_table('.\\csvexample.csv')\n",
    "# print data\n",
    "\n",
    "#####################\n",
    "##\n",
    "## Flow Cytometer data reduction\n",
    "##\n",
    "#####################\n",
    "\n",
    "# os.chdir('G:\\pc\\Data\\UW Oceanography\\Sophie')\n",
    "# os.getcwd()\n",
    "# data=pandas.read_table('.\\ct_one_day.csv')\n",
    "# print data\n"
   ]
  },
  {
   "cell_type": "code",
   "execution_count": 1,
   "metadata": {
    "collapsed": false
   },
   "outputs": [],
   "source": []
  },
  {
   "cell_type": "code",
   "execution_count": null,
   "metadata": {
    "collapsed": false
   },
   "outputs": [],
   "source": []
  }
 ],
 "metadata": {
  "anaconda-cloud": {},
  "kernelspec": {
   "display_name": "Python [default]",
   "language": "python",
   "name": "python2"
  },
  "language_info": {
   "codemirror_mode": {
    "name": "ipython",
    "version": 2
   },
   "file_extension": ".py",
   "mimetype": "text/x-python",
   "name": "python",
   "nbconvert_exporter": "python",
   "pygments_lexer": "ipython2",
   "version": "2.7.12"
  }
 },
 "nbformat": 4,
 "nbformat_minor": 0
}
