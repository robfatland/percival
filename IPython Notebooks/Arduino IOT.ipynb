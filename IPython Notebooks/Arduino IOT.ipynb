{
 "cells": [
  {
   "cell_type": "markdown",
   "metadata": {},
   "source": [
    "# Arduino IOT\n",
    "\n",
    "This notebook describes a simple Arduino project that streams data to an Azure IOT Hub via WiFi."
   ]
  },
  {
   "cell_type": "markdown",
   "metadata": {},
   "source": [
    "Arduino is an umbrella for a set of open hardware embedded devices extensively used in the maker community. If you are unfamiliar with them but are interested in Internet Of Things (IOT) it may be worthwhile to watch a YouTube video or two, read the Wikipedia article and so forth. To cut to the chase I provide some summary bullets from the perspective of 'how do I get stuff to work?'\n",
    "\n",
    "* The most commonly used Arduino form factor is the Arduino Uno. This device runs about $15 and it includes some nicely arranged headers that facilitate _rapid prototyping_. Headers are just rows of pin receptacles: Little wires jump from the header to an adjacent breadboard or device and the project is off and running. The most important point is that the Arduino stack makes it fairly easy to connect to devices both with physical wires and with code.\n",
    "* "
   ]
  },
  {
   "cell_type": "markdown",
   "metadata": {},
   "source": [
    "From Amazon text: \n",
    "\n",
    "Directions based on Arduino IDE and UNO R3 compatible board. \n",
    "\n",
    "In the Arduino app \n",
    "\n",
    "- Go to menu option \"Sketch > Include Library > Manage Libraries\" and install \"Adafruit GFX Library\" and \"Adafruit SSD1306\". This will get the appropriate libraries installed. \n",
    "\n",
    "- Go to menu option \"File > Examples > Adafruit SSD1306 > ssd1306_128x64_i2c\" to bring up example code \n",
    "\n",
    "- In the example, find the line with \"display.begin(SSD1306_SWITCHCAPVCC, 0x3D);\" and change it to \"display.begin(SSD1306_SWITCHCAPVCC, 0x3C);\" \n",
    "\n",
    "Once the software is ready, connect the hardware as follows: \n",
    "\n",
    "OLED <> UNO R3 \n",
    "\n",
    "-------------- \n",
    "\n",
    "VCC <> 5V \n",
    "\n",
    "GND <> GND\n",
    "\n",
    "SDA <> A4\n",
    "\n",
    "SCL <> A5\n",
    "\n",
    "After that, just run the sample. \n"
   ]
  },
  {
   "cell_type": "code",
   "execution_count": null,
   "metadata": {
    "collapsed": true
   },
   "outputs": [],
   "source": []
  }
 ],
 "metadata": {
  "kernelspec": {
   "display_name": "Python 2",
   "language": "python",
   "name": "python2"
  },
  "language_info": {
   "codemirror_mode": {
    "name": "ipython",
    "version": 2
   },
   "file_extension": ".py",
   "mimetype": "text/x-python",
   "name": "python",
   "nbconvert_exporter": "python",
   "pygments_lexer": "ipython2",
   "version": "2.7.10"
  }
 },
 "nbformat": 4,
 "nbformat_minor": 0
}
