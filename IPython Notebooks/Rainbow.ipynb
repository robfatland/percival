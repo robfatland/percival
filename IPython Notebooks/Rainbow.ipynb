{
 "cells": [
  {
   "cell_type": "markdown",
   "metadata": {},
   "source": [
    "# Rainbow\n",
    "\n",
    "A notebook exploring rainbows using water-droplet geometry.\n",
    "\n",
    "\n",
    "## Part 0 Assumptions\n",
    "\n",
    "We build a conceptual picture of a rainbow using simple ideas chained together. The ideas are expressed as Python code with plots. Let's see if there is a convincing case for rainbows to exist. \n",
    "\n",
    "* Rainbows are formed from the backscatter of light incident on water droplets suspended in air. The water droplets may be falling fast (like rain) but more typically they are very small -- like mist -- and fall slowly. \n",
    "* Where is the light coming from? Light arrives from the sun at a low angle, as in 'over your shoulder'. You look directly away from the sun. The light particles (photons) coming over your shoulder hit water droplets suspended in the air before you. These might be close, as from a garden hose set on 'spray', or they might be far, as in a distant rain cloud. \n",
    "* The light reflects from or scatters from the droplets of water and some of this scattered light enters your eye. The pattern of reflected light that you perceive is interpreted by you as arcs of concentric color, a rainbow. Red is on the inside of the bow, blue on the outside.\n",
    "* Someone standing next to you also sees a rainbow. Is it in the same place?\n",
    "\n",
    "That's the basic observation. Now I will describe the first model for scattering of light by water droplets. It relies on the idea of a normal to a surface so let me say first: A curved surface like a water droplet that is examined at a very small point can be seen as locally flat. The flat plane is called the tangent plane and a spike sticking up out of this plane at a right angle to it is called the normal direction. In optics when light encounters a boundary such as air-to-water the interaction is described in terms of this surface normal. Notice that for a sphere the tangent plane is perpendicular to a line from the center of the sphere to the surface. For the sphere the surface normal at a point is coincident with a radial line from the center. \n",
    "\n",
    "* We assume water droplets are small so surface tension pulls them into a spherical shape. They are suspended in the air and move slowly enough that we consider them to be holding still.\n",
    "* Light enters each water droplet in a spatially even distribution of parallel rays as if from an infinitely distant point source. (We do not consider that the sun has width, i.e. subtends a solid angle. This is one of several details in the assumptions where we could come back and say 'wait a second... what about the width of the sun?'\n",
    "* Light entering the water droplet obeys Snell's law, traveling in a plane defined by two vectors: The incident velocity vector and the vector normal to the sphere at the point of incidence. This plane passes through the center of the droplet sphere. \n",
    "    * Snell's law gives us a result that each photon travels in a circular disc that bisects the water droplet. This simplifies our problem because we can work in two dimensions, in an arbitrary plane of bisection; and then after that we can extend the results to the fact that these planes can be oriented at any angle around the line from the sun to the droplet. \n",
    "* This is a relative distribution problem: Given a bunch of sunlight where do the light particles tend to go? The water drops are distributed in a sheet at random and act to scatter only the light that hits them; so they are independent of one another.  Further the photons are very small and taken to behave like point-particles. Consequently the radius of the droplets is immaterial and is taken to be 1. The number of photons is taken to be very large. The code below does not need to try and use actual photon counts or droplet sizes. 'Lots of photons' and 'radius = 1' will do. \n",
    "* The idea is to consider the scattering of light for a single droplet and then eventually to explore the effect of many such scatterers.\n",
    "\n",
    "Finally (whew this is taking a lot of words!) we want to consider the scattering path of the photon in detail. That's what everything depends on. \n",
    "\n",
    "* While many incident light particles scatter off the droplet, and while many more will pass through the back of the droplet, we are concerned only with backscatter and therefore only the following trajectory: \n",
    "    * The incident light particle (photon) enters the droplet\n",
    "        * Its path bends on entry per Snell's law\n",
    "    * The photon reflects off the back of the droplet thereby staying inside the droplet\n",
    "        * Its path obeys angle of incidence = angle of reflection off the plane tangent to the droplet surface\n",
    "    * The photon impinges a second time on the surface of the droplet, this time passing through it\n",
    "        * Undergoing another path bend per Snell's law\n",
    "* We make the problem two dimensional as noted, considering one particular plane bisecting the water droplet sphere; so we are working with the unit circle. \n",
    "* We take a uniform distribution of incident particles arriving at the first quadrant of that unit circle from y = 0 (aligned with the center of the droplet) to y = 1 grazing the top of the droplet. The particles from y = 0 to y = -1 are just a reflection so let's not worry about them. \n",
    "* Each particle is initially traveling with no y-component to its velocity: It simply comes in from the far right on a path exactly parallel to the x-axis.\n",
    "\n",
    "Finally when all is said and done we may ask: If we throw a million photons at the water droplet each separated by one millionth in the y direction: At what angle will they be ejected by the droplet? Do they go all over the place or is there perhaps a preferred direction of scattering? If the latter then the water droplet would be acting as a light-focusing mechanism; which sort of stands to reason because the water droplet is curved a bit like a lens.\n",
    "\n",
    "## Part 1 Droplet Scattering"
   ]
  },
  {
   "cell_type": "code",
   "execution_count": 2,
   "metadata": {
    "collapsed": false
   },
   "outputs": [],
   "source": [
    "%matplotlib inline\n",
    "\n",
    "import numpy as np\n",
    "import matplotlib.pyplot as plt\n",
    "\n",
    "pi = np.pi"
   ]
  },
  {
   "cell_type": "code",
   "execution_count": 3,
   "metadata": {
    "collapsed": false
   },
   "outputs": [],
   "source": [
    "def indexOfRefraction(wavelength):\n",
    "    if (wavelength < 400.0): return\n",
    "    if (wavelength > 700.0): return\n",
    "    ind400 = 1.339\n",
    "    ind700 = 1.331\n",
    "    deltaind = ind700 - ind400\n",
    "    deltawavefraction = (wavelength - 400.0)/300.0\n",
    "    return (deltaind * deltawavefraction) + ind400\n"
   ]
  },
  {
   "cell_type": "code",
   "execution_count": 4,
   "metadata": {
    "collapsed": false
   },
   "outputs": [],
   "source": [
    "def scatterAngle(y, wavelength):\n",
    "    if (y < 0.0):\n",
    "        return\n",
    "    elif (y > 1.0): \n",
    "        return\n",
    "    indWater = indexOfRefraction(wavelength)\n",
    "    indAir = 1.00029\n",
    "    theta1 = np.arcsin(y)\n",
    "    theta2 = np.arcsin(np.sin(theta1)*(indAir/indWater))\n",
    "    return 4.0*theta2-2.0*theta1\n"
   ]
  },
  {
   "cell_type": "code",
   "execution_count": 5,
   "metadata": {
    "collapsed": false
   },
   "outputs": [],
   "source": [
    "def getbin(theta):\n",
    "    if (theta < -np.pi/2.0): return\n",
    "    if (theta > np.pi/2.0): return\n",
    "    \n",
    "    bin = int((theta+np.pi/2.0)*(scale/np.pi))\n",
    "    if (bin >= 0 and bin < bins):\n",
    "        return bin\n"
   ]
  },
  {
   "cell_type": "code",
   "execution_count": 6,
   "metadata": {
    "collapsed": true
   },
   "outputs": [],
   "source": [
    "# sin theta-new / sin theta-old = index-old / index-new\n",
    "def getThetaWater(thetaAir, indexAir, indexWater):\n",
    "    term = (indexAir / indexWater) * sin(thetaAir)\n",
    "    return arcsin(term)"
   ]
  },
  {
   "cell_type": "code",
   "execution_count": 7,
   "metadata": {
    "collapsed": true
   },
   "outputs": [],
   "source": [
    "# Same as above but reversing the calculation\n",
    "def getThetaAir(thetaWater, indexWater, indexAir):\n",
    "    term = (indexWater / indexAir) * sin(thetaWater)\n",
    "    return arcsin(term)"
   ]
  },
  {
   "cell_type": "code",
   "execution_count": 8,
   "metadata": {
    "collapsed": true
   },
   "outputs": [],
   "source": [
    "# Snell's law generalization to incident and transmission media\n",
    "def snell(thetaInc, indexInc, indexTrans):\n",
    "    return np.arcsin((indexInc/indexTrans)*np.sin(thetaInc))"
   ]
  },
  {
   "cell_type": "code",
   "execution_count": 9,
   "metadata": {
    "collapsed": true
   },
   "outputs": [],
   "source": [
    "# you just know this already exists\n",
    "def rtd(theta): return theta*180.0/pi"
   ]
  },
  {
   "cell_type": "code",
   "execution_count": 10,
   "metadata": {
    "collapsed": true
   },
   "outputs": [],
   "source": [
    "# you just know this already exists\n",
    "def dtr(theta): return theta*pi/180.0"
   ]
  },
  {
   "cell_type": "code",
   "execution_count": 12,
   "metadata": {
    "collapsed": false
   },
   "outputs": [
    {
     "name": "stdout",
     "output_type": "stream",
     "text": [
      "<type 'numpy.ndarray'>\n",
      "7\n",
      "check fails =  6999993.0\n",
      "avg abs err = 3.08258695965e-16\n"
     ]
    },
    {
     "data": {
      "image/png": "[encoded data removed]",
      "text/plain": [
       "<matplotlib.figure.Figure at 0xaa227b8>"
      ]
     },
     "metadata": {},
     "output_type": "display_data"
    }
   ],
   "source": [
    "epsilon = 0.001\n",
    "domain = np.arange(-pi/2., pi/2.0, epsilon)\n",
    "print type(domain)\n",
    "bins = domain.shape[0]\n",
    "scale = float(bins)\n",
    "\n",
    "cWaves = [400.0, 450.0, 500.0, 550.0, 600.0, 650.0, 700.0]\n",
    "cLabels = ['violet', 'b','cyan','g', 'y', 'orange', 'r']\n",
    "nC = len(cWaves)\n",
    "\n",
    "# not used yet\n",
    "show = range(nC)\n",
    "nShow = len(show)\n",
    "\n",
    "histograms = []\n",
    "for i in range(nC):\n",
    "    histograms.append(np.zeros(bins))\n",
    "\n",
    "print len(histograms)\n",
    "\n",
    "# print domain.ndim\n",
    "\n",
    "yIncident = []\n",
    "yIncidentAngleDeg = []\n",
    "angleDeg = []\n",
    "for i in range(nC):\n",
    "    angleDeg.append([])\n",
    "\n",
    "# angleDec[color][entry] is a growing list\n",
    "# ranges[color][bin] is an np histogram array but it will be loaded up with floating point values\n",
    "\n",
    "fig, axes = plt.subplots(3, figsize=(10,16))\n",
    "ax0 = axes[0]\n",
    "ax1 = axes[1]\n",
    "ax2 = axes[2]\n",
    "\n",
    "nCheckFails = 0.\n",
    "nCheckFailSum = 0.\n",
    "maxEject = -2*pi\n",
    "maxIncidentY = 0.0\n",
    "\n",
    "for y1 in np.arange(0.0, 1.0, 0.000001):\n",
    "\n",
    "    # (x1, y1) is a point off in the direction of the sun; point of origin of our photon\n",
    "    # (x, y) is the point at which a ray intersects the surface of the droplet (radius = 1)\n",
    "    # Call this point P\n",
    "    # Call the center of the circle/sphere point C\n",
    "    # Call (1, 0) the point U (for Unit). It is a convenient reference point.\n",
    "    # Call the reflection point on the back of the drop Q\n",
    "    # Call the refraction point where the photon leaves the droplet R\n",
    "           \n",
    "    # P = (x1, y1)\n",
    "    x1 = 1000.0 # close enough to 93 million miles for our purposes\n",
    "    y = y1\n",
    "    x  = np.sqrt(1.0-y*y)\n",
    "\n",
    "    # index of refraction for air is taken as wavelength-independent\n",
    "    iorAir = 1.00029\n",
    "\n",
    "    # angle1 is local incidence, common to all colors\n",
    "    yIncident.append(y1)\n",
    "    incidenceAngle1 = np.arcsin(y1)\n",
    "    incidentAngleDeg = rtd(incidenceAngle1)\n",
    "    yIncidentAngleDeg.append(incidentAngleDeg)\n",
    "    \n",
    "    # From here on each color is treated independently due to color dispersion\n",
    "    for i in range(nC):\n",
    "        \n",
    "        wavelength = cWaves[i]\n",
    "\n",
    "        # index of refraction of water depends on wavelength\n",
    "        # this is called 'dispersion of light'\n",
    "        iorWater = indexOfRefraction(wavelength)\n",
    "\n",
    "        # cutting to the chase: right away we can determine theta, the scatter angle\n",
    "        theta = scatterAngle(y, wavelength)\n",
    "\n",
    "        # The subsequent code here concerns 'following the photon' through the droplet\n",
    "        # This is not necessary for our end result because we already have theta. However\n",
    "        # in subsequent sections we are concerned with relative paths where the additional\n",
    "        # bookkeeping will be important to do.\n",
    "           \n",
    "        # waterAngle1 is the refracted angle: Bending in towards the normal line\n",
    "        waterAngle1 = snell(incidenceAngle1, iorAir, iorWater)\n",
    "    \n",
    "        # the ray will deflect and strike the far wall of the droplet at point Q\n",
    "        # internalAngle1 = angle QCP (a positive value; from isoscelesiness)\n",
    "        internalAngle1 = pi - 2*waterAngle1\n",
    "\n",
    "        # internalTotalAngle1 = angle QCU\n",
    "        internalTotalAngle1 = internalAngle1 + incidenceAngle1\n",
    "\n",
    "        # Q = (x2, y2)\n",
    "        x2 = np.cos(internalTotalAngle1)\n",
    "        y2 = np.sin(internalTotalAngle1)\n",
    "\n",
    "        # The light reflects at Q using angle(incidence) = angle(reflection)\n",
    "        # It will strike the surface of the droplet at point R\n",
    "        # internal2 = angle QCR\n",
    "        internalAngle2 = pi - 2*waterAngle1              # the same as internalAngle1!\n",
    "\n",
    "        # internalTotalAngle2 = RCU measured as positive from R clockwise to U\n",
    "        internalTotalAngle2 = internalTotalAngle1 + internalAngle2\n",
    "\n",
    "        # R = (x3, y3)\n",
    "        x3 = np.cos(internalTotalAngle2)\n",
    "        y3 = np.sin(internalTotalAngle2)\n",
    "\n",
    "        # externalTotal is the angle UCR measured from U clockwise to R \n",
    "        # It is 'external' because this angle is the angle of the normal at R\n",
    "        externalTotalAngle = 2*pi - internalTotalAngle2\n",
    "\n",
    "        # The rays will escape in some direction and intersect an outer circle of radius 'large'. \n",
    "        # S = the emergent ray's point of intersection with the outer circle = (x4, y4)\n",
    "\n",
    "        # incidenceAngle2 = the incidence angle at R relative to the normal\n",
    "        incidenceAngle2 = (pi - internalAngle2)/2.\n",
    "\n",
    "        # external = the transmission angle at R relative to the normal\n",
    "        externalAngle = snell(incidenceAngle2, iorWater, iorAir)\n",
    "\n",
    "        # ejectAngle is the angle at which the ray is ejected from the drop\n",
    "        #   measured relative to the +x-axis direction. It will tend to be\n",
    "        #   sign-changed in subsequent calculations; that is under the conditions\n",
    "        #   established here it is technically negative but calculated positive... soi sage.\n",
    "        ejectAngle = externalTotalAngle - externalAngle\n",
    "\n",
    "        if ejectAngle > maxEject:\n",
    "            maxEject = ejectAngle\n",
    "            maxIncidentY = y1\n",
    "            \n",
    "        if -ejectAngle != theta:\n",
    "            nCheckFails += 1.0\n",
    "            nCheckFailSum += np.abs(ejectAngle - theta)\n",
    "            \n",
    "        angleDeg[i].append(rtd(theta))\n",
    "        binNumber = getbin(theta)\n",
    "\n",
    "        T1 = 1.0\n",
    "        R1 = 1.0\n",
    "        T2 = 1.0\n",
    "    \n",
    "        if binNumber >= 0 and binNumber < bins: histograms[i][binNumber] += T1 * R1 * T2\n",
    "\n",
    "\n",
    "domainDegrees = domain * 180.0 / pi\n",
    "\n",
    "for i in range(nC):\n",
    "    ax0.plot(domainDegrees, histograms[i], cLabels[i])\n",
    "    ax1.plot(angleDeg[i], yIncident, cLabels[i])\n",
    "\n",
    "ax2.plot(yIncidentAngleDeg, yIncident, 'k')\n",
    "\n",
    "    \n",
    "ax0.set(xlim=(10.0, 44.0))\n",
    "ax0.set(xlabel='scatter angle (deg)', ylabel = 'counts', title='scatter histogram')\n",
    "\n",
    "ax1.set(xlim=(10.0, 44.0))\n",
    "ax1.set(ylabel='incident ray y', xlabel = 'scatter angle (deg)', title='scatter dependency on incidence')\n",
    "\n",
    "ax2.set(xlim=(0.0, 90.0),ylim=(0.0,1.0))\n",
    "ax2.set(ylabel='incident y value', xlabel = 'incidence angle (local, deg)', title='incidence angle dependency on ray offset')\n",
    "\n",
    "print 'check fails = ', nCheckFails\n",
    "print 'avg abs err =', nCheckFailSum / nCheckFails\n"
   ]
  },
  {
   "cell_type": "markdown",
   "metadata": {},
   "source": [
    "__Caption__ The top figure shows that a disproportionate number of photons emerge at an angle of 42 to 43 degrees or so. The water droplet is acting to focus the light into a particular angle; and that angle varies a little bit with wavelength based on the locations of the red, green and blue spikes. The center figure shows that these spikes are due to a range of y-values for the incident photons, from about y = .75 to y = .9. That range gives the concentration shown by the spikes in the first figure. The third figure shows that the y value of the incident light maps into incidence angle sort of linearly for y on [0.0, 0.6] and then starts to curve for larger values of y, reaching incidence angles of 70 degrees or higher for y on [0.9, 1.0]. This information is used in a later section that accounts for all the incident light, not just the photons that follow our recipe of refract-reflect-refract.  "
   ]
  },
  {
   "cell_type": "code",
   "execution_count": null,
   "metadata": {
    "collapsed": false
   },
   "outputs": [],
   "source": [
    "\n",
    "maxRedIndex = np.where(redRange == redRange.max())[0][0]\n",
    "maxBlueIndex = np.where(blueRange == blueRange.max())[0][0]\n",
    "redMaxAngleDegrees = domain[maxRedIndex]*180.0/np.pi\n",
    "blueMaxAngleDegrees = domain[maxBlueIndex]*180.0/np.pi\n",
    "\n",
    "redMAD2 = round(redMaxAngleDegrees, 2)\n",
    "blueMAD2 = round(blueMaxAngleDegrees, 2)\n",
    "print 'red:', redRange.max(),', index', maxRedIndex, '     angle:', redMaxAngleDegrees\n",
    "print 'blue:', blueRange.max(),', index', maxBlueIndex, '     angle:', blueMaxAngleDegrees\n",
    "print 'Wikipedia rainbow is 42.00 - 40.89 =', 42.00 - 40.89, 'degrees wide'\n",
    "print 'This rainbow is', redMAD2, '-', blueMAD2, '=', round(redMaxAngleDegrees - blueMaxAngleDegrees, 2), 'degrees wide'\n",
    "\n",
    "# 40.89 to 42 (red) is 1.11 degrees (Wikipedia article on rainbows)\n",
    "# My rainbow is 1.146 degrees wide\n"
   ]
  },
  {
   "cell_type": "markdown",
   "metadata": {},
   "source": [
    "## Part 2. Photon trajectory tracer\n",
    "\n",
    "Now that we have shown an emphasized scattering direction... which is just the starting point of a convincing argument unless you like jumping to conclusions... it is time to look at what happens to the individual particles as they are incident on the water droplet. "
   ]
  },
  {
   "cell_type": "code",
   "execution_count": null,
   "metadata": {
    "collapsed": false
   },
   "outputs": [],
   "source": [
    "# let's do this the object way\n",
    "%matplotlib inline\n",
    "\n",
    "import numpy as np\n",
    "from numpy import arange\n",
    "from numpy import arctan2\n",
    "from numpy import arcsin\n",
    "from numpy import sin\n",
    "from numpy import cos\n",
    "\n",
    "# fig, ax = plt.subplots()\n",
    "fig, ax = plt.subplots(figsize=(12,10))\n",
    "\n",
    "# now we say that 'fig' is the overall canvas\n",
    "# ax is the (list of) axes\n",
    "# after this we leave fig alone and just use ax\n",
    "\n",
    "# figure contains a bunch of axes (subplots(7)) and axis contains a bunch of artists\n",
    "\n",
    "# How can we make the figure larger? \n",
    "# fig.set_figure()\n",
    "# plt.figure(figsize=(12,12))\n",
    "# fig = plt.figure(figsize=(12,10))\n",
    "\n",
    "# a patch is a filled shape\n",
    "# from matplotlib import patches\n",
    "# patches.<tab> shows you them\n",
    "ax.add_patch(plt.Circle((0, 0), 1, color = 'k', fill=False))\n",
    "\n",
    "# Drawing a distant circle as the proxy for many observing eyes (ejected ray endpoint)\n",
    "radiusCircleAtInf = 2.0\n",
    "# ax.add_patch(plt.Circle((0, 0), radiusCircleAtInf, color = 'k', fill=False))\n",
    "\n",
    "# unity aspect ratio\n",
    "ax.axis('equal')\n",
    "\n",
    "# How To note...\n",
    "# ax.set_xlim(-7, 7)\n",
    "# ax.set_ylim(-7, 7)\n",
    "\n",
    "ax.set(xlim=(-1.1, 1.5), ylim=(-1.5,1.5))\n",
    "ax.set(xlabel='x coordinate axis', ylabel = 'y coordinate axis', title='water drop slice')\n",
    "\n",
    "maxEject = -pi\n",
    "maxIncidentY = 0.0\n",
    "\n",
    "colorScheme = 1\n",
    "colorSelect = [\n",
    "    [['blue','cyan','cyan','blue'],['red','orange','orange','red']], \n",
    "    [['blue','cyan','green','black'],['none','none','none','none']], \n",
    "    [['none','none','none','none'],['red','orange','orange','red']]  \n",
    "    ]\n",
    "\n",
    "for w in range(2):\n",
    "\n",
    "    wavelength = 400 + 300*w\n",
    "\n",
    "    # indices of refraction\n",
    "    iorWater = indexOfRefraction(wavelength)\n",
    "    iorAir = indAir = 1.00029\n",
    "\n",
    "    yInterval = 0.06\n",
    "\n",
    "    for y0 in arange(w*yInterval/2., 1.0, yInterval):\n",
    "        # (x0, y0) is the point off at + infinity where one of the parallel rays comes in from\n",
    "        x0 = 3.0\n",
    "\n",
    "        # (x, y) is the point at which a ray intersects the surface of the droplet (radius = 1)\n",
    "        # Call this point P\n",
    "        # Call the center of the circle/sphere point C\n",
    "        # Call (1, 0) the point U (for Unit). It is a convenient reference point.\n",
    "        y = y0\n",
    "        x  = np.sqrt(1.0-y*y)\n",
    "\n",
    "        # here is our incident ray\n",
    "        ax.plot([x0, x], [y, y], color=colorSelect[colorScheme][w][0])\n",
    "\n",
    "        # Take out the radial lines to reduce clutter\n",
    "        # ax.plot([0.0, x], [0.0, y], color='g')\n",
    "\n",
    "        # incidenceAngle1 is measured relative to the circle (sphere) normal at (x, y)\n",
    "        incidenceAngle1 = arctan2(y, x)\n",
    "\n",
    "        # angleWater is the refracted angle: Bending in towards the normal line\n",
    "        angleWater = snell(incidenceAngle1, iorAir, iorWater)\n",
    "    \n",
    "        # the ray will deflect and strike the far wall of the droplet at point Q\n",
    "        # internal1 = angle QCP (a positive value; from isoscelesiness)\n",
    "        internal1 = pi - 2*angleWater\n",
    "\n",
    "        # internalTotal1 = angle QCU\n",
    "        internalTotal1 = internal1 + incidenceAngle1\n",
    "\n",
    "        # Q = (x2, y2)\n",
    "        x2 = cos(internalTotal1)\n",
    "        y2 = sin(internalTotal1)\n",
    "\n",
    "        # Now draw the first leg of the journey inside the water drop\n",
    "        ax.plot([x2, x], [y2, y], color=colorSelect[colorScheme][w][1])\n",
    "\n",
    "        # The light reflects at Q using angle(incidence) = angle(reflection)\n",
    "        # It will strike the surface of the droplet at point R\n",
    "        # internal2 = angle QCR\n",
    "        internal2 = pi - 2*angleWater              # the same as internal1!\n",
    "\n",
    "        # internalTotal2 = RCU measured as positive from R clockwise to U\n",
    "        internalTotal2 = internalTotal1 + internal2\n",
    "\n",
    "        # R = (x3, y3)\n",
    "        x3 = cos(internalTotal2)\n",
    "        y3 = sin(internalTotal2)\n",
    "\n",
    "        # Draw the second part of the path through the drop\n",
    "        ax.plot([x2, x3], [y2, y3], color=colorSelect[colorScheme][w][2])\n",
    "        # print rtd(angleWater)\n",
    "\n",
    "        # externalTotal is the angle UCR measured from U clockwise to R \n",
    "        # It is 'external' because this angle is the angle of the normal at R\n",
    "        externalTotal = 2*pi - internalTotal2\n",
    "\n",
    "        # The rays will escape in some direction and intersect an outer circle of radius 'large'. \n",
    "        # S = the emergent ray's point of intersection with the outer circle = (x4, y4)\n",
    "\n",
    "        # incidenceAngle2 = the incidence angle at R relative to the normal\n",
    "        incidenceAngle2 = (pi - internal2)/2.\n",
    "\n",
    "        # external = the transmission angle at R relative to the normal\n",
    "        external = snell(incidenceAngle2, iorWater, iorAir)\n",
    "\n",
    "        # ejectAngle is the angle at which the ray is ejected from the drop\n",
    "        #   measured relative to the +x-axis direction. It will tend to be\n",
    "        #   sign-changed in subsequent calculations; that is under the conditions\n",
    "        #   established here it is technically negative. Soi sage.\n",
    "        ejectAngle = externalTotal - external\n",
    "\n",
    "        if ejectAngle > maxEject:\n",
    "            maxEject = ejectAngle\n",
    "            maxIncidentY = y0\n",
    "\n",
    "        # Now we have triangle CRS from the center to the eject point R to the intersection\n",
    "        #   of the ejected ray with Circle(radius 2) at point S. We need the coordinates of \n",
    "        #   S now. We could use a very large circle centered on R as an approximation for a\n",
    "        #   very large circle centered at the origin C...\n",
    "        radiusLarge = 1000.0\n",
    "        x4 = radiusLarge * cos(-ejectAngle)\n",
    "        y4 = radiusLarge * sin(-ejectAngle)\n",
    "        ax.plot([x3, x4], [y3, y4], color=colorSelect[colorScheme][w][3])\n",
    "\n",
    "    print 'For wavelength', wavelength, 'nm the max eject angle is',\\\n",
    "        round(rtd(maxEject),2), 'at incidence y =', maxIncidentY\n"
   ]
  },
  {
   "cell_type": "markdown",
   "metadata": {},
   "source": [
    "__Caption__ This figure shows light particle paths that follow our refract-reflect-refract recipe. Recall that photons with a y value close to 1.0 do not contribute to the 'spike' (Figure 1, top and middle). Since the view here emphasizes the photon path inside the water droplet it misses the big picture of 'where does the light tend to go?' For that view we produce a new figure where the droplet is scaled down to _dot_ size."
   ]
  },
  {
   "cell_type": "markdown",
   "metadata": {
    "collapsed": true
   },
   "source": [
    "## Part 3. Droplet from a distance"
   ]
  },
  {
   "cell_type": "markdown",
   "metadata": {},
   "source": [
    "## Part 4. Fresnel has a say"
   ]
  },
  {
   "cell_type": "markdown",
   "metadata": {},
   "source": [
    "There is an important extension of the basic geometric path given above: The photon/boundary interaction is probabilistic: There are probabilities for the photon's future for transmission, reflection, scattering and absorption; and even this is a simplification. Here I constrain the discussion to _'either reflect or transmit'_ to  explore the problem of rainbows in a bit more depth:\n",
    "\n",
    "* Does the reflect / transmit probability vary with angle; which could change our intensity distribution that appeared very conveniently up above.\n",
    "* Does the reflect / transmit probability give a story for secondary, tertiary etc rainbows?\n",
    "\n",
    "The rule for transmit-versus-reflect is expounded (to a degree) by Wikipedia of course, under the topic of Fresnel equations: https://en.wikipedia.org/wiki/Fresnel_equations.\n",
    "\n",
    "Interestingly for a particular wavelength we could use red and blue lasers together with a suitable attenuated light sensor to measure the reflection as a function of angle. This would be an experiment suited to students in the 11 to 18 years age range but I would recommend incorporating it into other work so as to avoid the _geek out problem_: If an enthusiast like me goes to a lot of trouble to show something that is already well understood it is not clear that the feeling of satisfaction will be shared by others who are less enthusiastic... But there is plenty of material just on this Notebook page to arrive at 'lots more'."
   ]
  },
  {
   "cell_type": "code",
   "execution_count": null,
   "metadata": {
    "collapsed": false
   },
   "outputs": [],
   "source": [
    "from IPython.display import Image \n",
    "fresnelEquations = Image(filename='../images/Fresnel_equations_Wikipedia.png')\n",
    "fresnelEquations"
   ]
  },
  {
   "cell_type": "code",
   "execution_count": null,
   "metadata": {
    "collapsed": true
   },
   "outputs": [],
   "source": [
    "def RCoefficient(theta, n1, n2):\n",
    "    sineTerm = (n1/n2)*sin(theta)\n",
    "    radArg = 1 - sineTerm*sineTerm\n",
    "    radical = np.sqrt(radArg)\n",
    "    RsNum = n1*cos(theta) - n2*radical\n",
    "    RsDenom = n1*cos(theta) + n2*radical\n",
    "    RpNum = n1*radical - n2*cos(theta)\n",
    "    RpDenom = n1*radical + n2*cos(theta)\n",
    "    Rs = (RsNum * RsNum) / (RsDenom * RsDenom)\n",
    "    Rp = (RpNum * RpNum) / (RpDenom * RpDenom)\n",
    "    return (Rs+Rp)/2.0"
   ]
  },
  {
   "cell_type": "code",
   "execution_count": null,
   "metadata": {
    "collapsed": false
   },
   "outputs": [],
   "source": [
    "epsilon = 0.001\n",
    "domain = np.arange(-pi/2., pi/2.0, epsilon)\n",
    "print type(domain)\n",
    "\n",
    "bins = domain.shape[0]\n",
    "scale = float(bins)\n",
    "blueRange = np.zeros(bins)\n",
    "greenRange = np.zeros(bins)\n",
    "redRange = np.zeros(bins)\n",
    "\n",
    "print redRange.shape\n",
    "\n",
    "# print domain.ndim\n",
    "\n",
    "yIncident = []\n",
    "yIncidentAngleDeg = []\n",
    "angleDeg = []\n",
    "angleDeg.append([])\n",
    "angleDeg.append([])\n",
    "angleDeg.append([])\n",
    "\n",
    "fig, axes = plt.subplots(3, figsize=(10,16))\n",
    "ax0 = axes[0]\n",
    "ax1 = axes[1]\n",
    "ax2 = axes[2]\n",
    "\n",
    "for y in np.arange(0.0, 1.0, 0.000001):\n",
    "    yIncident.append(y)\n",
    "    yIncidentAngleDeg.append(np.arcsin(y)*180./pi)\n",
    "    thetaRed = dropangle(y, 700.0)\n",
    "    thetaGreen = dropangle(y, 550.0)\n",
    "    thetaBlue = dropangle(y, 400.0)\n",
    "    angleDeg[0].append(rtd(thetaRed))\n",
    "    angleDeg[1].append(rtd(thetaGreen))\n",
    "    angleDeg[2].append(rtd(thetaBlue))\n",
    "    redBin = getbin(thetaRed)\n",
    "    greenBin = getbin(thetaGreen)\n",
    "    blueBin = getbin(thetaBlue)\n",
    "    if redBin >= 0 and redBin < bins: redRange[redBin] += 1\n",
    "    if greenBin >= 0 and greenBin < bins: greenRange[greenBin] += 1\n",
    "    if blueBin >= 0 and blueBin < bins: blueRange[blueBin] += 1\n",
    "  \n",
    "# print type(domain)\n",
    "# print type(histogram)\n",
    "# plt.plot(domain, histogram)\n",
    "\n",
    "domainDegrees = domain * 180.0 / pi\n",
    "\n",
    "ax0.plot(domainDegrees, blueRange, 'b')\n",
    "ax0.plot(domainDegrees, greenRange, 'g')\n",
    "ax0.plot(domainDegrees, redRange, 'r')\n",
    "ax0.set(xlim=(10.0, 44.0))\n",
    "ax0.set(xlabel='scatter angle (deg)', ylabel = 'counts', title='scatter histogram')\n",
    "\n",
    "ax1.plot(angleDeg[0], yIncident, 'r')\n",
    "ax1.plot(angleDeg[1], yIncident, 'g')\n",
    "ax1.plot(angleDeg[2], yIncident, 'b')\n",
    "ax1.set(xlim=(10.0, 44.0))\n",
    "ax1.set(ylabel='incident ray y', xlabel = 'scatter angle (deg)', title='scatter dependency on incidence')\n",
    "\n",
    "ax2.plot(yIncidentAngleDeg, yIncident, 'k')\n",
    "# ax2.plot(angleRedDeg, yIncident, 'r')\n",
    "ax2.set(xlim=(0.0, 90.0),ylim=(0.0,1.0))\n",
    "ax2.set(ylabel='incident y value', xlabel = 'incidence angle (local, deg)', title='incidence angle dependency on ray offset')\n",
    "\n"
   ]
  },
  {
   "cell_type": "markdown",
   "metadata": {},
   "source": [
    "## Part 5. Paint balls\n",
    "\n",
    "We now have a formalism that I hope is reasonably good for tracking the fate of sunlight relative to a single water droplet. Next I would like to use that formalism to imagine that there is a collection of water droplets each of which will be subjected to sunlight. Furthermore I will treat the sunlight like little paintballs and keep track of where they wind up supposing they splatter on a big white board. Obviously the board will block the sunlight so I'll leave it to your imagination to decide how to frame the experiment in a way that will work. I'm happy to let a bunch of photons go by me and bounce back off the droplets while I put the board in place."
   ]
  },
  {
   "cell_type": "markdown",
   "metadata": {},
   "source": [
    "## Part 6. The eye of the beholder\n",
    "\n",
    "Finally (!) let's consider the cumulative effect of the droplets not on an entire surface but on only one location, that of your eye. This time I am going to put up a white board on the far side of the droplets. Now I light the sunlight shine on them; some of the photons are scattered back into my eye; and as I look around I can see the direction from whence they came. That is, I notice a blue photon coming from droplet A and a green photon coming from droplet B and so on. Whenever I see a photon of some color arriving from some droplet I will mark that location on the board with that color. Since the board is on the far side of the droplets and since the photons are always arriving at my eye from those droplets: I can always find a place to draw the dot on the board. It's a big board.  "
   ]
  },
  {
   "cell_type": "code",
   "execution_count": null,
   "metadata": {
    "collapsed": true
   },
   "outputs": [],
   "source": []
  }
 ],
 "metadata": {
  "kernelspec": {
   "display_name": "Python 2",
   "language": "python",
   "name": "python2"
  },
  "language_info": {
   "codemirror_mode": {
    "name": "ipython",
    "version": 2
   },
   "file_extension": ".py",
   "mimetype": "text/x-python",
   "name": "python",
   "nbconvert_exporter": "python",
   "pygments_lexer": "ipython2",
   "version": "2.7.10"
  }
 },
 "nbformat": 4,
 "nbformat_minor": 0
}
