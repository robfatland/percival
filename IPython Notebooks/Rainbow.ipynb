{
 "metadata": {
  "name": "",
  "signature": "sha256:4cf0c872734ebf4dc90580b4dd54e08a20aedac0281b2a7138f4e5e84d165e39"
 },
 "nbformat": 3,
 "nbformat_minor": 0,
 "worksheets": [
  {
   "cells": [
    {
     "cell_type": "code",
     "collapsed": false,
     "input": [
      "import numpy as np\n",
      "import scipy as sp\n",
      "\n",
      "%pylab inline\n",
      "\n",
      "epsilon = 0.001\n",
      "domain = np.arange(-np.pi/2.0, np.pi/2.0, epsilon)\n",
      "\n",
      "print type(domain)\n",
      "bins = domain.shape[0]\n",
      "scale = float(bins)\n",
      "blueRange = np.zeros(bins)\n",
      "redRange = np.zeros(bins)\n",
      "\n",
      "print redRange.shape\n",
      "\n",
      "# print domain.ndim"
     ],
     "language": "python",
     "metadata": {},
     "outputs": [
      {
       "output_type": "stream",
       "stream": "stdout",
       "text": [
        "Populating the interactive namespace from numpy and matplotlib\n",
        "<type 'numpy.ndarray'>\n",
        "(3142L,)\n"
       ]
      }
     ],
     "prompt_number": 29
    },
    {
     "cell_type": "code",
     "collapsed": false,
     "input": [
      "def index(wavelength):\n",
      "    if (wavelength < 400.0): return\n",
      "    if (wavelength > 700.0): return\n",
      "    ind400 = 1.339\n",
      "    ind700 = 1.331\n",
      "    deltaind = ind700 - ind400\n",
      "    deltawavefraction = (wavelength - 400.0)/300.0\n",
      "    return (deltaind * deltawavefraction) + ind400\n"
     ],
     "language": "python",
     "metadata": {},
     "outputs": [],
     "prompt_number": 30
    },
    {
     "cell_type": "code",
     "collapsed": false,
     "input": [
      "def dropangle(y, wavelength):\n",
      "    if (y < 0.0):\n",
      "        return\n",
      "    elif (y > 1.0): \n",
      "        return\n",
      "    indWater = index(wavelength)\n",
      "    indAir = 1.00029\n",
      "    theta1 = np.arcsin(y)\n",
      "    theta2 = np.arcsin(np.sin(theta1)*(indAir/indWater))\n",
      "    return 4.0*theta2-2.0*theta1\n"
     ],
     "language": "python",
     "metadata": {},
     "outputs": [],
     "prompt_number": 31
    },
    {
     "cell_type": "code",
     "collapsed": false,
     "input": [
      "def getbin(theta):\n",
      "    if (theta < -np.pi/2.0): return\n",
      "    if (theta > np.pi/2.0): return\n",
      "    \n",
      "    bin = int((theta+np.pi/2.0)*(scale/np.pi))\n",
      "    if (bin >= 0 and bin < bins):\n",
      "        return bin\n",
      "    "
     ],
     "language": "python",
     "metadata": {},
     "outputs": [],
     "prompt_number": 32
    },
    {
     "cell_type": "code",
     "collapsed": false,
     "input": [
      "for y in np.arange(0.0,1.0, 0.00001):\n",
      "    thetaRed = dropangle(y, 700.0)\n",
      "    thetaBlue = dropangle(y, 400.0)\n",
      "    redBin = getbin(thetaRed)\n",
      "    blueBin = getbin(thetaBlue)\n",
      "    if blueBin >= 0 and blueBin < bins: blueRange[blueBin] += 1.0\n",
      "    if redBin >= 0 and redBin < bins: redRange[redBin] += 1.0\n",
      "  \n",
      "# print type(domain)\n",
      "# print type(histogram)\n",
      "\n",
      "# plt.plot(domain, histogram)\n",
      "\n",
      "domainDegrees = domain * 180.0 / np.pi\n",
      "\n",
      "plt.plot(domainDegrees, blueRange, 'b')\n",
      "plt.plot(domainDegrees, redRange, 'r')\n",
      "\n",
      "plt.xlim([30.0, 45.0])\n"
     ],
     "language": "python",
     "metadata": {},
     "outputs": [
      {
       "metadata": {},
       "output_type": "pyout",
       "prompt_number": 50,
       "text": [
        "(30.0, 45.0)"
       ]
      },
      {
       "metadata": {},
       "output_type": "display_data",
       "png": "[encoded data removed]",
       "text": [
        "<matplotlib.figure.Figure at 0xa7f3358>"
       ]
      }
     ],
     "prompt_number": 50
    },
    {
     "cell_type": "code",
     "collapsed": false,
     "input": [
      "\n",
      "maxRedIndex = np.where(redRange == redRange.max())[0][0]\n",
      "maxBlueIndex = np.where(blueRange == blueRange.max())[0][0]\n",
      "redMaxAngleDegrees = domain[maxRedIndex]*180.0/np.pi\n",
      "blueMaxAngleDegrees = domain[maxBlueIndex]*180.0/np.pi\n",
      "print 'red:', redRange.max(),', index', maxRedIndex, '     angle:', redMaxAngleDegrees\n",
      "print 'blue:', blueRange.max(),', index', maxBlueIndex, '     angle:', blueMaxAngleDegrees\n",
      "print 'Wikipedia rainbow is 42.00 - 40.89 =', 42.00 - 40.89, 'degrees wide'\n",
      "print 'This rainbow is', redMaxAngleDegrees - blueMaxAngleDegrees, 'degrees wide'\n",
      "\n",
      "# 40.89 to 42 (red) is 1.11 degrees (Wikipedia article on rainbows)\n",
      "# My rainbow is 1.146 degrees wide\n"
     ],
     "language": "python",
     "metadata": {},
     "outputs": [
      {
       "output_type": "stream",
       "stream": "stdout",
       "text": [
        "red: 2153.0 , index 2311      angle: 42.4105464547\n",
        "blue: 1774.0 , index 2291      angle: 41.2646308645\n",
        "Wikipedia rainbow is 42.00 - 40.89 = 1.11 degrees wide\n",
        "This rainbow is 1.14591559026 degrees wide\n"
       ]
      }
     ],
     "prompt_number": 34
    },
    {
     "cell_type": "code",
     "collapsed": false,
     "input": [],
     "language": "python",
     "metadata": {},
     "outputs": [],
     "prompt_number": 34
    },
    {
     "cell_type": "code",
     "collapsed": false,
     "input": [
      "import numpy as np"
     ],
     "language": "python",
     "metadata": {},
     "outputs": [],
     "prompt_number": 35
    },
    {
     "cell_type": "code",
     "collapsed": false,
     "input": [
      "# Path 1 is along the edges... very long!\n",
      "p1 = 3 + 0.5\n",
      "print p1\n"
     ],
     "language": "python",
     "metadata": {},
     "outputs": [
      {
       "output_type": "stream",
       "stream": "stdout",
       "text": [
        "3.5\n"
       ]
      }
     ],
     "prompt_number": 36
    },
    {
     "cell_type": "code",
     "collapsed": false,
     "input": [
      "# path 2 is two diagonals: across the 1-dot face and across the 2-dot face\n",
      "p2 = np.sqrt(2) + np.sqrt(5)/2.0\n",
      "print p2\n"
     ],
     "language": "python",
     "metadata": {},
     "outputs": [
      {
       "output_type": "stream",
       "stream": "stdout",
       "text": [
        "2.53224755112\n"
       ]
      }
     ],
     "prompt_number": 37
    },
    {
     "cell_type": "code",
     "collapsed": false,
     "input": [
      "# path 3 is a long diagonal across face 1-dot, 3-dot and 2-dot\n",
      "p3 = 5.0 / 2.0\n",
      "print p3"
     ],
     "language": "python",
     "metadata": {},
     "outputs": [
      {
       "output_type": "stream",
       "stream": "stdout",
       "text": [
        "2.5\n"
       ]
      }
     ],
     "prompt_number": 38
    },
    {
     "cell_type": "code",
     "collapsed": false,
     "input": [
      "# path 4 is another diagonal that goes across face 1-dot and face 2-dot (but the other version of face 2-dot)\n",
      "p4 = np.sqrt(17.0)/2.0\n",
      "print p4"
     ],
     "language": "python",
     "metadata": {},
     "outputs": [
      {
       "output_type": "stream",
       "stream": "stdout",
       "text": [
        "2.06155281281\n"
       ]
      }
     ],
     "prompt_number": 39
    },
    {
     "cell_type": "code",
     "collapsed": false,
     "input": [
      "# print 'hello'"
     ],
     "language": "python",
     "metadata": {},
     "outputs": [],
     "prompt_number": 40
    },
    {
     "cell_type": "code",
     "collapsed": false,
     "input": [
      "print \"hello\"\n"
     ],
     "language": "python",
     "metadata": {},
     "outputs": [
      {
       "output_type": "stream",
       "stream": "stdout",
       "text": [
        "hello\n"
       ]
      }
     ],
     "prompt_number": 41
    },
    {
     "cell_type": "code",
     "collapsed": false,
     "input": [],
     "language": "python",
     "metadata": {},
     "outputs": [],
     "prompt_number": 41
    },
    {
     "cell_type": "code",
     "collapsed": false,
     "input": [],
     "language": "python",
     "metadata": {},
     "outputs": [],
     "prompt_number": 18
    },
    {
     "cell_type": "code",
     "collapsed": false,
     "input": [],
     "language": "python",
     "metadata": {},
     "outputs": []
    }
   ],
   "metadata": {}
  }
 ]
}