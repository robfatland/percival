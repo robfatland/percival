{
 "cells": [
  {
   "cell_type": "code",
   "execution_count": 1,
   "metadata": {
    "collapsed": false
   },
   "outputs": [
    {
     "name": "stdout",
     "output_type": "stream",
     "text": [
      "Populating the interactive namespace from numpy and matplotlib\n",
      "<type 'numpy.ndarray'>\n",
      "(3142L,)\n"
     ]
    }
   ],
   "source": [
    "%matplotlib inline\n",
    "\n",
    "import numpy as np\n",
    "import scipy as sp\n",
    "\n",
    "epsilon = 0.001\n",
    "domain = np.arange(-np.pi/2.0, np.pi/2.0, epsilon)\n",
    "\n",
    "print type(domain)\n",
    "bins = domain.shape[0]\n",
    "scale = float(bins)\n",
    "blueRange = np.zeros(bins)\n",
    "redRange = np.zeros(bins)\n",
    "\n",
    "print redRange.shape\n",
    "\n",
    "# print domain.ndim"
   ]
  },
  {
   "cell_type": "code",
   "execution_count": 2,
   "metadata": {
    "collapsed": false
   },
   "outputs": [],
   "source": [
    "def index(wavelength):\n",
    "    if (wavelength < 400.0): return\n",
    "    if (wavelength > 700.0): return\n",
    "    ind400 = 1.339\n",
    "    ind700 = 1.331\n",
    "    deltaind = ind700 - ind400\n",
    "    deltawavefraction = (wavelength - 400.0)/300.0\n",
    "    return (deltaind * deltawavefraction) + ind400\n"
   ]
  },
  {
   "cell_type": "code",
   "execution_count": 3,
   "metadata": {
    "collapsed": false
   },
   "outputs": [],
   "source": [
    "def dropangle(y, wavelength):\n",
    "    if (y < 0.0):\n",
    "        return\n",
    "    elif (y > 1.0): \n",
    "        return\n",
    "    indWater = index(wavelength)\n",
    "    indAir = 1.00029\n",
    "    theta1 = np.arcsin(y)\n",
    "    theta2 = np.arcsin(np.sin(theta1)*(indAir/indWater))\n",
    "    return 4.0*theta2-2.0*theta1\n"
   ]
  },
  {
   "cell_type": "code",
   "execution_count": 4,
   "metadata": {
    "collapsed": false
   },
   "outputs": [],
   "source": [
    "def getbin(theta):\n",
    "    if (theta < -np.pi/2.0): return\n",
    "    if (theta > np.pi/2.0): return\n",
    "    \n",
    "    bin = int((theta+np.pi/2.0)*(scale/np.pi))\n",
    "    if (bin >= 0 and bin < bins):\n",
    "        return bin\n",
    "    "
   ]
  },
  {
   "cell_type": "code",
   "execution_count": 5,
   "metadata": {
    "collapsed": false
   },
   "outputs": [
    {
     "data": {
      "text/plain": [
       "(30.0, 45.0)"
      ]
     },
     "execution_count": 5,
     "metadata": {},
     "output_type": "execute_result"
    },
    {
     "data": {
      "image/png": "[encoded data removed]",
      "text/plain": [
       "<matplotlib.figure.Figure at 0x3cade80>"
      ]
     },
     "metadata": {},
     "output_type": "display_data"
    }
   ],
   "source": [
    "for y in np.arange(0.0,1.0, 0.00001):\n",
    "    thetaRed = dropangle(y, 700.0)\n",
    "    thetaBlue = dropangle(y, 400.0)\n",
    "    redBin = getbin(thetaRed)\n",
    "    blueBin = getbin(thetaBlue)\n",
    "    if blueBin >= 0 and blueBin < bins: blueRange[blueBin] += 1.0\n",
    "    if redBin >= 0 and redBin < bins: redRange[redBin] += 1.0\n",
    "  \n",
    "# print type(domain)\n",
    "# print type(histogram)\n",
    "\n",
    "# plt.plot(domain, histogram)\n",
    "\n",
    "domainDegrees = domain * 180.0 / np.pi\n",
    "\n",
    "plt.plot(domainDegrees, blueRange, 'b')\n",
    "plt.plot(domainDegrees, redRange, 'r')\n",
    "\n",
    "plt.xlim([30.0, 45.0])\n"
   ]
  },
  {
   "cell_type": "code",
   "execution_count": 6,
   "metadata": {
    "collapsed": false
   },
   "outputs": [
    {
     "name": "stdout",
     "output_type": "stream",
     "text": [
      "red: 2153.0 , index 2311      angle: 42.4105464547\n",
      "blue: 1774.0 , index 2291      angle: 41.2646308645\n",
      "Wikipedia rainbow is 42.00 - 40.89 = 1.11 degrees wide\n",
      "This rainbow is 1.14591559026 degrees wide\n"
     ]
    }
   ],
   "source": [
    "\n",
    "maxRedIndex = np.where(redRange == redRange.max())[0][0]\n",
    "maxBlueIndex = np.where(blueRange == blueRange.max())[0][0]\n",
    "redMaxAngleDegrees = domain[maxRedIndex]*180.0/np.pi\n",
    "blueMaxAngleDegrees = domain[maxBlueIndex]*180.0/np.pi\n",
    "print 'red:', redRange.max(),', index', maxRedIndex, '     angle:', redMaxAngleDegrees\n",
    "print 'blue:', blueRange.max(),', index', maxBlueIndex, '     angle:', blueMaxAngleDegrees\n",
    "print 'Wikipedia rainbow is 42.00 - 40.89 =', 42.00 - 40.89, 'degrees wide'\n",
    "print 'This rainbow is', redMaxAngleDegrees - blueMaxAngleDegrees, 'degrees wide'\n",
    "\n",
    "# 40.89 to 42 (red) is 1.11 degrees (Wikipedia article on rainbows)\n",
    "# My rainbow is 1.146 degrees wide\n"
   ]
  },
  {
   "cell_type": "code",
   "execution_count": null,
   "metadata": {
    "collapsed": false
   },
   "outputs": [],
   "source": []
  },
  {
   "cell_type": "code",
   "execution_count": null,
   "metadata": {
    "collapsed": false
   },
   "outputs": [],
   "source": [
    "# Path 1 is along the edges... very long!\n",
    "p1 = 3 + 0.5\n",
    "print p1\n"
   ]
  },
  {
   "cell_type": "code",
   "execution_count": null,
   "metadata": {
    "collapsed": false
   },
   "outputs": [],
   "source": [
    "# path 2 is two diagonals: across the 1-dot face and across the 2-dot face\n",
    "p2 = np.sqrt(2) + np.sqrt(5)/2.0\n",
    "print p2\n"
   ]
  },
  {
   "cell_type": "code",
   "execution_count": null,
   "metadata": {
    "collapsed": false
   },
   "outputs": [],
   "source": [
    "# path 3 is a long diagonal across face 1-dot, 3-dot and 2-dot\n",
    "p3 = 5.0 / 2.0\n",
    "print p3"
   ]
  },
  {
   "cell_type": "code",
   "execution_count": null,
   "metadata": {
    "collapsed": false
   },
   "outputs": [],
   "source": [
    "# path 4 is another diagonal that goes across face 1-dot and face 2-dot (but the other version of face 2-dot)\n",
    "p4 = np.sqrt(17.0)/2.0\n",
    "print p4\n",
    "print p3"
   ]
  },
  {
   "cell_type": "code",
   "execution_count": 10,
   "metadata": {
    "collapsed": false
   },
   "outputs": [
    {
     "data": {
      "text/plain": [
       "(-2, 2)"
      ]
     },
     "execution_count": 10,
     "metadata": {},
     "output_type": "execute_result"
    },
    {
     "data": {
      "image/png": "[encoded data removed]",
      "text/plain": [
       "<matplotlib.figure.Figure at 0xbc674a8>"
      ]
     },
     "metadata": {},
     "output_type": "display_data"
    }
   ],
   "source": [
    "# deprecated combination of stateful and object interfaces\n",
    "import matplotlib.pyplot as plt\n",
    "\n",
    "circle1=plt.Circle((0,0), 1.0, color='k', fill=False)\n",
    "# circle2=plt.Circle((.5,.5),.2,color='b')\n",
    "# circle3=plt.Circle((1,1),.2,color='g',clip_on=False)\n",
    "\n",
    "fig = plt.figure()\n",
    "fig.gca().add_artist(circle1)\n",
    "plt.axis('equal') # Hah! The aspect ratio is ok\n",
    "plt.xlim(-2, 2)\n",
    "\n",
    "# Intellisense-ish: plt. and then press tab...\n",
    "# np.linspace() and inside the parens shift-tab to see the arg list; and shift-tab twice for extended summary\n",
    "# and shift-tab four times to pop that out. \n",
    "# plt is a stateful interface: current figure, axis and so on; so plt.X can change state\n",
    "# Try plt.plot?? getting the source code...\n",
    "# Try plt.plot? getting the documentation\n",
    "# gca means get current axis\n",
    "# fig.gca().add_artist(circle2)\n",
    "# fig.gca().add_artist(circle3)\n",
    "# fig.savefig('plotcircles.png')"
   ]
  },
  {
   "cell_type": "code",
   "execution_count": 20,
   "metadata": {
    "collapsed": false
   },
   "outputs": [
    {
     "data": {
      "text/plain": [
       "[<matplotlib.lines.Line2D at 0x3cfe668>]"
      ]
     },
     "execution_count": 20,
     "metadata": {},
     "output_type": "execute_result"
    },
    {
     "data": {
      "image/png": "[encoded data removed]",
      "text/plain": [
       "<matplotlib.figure.Figure at 0xba5d978>"
      ]
     },
     "metadata": {},
     "output_type": "display_data"
    }
   ],
   "source": [
    "# let's do this the object way\n",
    "%matplotlib inline\n",
    "fig, ax = plt.subplots()\n",
    "\n",
    "# now we say that 'fig' is the overall canvas\n",
    "# ax is the (list of) axes\n",
    "# after this we leave fig alone and just use ax\n",
    "\n",
    "# figure contains a bunch of axes (subplots(7)) and axis contains a bunch of artists\n",
    "\n",
    "# a patch is a filled shape\n",
    "# from matplotlib import patches\n",
    "# patches.<tab> shows you them\n",
    "ax.add_patch(plt.Circle((0, 0), 1, color = 'k', fill=False))\n",
    "\n",
    "ax.axis('equal')\n",
    "ax.set_xlim(-7, 7)\n",
    "\n",
    "# add this...\n",
    "ax.set_ylim(-6, 6)\n",
    "\n",
    "ax.set(xlim=(-2, 2), ylim=(-3,3))\n",
    "ax.set(xlabel='yah', title='balh')\n",
    "\n",
    "x1 = 1.9\n",
    "x2 = 0.1\n",
    "y1 = 0.5\n",
    "y2 = 0.5\n",
    "\n",
    "ax.plot([x1, x2], [y1, y2])\n",
    "\n",
    "# python data science handbook (o'reilly)\n"
   ]
  },
  {
   "cell_type": "code",
   "execution_count": null,
   "metadata": {
    "collapsed": true
   },
   "outputs": [],
   "source": []
  }
 ],
 "metadata": {
  "kernelspec": {
   "display_name": "Python 2",
   "language": "python",
   "name": "python2"
  },
  "language_info": {
   "codemirror_mode": {
    "name": "ipython",
    "version": 2
   },
   "file_extension": ".py",
   "mimetype": "text/x-python",
   "name": "python",
   "nbconvert_exporter": "python",
   "pygments_lexer": "ipython2",
   "version": "2.7.10"
  }
 },
 "nbformat": 4,
 "nbformat_minor": 0
}
