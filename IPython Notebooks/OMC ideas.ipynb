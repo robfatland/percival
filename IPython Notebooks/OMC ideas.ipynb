{
 "cells": [
  {
   "cell_type": "code",
   "execution_count": 2,
   "metadata": {
    "collapsed": false
   },
   "outputs": [],
   "source": [
    "import numpy as np\n",
    "import random as r\n"
   ]
  },
  {
   "cell_type": "code",
   "execution_count": 5,
   "metadata": {
    "collapsed": false
   },
   "outputs": [
    {
     "name": "stdout",
     "output_type": "stream",
     "text": [
      "0.5\n"
     ]
    }
   ],
   "source": [
    "# let's explore adding up an infinite number of fractions\n",
    "# we say '1.' rather than '1' so that it will not be rounded down\n",
    "print 1./2."
   ]
  },
  {
   "cell_type": "code",
   "execution_count": 6,
   "metadata": {
    "collapsed": false
   },
   "outputs": [
    {
     "name": "stdout",
     "output_type": "stream",
     "text": [
      "0.5\n"
     ]
    }
   ],
   "source": [
    "print 1./2"
   ]
  },
  {
   "cell_type": "code",
   "execution_count": 7,
   "metadata": {
    "collapsed": false
   },
   "outputs": [
    {
     "name": "stdout",
     "output_type": "stream",
     "text": [
      "0\n"
     ]
    }
   ],
   "source": [
    "print 1/2"
   ]
  },
  {
   "cell_type": "code",
   "execution_count": 8,
   "metadata": {
    "collapsed": false
   },
   "outputs": [
    {
     "name": "stdout",
     "output_type": "stream",
     "text": [
      "0\n"
     ]
    }
   ],
   "source": [
    "# You can see that when they are both written as integers we get the integer result; \n",
    "# which is 1/2 rounded down. Do you suppose it will round 5/6 up or down?\n",
    "print 5/6"
   ]
  },
  {
   "cell_type": "code",
   "execution_count": null,
   "metadata": {
    "collapsed": true
   },
   "outputs": [],
   "source": [
    "# Ah it rounds down. So let's be careful to use decimal points so we get proper decimal answers\n",
    "print 5./6."
   ]
  },
  {
   "cell_type": "code",
   "execution_count": 10,
   "metadata": {
    "collapsed": false
   },
   "outputs": [
    {
     "name": "stdout",
     "output_type": "stream",
     "text": [
      "1.75\n"
     ]
    }
   ],
   "source": [
    "# Ok now what is 1 + 1/2 + 1/4?\n",
    "print 1. + 1./2. + 1./4."
   ]
  },
  {
   "cell_type": "code",
   "execution_count": 11,
   "metadata": {
    "collapsed": false
   },
   "outputs": [
    {
     "name": "stdout",
     "output_type": "stream",
     "text": [
      "1.99609375\n"
     ]
    }
   ],
   "source": [
    "# Makes sense. What if we keep adding 2 raised to negative powers? \n",
    "print 1. + 1./2. + 1./4. + 1./8. + 1./16. + 1./32. + 1./64. + 1./128. + 1./256."
   ]
  },
  {
   "cell_type": "code",
   "execution_count": 17,
   "metadata": {
    "collapsed": false
   },
   "outputs": [
    {
     "name": "stdout",
     "output_type": "stream",
     "text": [
      "0 0.0 1.0 1.0\n",
      "1 1.0 2.0 0.5\n",
      "2 2.0 4.0 0.25\n",
      "3 3.0 8.0 0.125\n",
      "4 4.0 16.0 0.0625\n",
      "5 5.0 32.0 0.03125\n",
      "6 6.0 64.0 0.015625\n",
      "7 7.0 128.0 0.0078125\n",
      "8 8.0 256.0 0.00390625\n",
      "9 9.0 512.0 0.001953125\n",
      "10 10.0 1024.0 0.0009765625\n",
      "11 11.0 2048.0 0.00048828125\n",
      "12 12.0 4096.0 0.000244140625\n",
      "13 13.0 8192.0 0.0001220703125\n",
      "14 14.0 16384.0 6.103515625e-05\n",
      "15 15.0 32768.0 3.0517578125e-05\n",
      "16 16.0 65536.0 1.52587890625e-05\n",
      "17 17.0 131072.0 7.62939453125e-06\n",
      "18 18.0 262144.0 3.81469726563e-06\n",
      "19 19.0 524288.0 1.90734863281e-06\n"
     ]
    }
   ],
   "source": [
    "# looks like it is approaching 2.0. Does that make sense? \n",
    "# Here is how we could calculate a bunch of fractions using a loop\n",
    "for i in range(20):\n",
    "    print i, float(i), np.power(2., float(i)), 1./np.power(2., float(i))"
   ]
  },
  {
   "cell_type": "code",
   "execution_count": 18,
   "metadata": {
    "collapsed": false
   },
   "outputs": [
    {
     "name": "stdout",
     "output_type": "stream",
     "text": [
      "0 1.0\n",
      "1 1.5\n",
      "2 1.75\n",
      "3 1.875\n",
      "4 1.9375\n",
      "5 1.96875\n",
      "6 1.984375\n",
      "7 1.9921875\n",
      "8 1.99609375\n",
      "9 1.998046875\n",
      "10 1.9990234375\n",
      "11 1.99951171875\n",
      "12 1.99975585938\n",
      "13 1.99987792969\n",
      "14 1.99993896484\n",
      "15 1.99996948242\n",
      "16 1.99998474121\n",
      "17 1.99999237061\n",
      "18 1.9999961853\n",
      "19 1.99999809265\n"
     ]
    }
   ],
   "source": [
    "# let's do that again but include a 'sum' bucket to add them up\n",
    "sum = 0.\n",
    "for i in range(20):\n",
    "    sum += 1./np.power(2., float(i))\n",
    "    print i, sum"
   ]
  },
  {
   "cell_type": "markdown",
   "metadata": {},
   "source": [
    "That bears out the idea that we are getting closer and closer to 2 in our sum. \n",
    "It is an interesting question to think about how you could prove that the sum is\n",
    "actually 2.0. It is like Zeno's paradox: You never quite seem to get there...\n",
    "But what if you have the ability to add up an infinite number of fractions? \n",
    "Do you get to 2?\n",
    "\n",
    "The power of computation is in repetition and finding certain answers. However\n",
    "no amount of computation in this way is going to prove that the infinite sum\n",
    "of fractions is 2.\n",
    "\n",
    "Consider Mr. Halfway. He starts at Zero and goes halfway to One; then he gets frustrated\n",
    "and turns around and comes halfway back to where he began. Then he turns around and goes \n",
    "halfway to where he turned around the first time. And so on... forever.\n",
    "\n",
    "Where does Mr. Halfway end up?"
   ]
  },
  {
   "cell_type": "code",
   "execution_count": 28,
   "metadata": {
    "collapsed": false
   },
   "outputs": [
    {
     "name": "stdout",
     "output_type": "stream",
     "text": [
      "1.0 0.5\n",
      "2.0 0.25\n",
      "3.0 0.375\n",
      "4.0 0.3125\n",
      "5.0 0.34375\n",
      "6.0 0.328125\n",
      "7.0 0.3359375\n",
      "8.0 0.33203125\n",
      "9.0 0.333984375\n",
      "10.0 0.3330078125\n",
      "11.0 0.33349609375\n",
      "12.0 0.333251953125\n",
      "13.0 0.333374023438\n",
      "14.0 0.333312988281\n",
      "15.0 0.333343505859\n",
      "16.0 0.33332824707\n",
      "17.0 0.333335876465\n",
      "18.0 0.333332061768\n",
      "19.0 0.333333969116\n",
      "20.0 0.333333015442\n"
     ]
    }
   ],
   "source": [
    "sum = 0.\n",
    "halfway = 0.5\n",
    "direction = 1.0\n",
    "for i in range(20):\n",
    "    exponent = i + 1.\n",
    "    sum += direction * np.power(halfway, exponent)\n",
    "    direction = -direction\n",
    "    print exponent, sum"
   ]
  },
  {
   "cell_type": "markdown",
   "metadata": {},
   "source": [
    "So where does Mr. Halfway seem to be going? \n",
    "\n",
    "Can you prove that Mr. Halfway winds up where he seems to be going? \n",
    "\n",
    "Here is one possible approach. Set his destination as x. \n",
    "\n",
    "Write x as a sum of an infinite number of fractions. Don't write them all down; just enough to see the pattern.\n",
    "\n",
    "Write it again in parentheses and multiply it by -1/2.\n",
    "\n",
    "The rest is up to you."
   ]
  },
  {
   "cell_type": "code",
   "execution_count": null,
   "metadata": {
    "collapsed": true
   },
   "outputs": [],
   "source": []
  }
 ],
 "metadata": {
  "anaconda-cloud": {},
  "kernelspec": {
   "display_name": "Python [default]",
   "language": "python",
   "name": "python2"
  },
  "language_info": {
   "codemirror_mode": {
    "name": "ipython",
    "version": 2
   },
   "file_extension": ".py",
   "mimetype": "text/x-python",
   "name": "python",
   "nbconvert_exporter": "python",
   "pygments_lexer": "ipython2",
   "version": "2.7.12"
  }
 },
 "nbformat": 4,
 "nbformat_minor": 1
}
