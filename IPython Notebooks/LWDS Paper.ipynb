{
 "cells": [
  {
   "cell_type": "code",
   "execution_count": 1,
   "metadata": {
    "collapsed": false
   },
   "outputs": [],
   "source": [
    "import numpy\n",
    "import scipy\n",
    "import json\n",
    "import urlparse\n",
    "import requests\n",
    "from IPython.display import Image"
   ]
  },
  {
   "cell_type": "markdown",
   "metadata": {},
   "source": [
    "# Lightweight Data Systems Workshop May 2015\n",
    "\n",
    "Convened by Anthony Arendt (UW/APL), Rob Fatland (MSR), Joe Futrelle (WHOI), Nancy Hess (PNNL), Bill Howe (UW), Lee Ann McCue (PNNL)"
   ]
  },
  {
   "cell_type": "markdown",
   "metadata": {},
   "source": [
    "#### Note that 'Kilroy' flags a point as needing work\n",
    "#### Note that 'LWDS' is the preferred abbreviation\n",
    "#### Other notes here..."
   ]
  },
  {
   "cell_type": "markdown",
   "metadata": {},
   "source": [
    "### Introduction and Motivation\n",
    "\n",
    "This two-day Lightweight Data Systems (LWDS) workshop is a collective thought process effort – \n",
    "responding to a common impulse in [earth system] science: \n",
    "“I’d like to build a small data management system; so how should I proceed?”\n",
    "\n",
    "\n",
    "Drawing from our collective domain interests we are exploring \n",
    "“What are the considerations we can share in response?” \n",
    "towards data management that does more than merely check the DMP box in an NSF proposal.\n",
    "\n",
    "\n",
    "Domain research is complex and detailed; so with this topic. \n",
    "We will consider a number of leading questions; including \n",
    "‘How far down the complexity rabbit hole can such a system go?’ \n",
    "i.e. if research divides roughly into perfunctory and exploratory phases: \n",
    "When why and how can perfunctory analysis be formalized as a service \n",
    "that everyone can use? \n",
    "And is there a commensurate Triumph of the Commons where this community benefits from sharing data?"
   ]
  },
  {
   "cell_type": "markdown",
   "metadata": {},
   "source": [
    "### Workshop Outcomes\n",
    "\n",
    "##### Outcome 1 The FAQ + Paper 1 + Paper 2\n",
    "\n",
    "The FAQ is a hypothetical document.\n",
    "\n",
    "Paper 1 is an opinion piece; to Nancy.\n",
    "\n",
    "Paper 2 is a write-up of technical components of the workshop discussion; to Rob.\n",
    "\n",
    "##### Outcome 2 The Landscape\n",
    "\n",
    "##### Outcome 3 The Roadmap\n",
    "\n",
    "##### Outcome 4 The Curriculum\n",
    "\n",
    "##### Outcome 5 The Road Test Workshop\n",
    "\n"
   ]
  },
  {
   "cell_type": "code",
   "execution_count": null,
   "metadata": {
    "collapsed": false
   },
   "outputs": [],
   "source": []
  },
  {
   "cell_type": "markdown",
   "metadata": {},
   "source": [
    "### Guidelines \n",
    "\n",
    "Written with the \"modest research team\" as the target audience. Not necessarily but quite possibly in a scientific domain.\n",
    "\n",
    "Carry forward a cognizance of meters/needles, e.g. ridiculous ------- sublime).\n",
    "\n",
    "Specificity flow: From Domains > Data > Data Management > Perhaps an LWDS solution\n",
    "   \n",
    "Domain considerations are drivers; “Where is this going?\"\n",
    "\n",
    "Wide-world considerations: \"What else could/should we be thinking about?\"     \n",
    "\n",
    "One can ask “How does this generalize? How does it extend?” where the answer should sound like\n",
    "\"Not much extra work was involved and we are now part of a growing community of LWDS-builders...\"\n",
    "\n",
    "\n",
    "##### Things to Provide\n",
    "\n",
    "Basic explanation / lexicon\n",
    "1. What is the cloud? (disk / server / apps / services / ...)\n",
    "2. What is iPython? A shell! (http://en.wikipedia.org/wiki/IPython)\n",
    "3. What is PostgreSQL? A free database system with geospatial support\n",
    "4. And so on\n",
    "    \n",
    "Technology evaluation\n",
    "1. What role does it play? \n",
    "2. What are tradeoffs in its use? \n",
    "3. How much time to learn?  \n",
    "\n"
   ]
  },
  {
   "cell_type": "code",
   "execution_count": null,
   "metadata": {
    "collapsed": false
   },
   "outputs": [],
   "source": []
  },
  {
   "cell_type": "markdown",
   "metadata": {},
   "source": [
    "Mike's Law: Everyone should have their own law. It is the law. Somewhere.\n",
    "\n",
    "Bill’s Law: Provide a service to incentivize and grow community adoption\n",
    "\n",
    "Rob’s Law: Rob doesn’t know what he is doing. \n",
    "    (Trans: Data is never used in the manner in which it is acquired. \n",
    "     (Trans: Decouple scientist from data use.)) \n"
   ]
  },
  {
   "cell_type": "code",
   "execution_count": null,
   "metadata": {
    "collapsed": false
   },
   "outputs": [],
   "source": []
  },
  {
   "cell_type": "markdown",
   "metadata": {},
   "source": [
    "### Technologies\n",
    "\n",
    "##### Cloud solutions (Azure, Myria, SQL Share, ...)\n",
    "\n",
    "##### Languages (Python, ...)\n",
    "\n",
    "SYWTBALWDS\n",
    "\n",
    "advice There are many programming languages available, they can be integrated, and they have attributes that \n",
    "will make them more or less appealing to apply to your data science problems. \n",
    "\n",
    "Let's describe programming languages and how they can be integrated.\n",
    "\n",
    "##### Web Application Frameworks (Django, ...)\n",
    "\n",
    "##### Command shells (PowerShell, ssh, Ipython, ...)\n",
    "\n",
    "##### Analysis tools (AzureML, R, ...)\n"
   ]
  },
  {
   "cell_type": "code",
   "execution_count": null,
   "metadata": {
    "collapsed": false
   },
   "outputs": [],
   "source": []
  },
  {
   "cell_type": "markdown",
   "metadata": {},
   "source": [
    "### BLD Birth Life and Death of an LWDS\n",
    "\n",
    "We maintain that BLD is a necessary component of one's approach to LWDS \n",
    "\n",
    "We say 'Organized data will outlive the parent data system.\n",
    "Perhaps it runs for 2 years.  \n",
    "\n",
    "Aggregate data\n",
    "Fuel papers \n",
    "Export the database shut it down\n",
    "\n",
    "(If the LWDS is still in high demand: That's a nice problem to have.)"
   ]
  },
  {
   "cell_type": "code",
   "execution_count": null,
   "metadata": {
    "collapsed": false
   },
   "outputs": [],
   "source": []
  },
  {
   "cell_type": "markdown",
   "metadata": {},
   "source": [
    "### Data Taxonomy\n",
    "\n",
    "- In situ\n",
    "- Virtual sensors\n",
    "- Remote sensing\n",
    "- Lab work\n",
    "- Sample processing\n",
    "- Incubation studies\n",
    "- Types: Mass spec flavors + LC/GC, fluorescence, color, sequencing, various isotope studies, ...\n",
    "- Levels\n",
    "- Volume\n",
    "- For example assay versus spectral data\n",
    "- Metadata\n"
   ]
  },
  {
   "cell_type": "code",
   "execution_count": null,
   "metadata": {
    "collapsed": false
   },
   "outputs": [],
   "source": []
  },
  {
   "cell_type": "markdown",
   "metadata": {},
   "source": [
    "### Source Topics\n",
    "\n",
    "- Confederation\n",
    "- Adoption incentives\n",
    "- Metadata\n",
    "- Services\n",
    "- APIs\n",
    "- Databases\n",
    "- Testing\n",
    "- Make My Solution Replicable\n",
    "- Open Source\n",
    "- Data Contribution\n",
    "- Pass-through\n",
    "- Documentation\n",
    "- Query\n",
    "- Attribution\n",
    "- Contribution paths\n",
    "- Discovery\n",
    "- Portalization\n",
    "- Standards and data formats\n",
    "- Data qualifier concepts: classes/types/artifacts/levels/\n",
    "- “SEP Clients” where SEP = Someone Elses Problem: Pushing the task of Client-building off the to-do list.\n",
    "- Visualization\n",
    "- Analysis"
   ]
  },
  {
   "cell_type": "code",
   "execution_count": null,
   "metadata": {
    "collapsed": false
   },
   "outputs": [],
   "source": []
  },
  {
   "cell_type": "code",
   "execution_count": null,
   "metadata": {
    "collapsed": false
   },
   "outputs": [],
   "source": []
  },
  {
   "cell_type": "markdown",
   "metadata": {},
   "source": [
    "### Stretch thinking\n",
    "\n",
    "Suppose one had a Meta-LWDS Crawler analogous to PolarHub (Li). \n",
    "It waits to hear from and then brokers simple RESTFUL APIs.\n",
    "\n",
    "\n",
    "- First let us build an LWDS and a special Python library called 'bee.py'\n",
    "- bee.py uses JSON-RPC or equivalent protocol\n",
    "- bee.py provides my LWDS with a generic API \n",
    "- Our LWDS has no web page, no portal, no HTML\n",
    "\n",
    "\n",
    "- Second let us build the Crawler\n",
    "- It Listens for messages from a bee.py instance  \n",
    "- bee.py periodically attempts to register my LWDS with the Crawler \n",
    "\n",
    "\n",
    "Upon Success: \n",
    "    \n",
    "- The Crawler mirrors my LWDS API. \n",
    "- My data is available and findable. \n",
    "- I did not write a single web page or install and wrestle with Django. \n"
   ]
  },
  {
   "cell_type": "code",
   "execution_count": null,
   "metadata": {
    "collapsed": false
   },
   "outputs": [],
   "source": []
  },
  {
   "cell_type": "markdown",
   "metadata": {},
   "source": [
    "### Whiteboard Redux Section\n",
    "\n",
    "#### South Wall (main effort)\n",
    "\n",
    "##### Data System Taxonomy with examples\n",
    "\n",
    "- Micro LWDS: Excel spreadsheet\n",
    "- Small LWDS: SQL Share, Rob's Biogeochem Data System\n",
    "- Large LWDS: Heidi's Flow Cytometry, FetchClimate, \n",
    "- Small DS: BCO DMO? GeoTraces?\n",
    "- Large DS: Ameriflux\n",
    "- National DS: NEON, NASA DACs\n",
    "- Meta DS: Earthcube\n",
    "    \n",
    "##### An Elephant In The Room: Climate Change\n",
    "\n",
    "##### An Elephant In The Room: The Boneyard of Unused and Under-used Data Systems\n",
    "\n",
    "##### The Diffusion Problem\n",
    "\n",
    "Imagine a landscape of question-marks representing researchers. Down is time.\n",
    "Off to the upper left at some time a person invents a solution. Example: Generic Mapping Tool. \n",
    "What is the *process* by which this solution propagates through the community? \n",
    "GMT is prevalent and has been for over 20 years as the premier way of putting a ROI on a map \n",
    "with some custom symbols indicating the details of a study site. It is highly successful... why?\n",
    "\n",
    "\n",
    "##### Balancing Act\n",
    "\n",
    "Joe's excellent point is: Don't engineer more solution than you need. \n",
    "Kilroy: Joe to provide a further exegesis on his process.\n",
    "Bill's excellent point is: Let's make solutions include global access (Joe's 'ubiquity')\n",
    "In the balance hangs Time and Money. \n",
    "Under \"Just Enuf\" on the balance we wrote \"Immediate Problem\". \n",
    "Under \"Global Access\" on the opposite side of the balance we wrote \"Generic Considerations\" \n",
    "and this could also be written \"Community Considerations\". Or cultural shift or ...\n",
    "\n",
    "\n",
    "On the side of making it easy to build something we have the 'Better that 100 flowers grow' advocacy (Bill) \n",
    "that I would translate as: Don't raise the barrier to entry for some formal rationale that effectively \n",
    "discourages participation; but rather do the reverse. \n",
    "\n",
    "\n",
    "\n",
    "##### Awareness and Solutions\n",
    "\n",
    "These are important consideration that our LWDS can get up to speed on through Deliverable 1.\n",
    "\n",
    "\n",
    "- Metadata (which is essential for search; and that can be the enemy of use (publication))\n",
    "- How APIculture is overcoming Clicki-culture\n",
    "- Understand and work from Design Patterns (Joe's emphasis)\n",
    "- ( Success Recipe ) that leverages existing X. Example: SQL Share published as URL to CINERGI\n",
    "\n",
    "\n",
    "Kilroy there is more missing from a photo of lower down on the board\n",
    "\n",
    "\n",
    "##### Taxonomy of Archtype Solutions\n",
    "\n",
    "Some, not all! In order of mass:\n",
    "\n",
    "\n",
    "- ftp file\n",
    "- file system organization\n",
    "- SQL Share\n",
    "- Myria\n",
    "- Sharepoint\n",
    "- Git hub not as jumble-box but as template of how to structure a product (like a paper or an LWDS) (here is a folder for your figures)\n",
    "- Heidi Sosik's work on FC\n",
    "- iPython Notebook\n",
    "- Fill in here (Kilroy): The story of MODIS and by extension GEE\n",
    "\n",
    "\n",
    "##### Civilized Institutionalized Data Systems \n",
    "\n",
    "- GINA\n",
    "- Ice2Ocean\n",
    "- LiveOcean\n",
    "- NOAA: IOOS, ...\n",
    "- NASA: ECHO, ECHO2, ...\n",
    "- USDA, USGS, other gov ...\n",
    "- NEON\n",
    "- Ameriflux\n",
    "- LTER\n",
    "- Lamont-Doherty: R2R, Various Directories\n",
    "- L-D GeoLink: Look into this further (Kilroy): Authority, tracking, notifications\n",
    "- Argh what is that European mass spec one? (Kilroy; chap at the NYC mtg runs it)\n",
    "- BCO DMO\n",
    "- NSIDC: ACADIS, GLIMS (in relation to Anthony), Ted Scambos' stuff, sea ice extent, ...\n",
    "- JGI: Genomics\n",
    "- BLAST: A tool \n",
    "- DOM @ WHOI (??? Kilroy ???)\n",
    "- Rob F Biogeochem Data System\n",
    "- Geotraces\n",
    "- Harmonized World Soil Database (PNNL knows well)\n",
    "- FetchClimate + ME out of MSR Cambridge\n",
    "- The ARGO story\n",
    "- Kilroy there are others missing from a photo of lower down\n",
    "\n",
    "###### Meta...\n",
    "\n",
    "- CINERGI (Kilroy what is the experience of contributing??)\n",
    "- GEOSS\n",
    "- ESIP\n",
    "\n",
    "##### It should be true...\n",
    "\n",
    "We drew a progression from one person to two to five to 10,000 (researchers) to a fishhook (non-research community) to earth.\n",
    "\n",
    "This is intended to represent scale of impact. \n",
    "\n",
    "It should be true that 2 -- 10,000 is the same solution. \n",
    "\n",
    "(Kilroy: \"Soln criteria: Does it --> Box with little circles and big N\" means what?)\n",
    "\n",
    "\n",
    "#### West Wall (pyramid diagram)\n",
    "\n",
    "##### Nees Heirarchy of Science Data Management\n",
    "\n",
    "After Maslow, to paraphrase: As a need is met the next level up dominations conscious functioning. \n",
    "\n",
    "Bill has the source slide. His point was to swap integration and sharing. Sharing is easy; integration is hard.\n",
    "\n",
    "\n",
    "- Integration\n",
    "- Analytics\n",
    "- Query\n",
    "- Sharing\n",
    "- Storage\n"
   ]
  },
  {
   "cell_type": "markdown",
   "metadata": {},
   "source": [
    "### Whiteboard Source Photos"
   ]
  },
  {
   "cell_type": "code",
   "execution_count": 2,
   "metadata": {
    "collapsed": false
   },
   "outputs": [
    {
     "name": "stdout",
     "output_type": "stream",
     "text": [
      "This image is cool and evokes flow cytometry; but it is not doing any work at the moment so it is commented out.\n"
     ]
    }
   ],
   "source": [
    "splashImage = Image(url='http://robfatland.net/LWDSFigs/SplashImage.png')\n",
    "# splashImage\n",
    "print \"This image is cool and evokes flow cytometry; but it is not doing any work at the moment so it is commented out.\""
   ]
  },
  {
   "cell_type": "code",
   "execution_count": 3,
   "metadata": {
    "collapsed": false
   },
   "outputs": [
    {
     "name": "stdout",
     "output_type": "stream",
     "text": [
      "This image is redux'd above and is not shown.\n"
     ]
    }
   ],
   "source": [
    "wb1Image = Image(url='http://robfatland.net/LWDSFigs/WB1.jpg')\n",
    "wb1Image\n",
    "print \"This image is redux'd above and is not shown.\""
   ]
  },
  {
   "cell_type": "code",
   "execution_count": 4,
   "metadata": {
    "collapsed": false
   },
   "outputs": [
    {
     "name": "stdout",
     "output_type": "stream",
     "text": [
      "This image has been reduxed above.\n"
     ]
    }
   ],
   "source": [
    "wb2Image = Image(url='http://robfatland.net/LWDSFigs/WB2.jpg')\n",
    "print \"This image has been reduxed above.\"\n",
    "# wb2Image"
   ]
  },
  {
   "cell_type": "code",
   "execution_count": 5,
   "metadata": {
    "collapsed": false
   },
   "outputs": [
    {
     "name": "stdout",
     "output_type": "stream",
     "text": [
      "This photo has been redux'd\n"
     ]
    }
   ],
   "source": [
    "wb3Image = Image(url='http://robfatland.net/LWDSFigs/WB3.jpg')\n",
    "wb3Image\n",
    "print \"This photo has been redux'd\""
   ]
  },
  {
   "cell_type": "code",
   "execution_count": 6,
   "metadata": {
    "collapsed": false
   },
   "outputs": [
    {
     "data": {
      "text/html": [
       "<img src=\"http://robfatland.net/LWDSFigs/WB4.jpg\"/>"
      ],
      "text/plain": [
       "<IPython.core.display.Image object>"
      ]
     },
     "execution_count": 6,
     "metadata": {},
     "output_type": "execute_result"
    }
   ],
   "source": [
    "wb4Image = Image(url='http://robfatland.net/LWDSFigs/WB4.jpg')\n",
    "wb4Image\n",
    "# Kilroy please redux this image"
   ]
  },
  {
   "cell_type": "code",
   "execution_count": 7,
   "metadata": {
    "collapsed": false
   },
   "outputs": [
    {
     "data": {
      "text/html": [
       "<img src=\"http://robfatland.net/LWDSFigs/WB5.jpg\"/>"
      ],
      "text/plain": [
       "<IPython.core.display.Image object>"
      ]
     },
     "execution_count": 7,
     "metadata": {},
     "output_type": "execute_result"
    }
   ],
   "source": [
    "wb5Image = Image(url='http://robfatland.net/LWDSFigs/WB5.jpg')\n",
    "wb5Image\n",
    "# Kilroy please redux this image"
   ]
  },
  {
   "cell_type": "code",
   "execution_count": 8,
   "metadata": {
    "collapsed": false
   },
   "outputs": [
    {
     "data": {
      "text/html": [
       "<img src=\"http://robfatland.net/LWDSFigs/WB6.jpg\"/>"
      ],
      "text/plain": [
       "<IPython.core.display.Image object>"
      ]
     },
     "execution_count": 8,
     "metadata": {},
     "output_type": "execute_result"
    }
   ],
   "source": [
    "wb6Image = Image(url='http://robfatland.net/LWDSFigs/WB6.jpg')\n",
    "wb6Image\n",
    "# Kilroy please redux this image"
   ]
  },
  {
   "cell_type": "code",
   "execution_count": 9,
   "metadata": {
    "collapsed": false
   },
   "outputs": [
    {
     "data": {
      "text/html": [
       "<img src=\"http://robfatland.net/LWDSFigs/WB7.jpg\"/>"
      ],
      "text/plain": [
       "<IPython.core.display.Image object>"
      ]
     },
     "execution_count": 9,
     "metadata": {},
     "output_type": "execute_result"
    }
   ],
   "source": [
    "wb7Image = Image(url='http://robfatland.net/LWDSFigs/WB7.jpg')\n",
    "wb7Image\n",
    "# Kilroy please redux this image"
   ]
  },
  {
   "cell_type": "code",
   "execution_count": 10,
   "metadata": {
    "collapsed": false
   },
   "outputs": [
    {
     "name": "stdout",
     "output_type": "stream",
     "text": [
      "<built-in method __sizeof__ of Image object at 0x7f2ce121e3d0>\n"
     ]
    }
   ],
   "source": [
    "# a=wb7Image.size()\n",
    "dir(Image)\n",
    "a = wb7Image\n",
    "print a.__sizeof__\n",
    "# print wb7Image.getattribute()\n",
    "# argh; this doesn't work (trying to reduce image size)\n",
    "# IPython.core.display.display(wb7Image)"
   ]
  },
  {
   "cell_type": "markdown",
   "metadata": {},
   "source": [
    "### Deliverable 1A: LWDS Paper 1\n",
    "\n",
    "Nancy Hess has the lead"
   ]
  },
  {
   "cell_type": "markdown",
   "metadata": {},
   "source": [
    "### Deliverable 1B: LWDS Paper 2\n",
    "\n",
    "###### Rob Fatland has the lead\n",
    "\n",
    "##### Abstract\n",
    "Lorem ipsum.\n",
    "\n",
    "##### Introduction\n",
    "\n",
    "Lorem.\n",
    "\n",
    "##### Open Data Movement\n",
    "\n",
    "Lorem."
   ]
  },
  {
   "cell_type": "markdown",
   "metadata": {},
   "source": [
    "### Deliverable 1C: FAQ\n",
    "\n",
    "#### Basics\n",
    "\n",
    "Q: I am a domain scientist with a data problem. What are the top five things I should think about? \n",
    "\n",
    "A: Scope, collaboration, design patterns, leverage and tradeoffs. Here is a bit more elaboration:\n",
    "1. On a 3-axis diagram of data volume, complexity and perfunction-versus-exploration: Where do you live?\n",
    "2. Do you collaborate with at least one other person; and are you an open-data-philosophy subscriber?\n",
    "3. Please look through our design patterns and see what resonates.\n",
    "4. Please look through our technologies and see what you can use that is already built and tested. \n",
    "5. How much time, money, and pre-existing technology skills do you have on hand? See our guide below.\n",
    "\n",
    "\n",
    "Q: How are you going to try and talk me into embarking on a formal LWDS process; rather than\n",
    "just cobbling something together and getting on with my life? \n",
    "\n",
    "A: The good news is that we are going to advocate for you to build the minimal necessary solution,\n",
    "nothing more.  But then we will complicate your life slightly by asking you to consider sharing out \n",
    "what you do with a broad audience. In general a 'formal process' only makes sense if you carefully\n",
    "think about where you are headed and realize 'cobbling together' is going to end up costing you time.\n",
    "\n",
    "#### Volume - Complexity - Perfunction Diagram\n",
    "\n",
    "#### Design Patterns\n",
    "\n",
    "#### Technologies\n",
    "\n",
    "#### Time Cash Patience Guide"
   ]
  },
  {
   "cell_type": "markdown",
   "metadata": {},
   "source": [
    "### Deliverable 2: Landscape\n",
    "\n",
    "Please let us begin with CINERGI"
   ]
  },
  {
   "cell_type": "markdown",
   "metadata": {},
   "source": [
    "### Deliverable 3: Roadmap\n",
    "\n"
   ]
  },
  {
   "cell_type": "markdown",
   "metadata": {},
   "source": [
    "### Deliverable 4: Curriculum\n",
    "\n",
    "\"Design a course that produces an LWDS-capable scientist\"\n",
    "\n",
    "##### Skills\n",
    "\n",
    "- Write DFT: Equation to Code to Testing\n",
    "\n",
    "- Create a Cloud service that produces a synthetic data stream from at least three disparate data sources.\n",
    "\n",
    "- Translate a physical problem built on differential equations into artifact-free code\n",
    "\n",
    "##### Learning Skills\n",
    "\n",
    "- Bootstrap skills in a non-mainstream programming paradigm; e.g. functional programming\n",
    "\n",
    "- Build a sensor-to-cloud datastream using Maker community resources.\n"
   ]
  },
  {
   "cell_type": "markdown",
   "metadata": {},
   "source": [
    "### Deliverable 5: Road-test Workshop\n",
    "\n",
    "\n",
    "From an email to Chuck Seers, Pieter Dorrestein, Wenwen Li (sent after the workshop):  \n",
    "\n",
    "\n",
    "I noted that these persons are respectively at OSU and UCSD and Arizona State. \n",
    "They work in environmental science informatics. \n",
    "They were interested in but unable to attend the LWDS workshop. \n",
    "\n",
    "The workshop will produce:\n",
    "\n",
    "\n",
    "1. Two papers (opinion piece and paper proper)\n",
    "2. Recommendations for curriculum in support of LWDS-enabled domain scientists\n",
    "3. Landscape overview: What is out there\n",
    "4. Roadmap: What is possible (informal report)\n",
    "5. Roadtest workshop: How do the recommendations we produce in (2) translate into action?\n",
    "\n",
    "\n",
    "Suppose a domain scientist has a data problem to solve.\n",
    "We provide guidelines in arriving at a solution based on some flow-chart-like approach.\n",
    "Suppose this scientist is working collaboratively and therefore wishes to share data. \n",
    "With one other person? With 2? With 7? \n",
    "We would like to make that sharing trivially scale up to 10,000 as easily as 2. \n",
    "\n",
    "Ilya Zaslavsky at SDSC has invented CINERGI out of Earthcube and we find that \n",
    "to be exactly what we would wish for: A directory of CI for geoscience where it \n",
    "is easy to register new resources. So we want to make this a big part of our \n",
    "Landscape story.  Pieter maybe you know much more about this… but it is a pleasant \n",
    "case of “Here is the apparent solution; now how well is it going to work in practice?” \n",
    "\n",
    "\n",
    "Hosted iPython Notebooks and SQL Share are two very short-path approaches to getting LWDS done. \n",
    "\n",
    "\n"
   ]
  },
  {
   "cell_type": "code",
   "execution_count": 61,
   "metadata": {
    "collapsed": false
   },
   "outputs": [],
   "source": []
  },
  {
   "cell_type": "code",
   "execution_count": 61,
   "metadata": {
    "collapsed": false
   },
   "outputs": [],
   "source": []
  },
  {
   "cell_type": "code",
   "execution_count": 61,
   "metadata": {
    "collapsed": false
   },
   "outputs": [],
   "source": []
  },
  {
   "cell_type": "code",
   "execution_count": 61,
   "metadata": {
    "collapsed": false
   },
   "outputs": [],
   "source": []
  },
  {
   "cell_type": "code",
   "execution_count": 61,
   "metadata": {
    "collapsed": false
   },
   "outputs": [],
   "source": []
  },
  {
   "cell_type": "code",
   "execution_count": 61,
   "metadata": {
    "collapsed": false
   },
   "outputs": [],
   "source": []
  },
  {
   "cell_type": "code",
   "execution_count": 61,
   "metadata": {
    "collapsed": false
   },
   "outputs": [],
   "source": []
  }
 ],
 "metadata": {
  "kernelspec": {
   "display_name": "Python [default]",
   "language": "python",
   "name": "python2"
  },
  "language_info": {
   "codemirror_mode": {
    "name": "ipython",
    "version": 2
   },
   "file_extension": ".py",
   "mimetype": "text/x-python",
   "name": "python",
   "nbconvert_exporter": "python",
   "pygments_lexer": "ipython2",
   "version": "2.7.12"
  }
 },
 "nbformat": 4,
 "nbformat_minor": 0
}
