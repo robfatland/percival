{
 "cells": [
  {
   "cell_type": "markdown",
   "metadata": {},
   "source": [
    "# LiveOcean\n",
    "\n",
    "### IPython Notebook for 'Live Ocean' chapter\n",
    "For \"Cloud computing in ocean and atmosphere science\" \n",
    "Tiffany Vance (NOAA), Editor\n",
    "\n",
    "This python section is not part of the chapter proper (see 'Chapter' below).\n",
    "It illustrates the LiveOcean interface.\n",
    "\n",
    "### LiveOcean interface\n",
    "LiveOcean has a simple (5-command) API and we'd like to explore that from an iPython Notebook perspective"
   ]
  },
  {
   "cell_type": "code",
   "execution_count": 1,
   "metadata": {
    "collapsed": false
   },
   "outputs": [],
   "source": [
    "import numpy\n",
    "import scipy\n",
    "import json\n",
    "import urlparse\n",
    "import requests\n",
    "from IPython.display import Image\n",
    "\n",
    "figureUrl = \"http://robfatland.net/old/LiveOceanFigures/\""
   ]
  },
  {
   "cell_type": "code",
   "execution_count": 3,
   "metadata": {
    "collapsed": false
   },
   "outputs": [
    {
     "name": "stdout",
     "output_type": "stream",
     "text": [
      "Populating the interactive namespace from numpy and matplotlib\n"
     ]
    }
   ],
   "source": [
    "# This line is a mode setting that retains graphics inline. \n",
    "%pylab inline"
   ]
  },
  {
   "cell_type": "markdown",
   "metadata": {},
   "source": [
    "### Simple access to the API 'get-overlay' API call; which returns not JSON but a greyscale png"
   ]
  },
  {
   "cell_type": "code",
   "execution_count": 4,
   "metadata": {
    "collapsed": false
   },
   "outputs": [
    {
     "name": "stdout",
     "output_type": "stream",
     "text": [
      "3\n",
      "3\n"
     ]
    }
   ],
   "source": [
    "a=raw_input()\n",
    "print a"
   ]
  },
  {
   "cell_type": "code",
   "execution_count": 5,
   "metadata": {
    "collapsed": false
   },
   "outputs": [
    {
     "data": {
      "text/html": [
       "<img src=\"http://liveocean.azurewebsites.net/api/get-overlay?date=2015-05-21T22:00:00Z&depthIndex=39&param=salt\"/>"
      ],
      "text/plain": [
       "<IPython.core.display.Image object>"
      ]
     },
     "execution_count": 5,
     "metadata": {},
     "output_type": "execute_result"
    }
   ],
   "source": [
    "i = Image(url='http://liveocean.azurewebsites.net/api/get-overlay?date=2015-05-21T22:00:00Z&depthIndex=39&param=salt')\n",
    "i"
   ]
  },
  {
   "cell_type": "markdown",
   "metadata": {},
   "source": [
    "### This section implements four (really three) API calls\n",
    "\n",
    "The code uses the python 'requests' Library. Typically two or three lines of code per API call. \n",
    "\n",
    "get-info returns a JSON object, i.e. a List of Dictionaries (unordered key:value pairs)\n",
    "\n",
    "This example translates: getinfo <unicode> string > List > Dictionaries > a selected value (PartitionKey) from each Dictionary\n",
    "\n",
    "get-overlay returns a PNG image\n",
    "\n",
    "get-value is translated: string > List > Dictionaries > 2D numpy array\n",
    "\n",
    "get-coords gets the coordinates of all the map-plane coordinates. However it is (Kilroy) up on blocks at the moment: It does not work due to a code bug."
   ]
  },
  {
   "cell_type": "code",
   "execution_count": 6,
   "metadata": {
    "collapsed": false
   },
   "outputs": [
    {
     "name": "stdout",
     "output_type": "stream",
     "text": [
      "Call = http://liveocean.azurewebsites.net/api/get-info ; reply status is True ; status code is 200 \n",
      "\n",
      "jsonized get-info reply is of <type 'list'> ; length 3 ; PKeys (unicode) are [u'rho', u'salt', u'temp']\n",
      "\n",
      "As ascii: ['rho', 'salt', 'temp'] \n",
      "\n"
     ]
    }
   ],
   "source": [
    "# Establish the api base URL and the first call, 'get-info' that tells what data are available\n",
    "baseUrl = \"http://liveocean.azurewebsites.net/api/\"\n",
    "requestcall = \"get-info\"\n",
    "\n",
    "apiReply = requests.get(urlparse.urljoin(baseUrl, requestcall))\n",
    "print 'Call =', apiReply.url, '; reply status is', apiReply.ok, '; status code is', apiReply.status_code, '\\n'\n",
    "\n",
    "# convert this reply to json and print some diagnostics\n",
    "rjson = apiReply.json()\n",
    "print 'jsonized get-info reply is of', type(rjson), '; length', len(rjson), '; PKeys (unicode) are', \n",
    "print [element['PartitionKey'] for element in rjson]\n",
    "\n",
    "# Here the unicode u'xxxx' is encoded as ascii to make the PartitionKey list easier to read\n",
    "pk=[]\n",
    "for i in range(0,len(rjson)):\n",
    "        pk.append(rjson[i]['PartitionKey'].encode('ascii','ignore'))\n",
    "print \"\"\n",
    "print 'As ascii:',pk,'\\n'"
   ]
  },
  {
   "cell_type": "code",
   "execution_count": 7,
   "metadata": {
    "collapsed": false
   },
   "outputs": [
    {
     "name": "stdout",
     "output_type": "stream",
     "text": [
      "http://liveocean.azurewebsites.net/api/get-overlay?date=2015-05-21T22%3A00%3A00Z&depthIndex=39&param=salt True\n",
      "<type 'str'>\n"
     ]
    },
    {
     "data": {
      "image/png": "[encoded data removed]",
      "text/plain": [
       "<IPython.core.display.Image object>"
      ]
     },
     "execution_count": 7,
     "metadata": {},
     "output_type": "execute_result"
    }
   ],
   "source": [
    "# We move on to the get-overlay call hoping to receive a PNG image\n",
    "requestcall = \"get-overlay\"\n",
    "data_args = {'date':'2015-05-21T22:00:00Z', 'depthIndex':39, 'param':'salt'}\n",
    "apiReply = requests.get(urlparse.urljoin(baseUrl, requestcall), params=data_args)\n",
    "print apiReply.url, apiReply.ok\n",
    "\n",
    "# Assign the content field of the reply 'r' (a string) to an image 'i'\n",
    "i = Image(data=apiReply.content)\n",
    "print type(apiReply.content)\n",
    "i"
   ]
  },
  {
   "cell_type": "code",
   "execution_count": 8,
   "metadata": {
    "collapsed": false
   },
   "outputs": [],
   "source": [
    "# get-coords is currently broken\n",
    "requestcall = \"get-coords\"\n",
    "data_args = {'date':'2015-05-10T22:00:00Z', 'depthIndex':39, 'param':'salt'}\n",
    "apiReply = requests.get(urlparse.urljoin(baseUrl, requestcall), params=data_args)\n",
    "\n",
    "# Kilroy there is a bug in LiveOceanServer: It still expects a time in hours; needs to be updated to a date.\n",
    "# Kilroy also would be good to review why get-coords needs to pass a date!\n",
    "# print r\n",
    "\n",
    "# getcoordsDictionary = json.loads(getcoords)\n",
    "# print len(getcoordsDictionary)\n",
    "# print \"\"\n",
    "# print getcoordsDictionary\n"
   ]
  },
  {
   "cell_type": "code",
   "execution_count": 6,
   "metadata": {
    "collapsed": false
   },
   "outputs": [
    {
     "name": "stdout",
     "output_type": "stream",
     "text": [
      "Call = http://liveocean.azurewebsites.net/api/get-value?date=2015-08-24T20%3A00%3A00Z&depthMeters=-10.0&param=salt\n",
      "Reply status is True\n",
      "Status code is 200 \n",
      "\n",
      "jsonized get-value reply is of <type 'dict'> ; length 3\n",
      "minValue is of <type 'float'> with value 0.0\n",
      "maxValue is of <type 'float'> with value 9.99999993382e+36\n",
      "\n",
      "\n",
      "The data entry of this dictionary is of <type 'list'>\n",
      "API getvalue provides 174 lists each with 381 elements \n",
      "\n",
      "element 341 of list 131, data[130][340], is 28.4209952047 which is  <type 'float'> \n",
      "\n",
      "element 381 of list 174, data[173][380], is None which is  <type 'NoneType'> \n",
      "\n",
      "floats: 36284 and Nones: 30010 sum is 66294 and area is 66294\n",
      "\n",
      "\n",
      "data check shows data[][] is self-consistent\n",
      "\n"
     ]
    }
   ],
   "source": [
    "# We move on now to the get-value api call: JSON format, contents are data (in this case salinity at 10 meters depth)\n",
    "baseUrl = \"http://liveocean.azurewebsites.net/api/\"\n",
    "requestcall = \"get-value\"\n",
    "data_args = {'date':'2015-08-24T20:00:00Z', 'depthMeters':'-10.0','param':'salt'}\n",
    "apiReply = requests.get(urlparse.urljoin(baseUrl, requestcall), params=data_args)\n",
    "\n",
    "print 'Call =', apiReply.url \n",
    "print 'Reply status is', apiReply.ok\n",
    "print 'Status code is', apiReply.status_code, '\\n'\n",
    "\n",
    "# convert response to json\n",
    "jsonReply = apiReply.json()\n",
    "print 'jsonized get-value reply is of', type(jsonReply), '; length', len(jsonReply)\n",
    "\n",
    "# pull out the dictionary entries, 'min', 'max' and 'data'\n",
    "minValue = jsonReply['min']\n",
    "maxValue = jsonReply['max']\n",
    "print 'minValue is of', type(minValue), 'with value', minValue\n",
    "print 'maxValue is of', type(maxValue), 'with value', maxValue\n",
    "print \"\"\n",
    "print \"\"\n",
    "data=jsonReply['data']\n",
    "print 'The data entry of this dictionary is of', type(data)\n",
    "\n",
    "# Determine the dimensions of the data List-of-Lists\n",
    "numLists = len(data)\n",
    "numElementsPerList = len(data[0])\n",
    "print 'API getvalue provides', numLists, 'lists each with', numElementsPerList, 'elements','\\n'\n",
    "\n",
    "# Print a couple of exemplars, one from the water and one from the masked-out land\n",
    "print 'element 341 of list 131, data[130][340], is',data[130][340],'which is ',type(data[130][340]),'\\n'\n",
    "print 'element 381 of list 174, data[173][380], is',data[173][380],'which is ',type(data[173][380]),'\\n'\n",
    "\n",
    "# Count the number of float values and 'Nones' to ensure they sum to the total grid cell count\n",
    "nFloat = 0\n",
    "nNone = 0\n",
    "for s in data:\n",
    "    for t in s:\n",
    "        if (isinstance(t,float)):\n",
    "            nFloat += 1\n",
    "        else:\n",
    "            nNone += 1\n",
    "        \n",
    "print 'floats:',nFloat,'and Nones:',nNone, 'sum is',nFloat+nNone,'and area is',numLists*numElementsPerList\n",
    "print \"\"\n",
    "\n",
    "if nFloat + nNone != numLists*numElementsPerList:\n",
    "    print \"\"\n",
    "    print \"data check finds a discrepancy between expected types and grid area.\"\n",
    "    print \"\"\n",
    "    print \"Kilroy: SERIOUS PROBLEM, data field is not self-consistent\"\n",
    "    print \"\"\n",
    "    print \"\"\n",
    "else:\n",
    "    print \"\"\n",
    "    print \"data check shows data[][] is self-consistent\"\n",
    "    print \"\""
   ]
  },
  {
   "cell_type": "code",
   "execution_count": null,
   "metadata": {
    "collapsed": false
   },
   "outputs": [],
   "source": []
  },
  {
   "cell_type": "code",
   "execution_count": null,
   "metadata": {
    "collapsed": false
   },
   "outputs": [],
   "source": []
  },
  {
   "cell_type": "markdown",
   "metadata": {},
   "source": [
    "# Live Ocean"
   ]
  },
  {
   "cell_type": "markdown",
   "metadata": {},
   "source": [
    "Authors Rob Fatland, Parker MacCready, Nels Oscar"
   ]
  },
  {
   "cell_type": "markdown",
   "metadata": {},
   "source": [
    "### Abstract"
   ]
  },
  {
   "cell_type": "markdown",
   "metadata": {},
   "source": [
    "This chapter describes LiveOcean, a project to help mitigate the financial impact of ocean acidification on the \n",
    "marine food industry in the Pacific Northwest of the United States. Underlying the practical details of building this \n",
    "system on the Microsoft Azure cloud platform are a number of design considerations addressing recurring themes in the \n",
    "deployment of modest-scale scientific data management systems. The most important of these is modularity: \n",
    "Building systems \n",
    "incrementally from independent components with minimal interdependence. This approach prioritizes \n",
    "function and helps avoid over-taxing development \n",
    "resources. It also enables a desirable outcome: The unanticipated use of forecast information.    "
   ]
  },
  {
   "cell_type": "code",
   "execution_count": 11,
   "metadata": {
    "collapsed": false
   },
   "outputs": [
    {
     "data": {
      "text/html": [
       "<img src=\"http://robfatland.net/old/LiveOceanFigures/LiveOceanLogoMedium.png\"/>"
      ],
      "text/plain": [
       "<IPython.core.display.Image object>"
      ]
     },
     "execution_count": 11,
     "metadata": {},
     "output_type": "execute_result"
    }
   ],
   "source": [
    "logoImage = Image(url=figureUrl + 'LiveOceanLogoMedium.png')\n",
    "logoImage"
   ]
  },
  {
   "cell_type": "markdown",
   "metadata": {},
   "source": [
    "### Introduction"
   ]
  },
  {
   "cell_type": "markdown",
   "metadata": {},
   "source": [
    "LiveOcean is a hybrid-technology solution for producing and conveying \n",
    "ocean state forecasts as actionable information to the marine industry. \n",
    "This chapter describes the LiveOcean \n",
    "solution in terms of technical components, project motivation from ocean acidification [1], \n",
    "scenarios for data use, forecast validation, and extension of \n",
    "the project through community growth and emerging cloud technology. \n",
    "\n",
    "LiveOcean (LO) represents a bridging project, one that originates strictly from the research domain of physical \n",
    "oceanography that then bridges across to practical use: Initially intended for shellfish farming with \n",
    "applicability to other \n",
    "commercial fisheries. \n",
    "\n",
    "LiveOcean originated from a study commissioned by the state of Washington, USA, under the driving question: \n",
    "What are top economic implications of ocean acidification in the commercial \n",
    "fisheries? The study was conducted from Kilroy to Kilroy by the Kilroy council that has a Kilroy relationship \n",
    "to WOAC and Kilroy other organizations. The study produced five recommendations (Kilroy) and the resulting \n",
    "RFP was successfully answered by Parker MacCready, professor of oceanography at the University of Washington.\n",
    "\n",
    "LO has proceeded as three parallel efforts: Operationalizing the ROMS model, building the LiveOcean Server cloud \n",
    "middleware, and producing Client views of the forecast data. This third component proceeds from the LO design \n",
    "emphasis on decoupling the physical model from the use of the forecast data.\n"
   ]
  },
  {
   "cell_type": "markdown",
   "metadata": {},
   "source": [
    "### LiveOcean technical components"
   ]
  },
  {
   "cell_type": "markdown",
   "metadata": {},
   "source": [
    "##### ROMS model forecast generation\n",
    "\n",
    "LiveOcean is based upon the modeling capabilities of the Regional Ocean Modeling \n",
    "System (ROMS) adapted to the coastal waters off of Washington, Oregon and British Columbia. \n",
    "The following figure shows the extent of the ROMS forecast superimposed on a bing map\n",
    "with salinity color coded from orange-brown to white (fresh water). "
   ]
  },
  {
   "cell_type": "code",
   "execution_count": 13,
   "metadata": {
    "collapsed": false
   },
   "outputs": [
    {
     "data": {
      "text/html": [
       "<img src=\"http://robfatland.net/old/LiveOceanFigures/region of interest bing maps overlay surface salinity orange colormap.png\"/>"
      ],
      "text/plain": [
       "<IPython.core.display.Image object>"
      ]
     },
     "execution_count": 13,
     "metadata": {},
     "output_type": "execute_result"
    }
   ],
   "source": [
    "roiBing = Image(url=figureUrl + 'region of interest bing maps overlay surface salinity orange colormap.png')\n",
    "roiBing"
   ]
  },
  {
   "cell_type": "markdown",
   "metadata": {},
   "source": [
    "##### Live ocean data structure"
   ]
  },
  {
   "cell_type": "markdown",
   "metadata": {},
   "source": [
    "A ROMS model run is built on a set of initial conditions:\n",
    "\n",
    "1. River forecasts for 16 rivers from NOAA [Kilroy-1] or USGS with infill from climatological data. \n",
    "Discharge from other (ungauged) rivers is estimated from past studies. \n",
    "\n",
    "2. Open ocean conditions from HYCOM, \n",
    "sponsored by the National Oceanographic Partnership Program (NOPP) [Kilroy-2, Kilroy-3]\n",
    "\n",
    "    \n",
    "3. Current high-resolution atmospheric fields from WRF simulations by Cliff Mass' group at UW.\n",
    "\n",
    "4. Tidal forcing for each day from maps of global tidal phase and amplitude generated at OSU. \n",
    "\n",
    "5. Initial ocean state is taken from a prior run of the ROMS model.\n",
    "\n",
    "From these initial conditions the ROMS model produces an hourly forecast of ocean conditions \n",
    "for the ensuing 72 hours. This forecast is analogous to a weather forecast; but it \n",
    "extends from the ocean surface down to the sea floor across the region of interest (ROI). \n",
    "This region extends from The ROMS model has been developed and validated over \n",
    "the course of two decades [2, 3, 4, 5, 6]."
   ]
  },
  {
   "cell_type": "markdown",
   "metadata": {},
   "source": [
    "ROMS is a computational fluid dynamics model tailored to the ocean waters west \n",
    "off the Pacific Northwest in the US.  \n",
    "A ROMS run produces a dataset representing hour-by-hour volumetric water state\n",
    "across approximately 20 scalar parameters including temperature, \n",
    "salinity, pH, aragonite saturation, dissolved oxygen, phytoplankton, \n",
    "zooplankton, and detritus; as well as the ocean current vector field.\n",
    "\n",
    "\n",
    "ROMS runs on a 100-core HPC cluster to produce (72) hourly NetCDF files \n",
    "representing water conditions at 40 stratified layers across ~ 200 x 400 map-plane \n",
    "cells covering a rectangular region from Kilroy latitude to latitude and Kilroy longitude \n",
    "to longitude. The resulting Kilroy square kilometers region off the coast of Washington state (USA) \n",
    "results in individual grid \n",
    "cells approximately Kilroy x Kilroy kilometers. Map-plane grid spaceing is not even: Finer \n",
    "resolution is used in proximity to the coast to better support complex fluid flow in those areas.\n",
    "\n",
    "\n",
    "The vertical stratification of each map-plane cell is fixed in proportion to mean water depth \n",
    "for that cell.  Due to ocean bathymetry therefore the cells are not vertically aligned from \n",
    "one map plane column to another. The cells are more finely spaced near the surface and near \n",
    "the sea bed; and an algorithm is provided for converting between (cell index plus bathymetry) \n",
    "and physical depth. The ROMS data structure, thus, is driven by a compromise between precision \n",
    "and computing power.\n",
    "\n",
    "\n",
    "The ROMS output (72 NetCDF files) is not readily consumed by the Live Ocean audience. \n",
    "This suggests a translational layer that we describe below as cloud middleware built using \n",
    "a modular design approach.\n",
    "\n"
   ]
  },
  {
   "cell_type": "markdown",
   "metadata": {},
   "source": [
    "##### Live Ocean cloud middleware"
   ]
  },
  {
   "cell_type": "markdown",
   "metadata": {},
   "source": [
    "LiveOcean cloud middleware acts to translate forecast data into consumable information by means of \n",
    "an Applications Programming Interface (API) described below. This approach modularizes the task of\n",
    "disseminating information and can be contrasted with the more common 'website/portal' approach. In the\n",
    "latter case the research group will design, build and maintain a website -- often called a data portal --\n",
    "that is intended to anticipate the end-user's information needs. While such data portals may solve the\n",
    "task of data dissemination they are at risk of several common pitfalls. Kilroy should elaborate some of these: \n",
    "Data becomes stale, website breaks, researchers tire of maintaining the site (as with SciScope), it\n",
    "can be difficult to update the data as new data arrives, and most importantly data recovery is a manual\n",
    "process which is tedious and time-consuming for each transaction. \n",
    "\n",
    "\n",
    "The API approach separates the data forecast process from the consumer's approach to forecast information.\n",
    "This is accomplished by means of a (conceivably large) set of information Clients, described in detail below, \n",
    "that use the API to appropriate only information of interest."
   ]
  },
  {
   "cell_type": "code",
   "execution_count": 16,
   "metadata": {
    "collapsed": false
   },
   "outputs": [
    {
     "name": "stdout",
     "output_type": "stream",
     "text": [
      "There are 2651760 model volume cells and 23 scalar data values.\n",
      "There are 60990480 data values per time slice and 72 time slices per forecast.\n",
      "There are 4391314560 data values per forecast.\n",
      "\n"
     ]
    }
   ],
   "source": [
    "# On the map plane we have 174 x 381 cells\n",
    "# Vertically the ROMS model runs 40 cells\n",
    "# There are about 20 different types of scalar data\n",
    "# There is a current vector field which is 3 values per cell\n",
    "# That's roughly 23 scalar values per cell for one instant in time\n",
    "# There are 72 hours in one forecast\n",
    "volumeCells = 174 * 381 * 40\n",
    "dataTypes = 23\n",
    "dataSnapshot = volumeCells * dataTypes\n",
    "numberOfHours = 72\n",
    "dataPerForecast = dataSnapshot * numberOfHours\n",
    "print 'There are', cells, 'model volume cells and', dataTypes, 'scalar data values.'\n",
    "print 'There are', dataSnapshot, 'data values per time slice and', numberOfHours, 'time slices per forecast.'\n",
    "print 'There are', dataPerForecast, 'data values per forecast.'\n",
    "print \"\"\n"
   ]
  },
  {
   "cell_type": "markdown",
   "metadata": {},
   "source": [
    "A time-series of one parameter (say aragonite saturation) at one location (say surface waters near \n",
    "a shellfish farm in Willapa Bay) represent 0.0000016 percent of the total forecast information.\n",
    "\n",
    "\n",
    "Once data dissemination is supported in a procedural sense a second task is to reduce the latency\n",
    "of query replies. That is: A response to a typical API query should take a 'human-unnoticeable' amount of time. LiveOcean uses cache generation (stockpiling these typical results) \n",
    "to reduce query latency. This process is initiated as soon as a new forecast arrives in cloud storage\n",
    "and typically takes less than one hour to complete, comparable to the time necessary to generate the forecast\n",
    "results. This approach to caching results could be modified to an adaptive scheme (based on \n",
    "prior query patterns) or to a comprehensive 'cache almost everything conceivable' scheme.\n",
    "\n",
    "Another important feature of the LiveOcean cloud middleware is to provide administrative oversight \n",
    "and information for Developers who would like to understand and use the API. These features are\n",
    "provided by means of a LiveOcean administrative website (http://liveocean.azurewebsites.net).\n",
    "This website includes API documentation, working API examples, \n",
    "reports on ROMS model run history (success/fail status on component tasks), \n",
    "and other state-of-health system information."
   ]
  },
  {
   "cell_type": "markdown",
   "metadata": {},
   "source": [
    "##### Live Ocean Clients\n",
    "\n",
    "As described below Live Ocean is built on a modular design principle: Build system components\n",
    "as needed and minimize dependencies between those components. \n",
    "\n",
    "Define a Client.\n",
    "\n",
    "Define the undefined nature of the LiveOcean target (information consumer) community. Such info-consumers\n",
    "would like customized applications that provide only certain types of information gleaned from \n",
    "the LO forecasts. \n",
    "\n",
    "LiveOcean Clients can consequently be seen as after-market efforts (though where some examples Clients\n",
    "are already built) that enable the Consumer to receive only the information they are interested in. \n",
    "A strong example would be a LiveOcean Client onboard a fishing vessel. The Client actually begins in \n",
    "the cloud where each day it polls LiveOcean to note the arrival of the day's 3-day forecast. \n",
    "It then pulls in the necessary data (suppose these are ocean temperature, salinity, pH and chlorophyll\n",
    "forecasts) and arrives at a forecast optimal fishing location within 80 kilometers of \n",
    "Astoria Oregon. These coordinates are transmitted via VHF white space to fishing vessels already\n",
    "at sea. The optimal location appears as a symbol on a chart plotter.\n",
    "\n",
    "The current examples of LiveOcean Clients include a web browser \"data explorer\" interface where the\n",
    "forecast can be shown and adjusted as a bing map overlay with time-series animated playback. \n",
    "This overlay includes transparent pixels where no data is present (land) and can be adusted in opacity \n",
    "with respect to the bing map. \n",
    "\n",
    "A second LiveOcean Client connects LiveOcean forecast data to a visualization engine called Worldwide \n",
    "Telescope with support for four/five/six dimensions of data.\n",
    "\n",
    "A third LiveOcean Client is an iPython Notebook (this). "
   ]
  },
  {
   "cell_type": "markdown",
   "metadata": {},
   "source": [
    "##### LiveOcean modular design"
   ]
  },
  {
   "cell_type": "markdown",
   "metadata": {},
   "source": [
    "In the research context the ROMS model is a tool for studying the physical ocean, an end in itself. LiveOcean will carry ROMS model results to a new endpoint: Maritime commercial operations. Hence there is a natural break between a ROMS forecast and the dissemination (consumption) of those results. Commonly a forecast is communicated via website, for example using a map tool supporting layers and overlays that runs in a web browser. In the LiveOcean project we modularize this process into two components: Middleware and Client. The Middleware is responsible for providing a data service according to ease-of-use principles. The Client is software that acts on behalf of the information consumer, for example an app used by a shellfish grower. This person is presumed interested in only a small subset of the ROMS model output:  Aragonite saturation forecast only at the company's oyster beds for the next three days. This person might also be remote with limited (cell phone or VHF) connectivity. This shellfish grower represents only one of potentially dozens of different forecast consumers. LiveOcean if successful therefore has a one-to-many relationsihp. By adopting a modular approach for LiveOcean we address two aspects of this relationship: The information consumption is easily tailored; and the interpretation of the forecast information is not proscribed.\n",
    "\n",
    "The LiveOcean middleware -- the translational layer between the ROMS model output and the Client -- provides data according to three three principles: The query-response mechanism is simple and well-documented, the data are simple and readily understood and the response latency is minimal.  This middleware called Live Ocean Server is implemented in the Python programming language using the Django Web Application Framework. The software was developed in the Microsoft Visual Studio programming environment and deployed to the Microsoft Azure cloud. Hence LiveOcean as a solution represents a synthesis of four technologies: Python, Django, Visual Studio and Azure.\n",
    "\n",
    "The notion of modularity extends further: Suppose that a need develops for LiveOcean forecast data in a different format such as a Web Mapping Service. Such a service could be built on an as-needed basis; but a more compelling example follows. Because the LiveOcean forecast includes ocean current information the query-response engine could be extended both forward and backward in time. 'Where did the water at this location come from?', 'Where will the water at this location go?' Common phenomena such as Harmful Algal Blooms (HABs) and nutrient upwelling along the continental shelf have important consequences in the relationship between coastal ecosystems and there people who live there. If LiveOcean proves adept at forecasting these events their translation to common use can be implemented as a modular addition to the existing system. Virtually all of these -- including sophisticated machine learning pattern search analysis -- can be implemented as cloud services that operate on the accumulation of ROMS model output data. "
   ]
  },
  {
   "cell_type": "markdown",
   "metadata": {},
   "source": [
    "##### LiveOcean Application Programming Interface (API)"
   ]
  },
  {
   "cell_type": "markdown",
   "metadata": {},
   "source": [
    "The LiveOcean Application Progamming Interface (API) is a computer-to-computer interface for Clients to query \n",
    "the LiveOcean middleware. A query is in the form of a base URL with text appended, technically an HTTP POST \n",
    "operation. There is no authentication required and the interface is technically state-less and RESTful. \n",
    "As a consequence there are essentially two things necessary for a succesful Client-LiveOcean \n",
    "interaction: \n",
    "The Client must correctly format encode a query in the URL; \n",
    "and the Client must correctly parse the returned data. \n",
    "\n",
    "\n",
    "The API vocabulary consists of five terms\n",
    "\n",
    "\n",
    "1. get-info provides information on what information is currently available from LiveOcean (JSON)\n",
    "2. get-cmap provides a color map for rendering overlay images (JSON)\n",
    "3. get-coords provides the coordinate grid of the LiveOcean map space (JSON)\n",
    "4. get-value provides a map space sheet of floating point values (JSON)\n",
    "5. get-overlay provides a greyscale image of parameter/time/depth (PNG)\n",
    "\n",
    "\n",
    "There are in some cases appended qualifiers.\n",
    "\n",
    "1. A parameter choice: 'salt' for salinity, etc)\n",
    "2. A date in Kilroy format. \n",
    "3. A depth, either as model index or as a negative-valued depth in meters.\n",
    "\n",
    "\n",
    "The following is an example URL that acts as a LiveOcean API call: \n",
    "    \n",
    "    \n",
    "http://liveocean.azurewebsites.net/api/get-value?date=2015-05-28T22%3A00%3A00Z&depthMeters=-10.0&param=salt\n",
    "    \n",
    "\n",
    "The reply is a block of text in JSON format. This text is a dictionary with three entries: \n",
    "max, min and data. \n",
    "'max' and 'min' correspond to floating point values defining the allowed range of the data. \n",
    "'data' corresponds to a two-dimensional array of floating point salinity values for the ocean cells\n",
    "at a depth of 10 meters for May 28, 2015 at 2200 hours (Kilroy translate this to Zulu and local).\n",
    "Non-ocean cells in this array have salinity value 'null'. \n",
    "\n",
    "\n",
    "Kilroy it might not be a bad idea to include the start ... end JSON, as in: \n",
    "    \n",
    "{\"max\": 9.999999933815813e+36, \"data\": [[32.611933759253205, 32.61435865545276, 32.612672487696415, \n",
    "32.60984667780757, 32.605664831389426, 32.595485402144654, ... null, null]], \"min\" : 0.0 }\n"
   ]
  },
  {
   "cell_type": "markdown",
   "metadata": {},
   "source": [
    "### LiveOcean Project Motivation\n",
    "\n",
    "The report providing motivation for Live Ocean is entitled \n",
    "'Ocean acidification: From knowledge to action, Washington's strategic response' [1]. From this report:\n",
    "\n",
    "\n",
    "\"Today’s ocean acidification is important not only for the amount of change that has\n",
    "occurred thus far but also for how quickly it is happening. The current rate of acidification\n",
    "is nearly ten times faster than any time in the past 50 million years, outpacing\n",
    "the ocean’s capacity to restore oceanic pH and carbonate chemistry. The rapid pace of\n",
    "change also gives marine organisms, marine ecosystems, and humans less time to adapt,\n",
    "evolve, or otherwise adjust to the changing circumstances. At the current rate of global\n",
    "carbon dioxide emissions, the average acidity of the surface ocean is expected to increase\n",
    "by 100–150 percent over pre-industrial levels by the end of this century. [...]\n",
    "\n",
    "More than 30 percent of Puget Sound’s marine species are [directly] vulnerable to\n",
    "ocean acidification by virtue of their dependency on the mineral calcium\n",
    "carbonate to make shells, skeletons, and other hard body parts. Puget\n",
    "Sound calcifiers include oysters, clams, scallops, mussels, abalone, crabs,\n",
    "geoducks, barnacles, sea urchins, sand dollars, sea stars, and sea cucumbers.\n",
    "Even some seaweeds produce calcium carbonate structures.\"\n",
    "\n",
    "\n",
    "The implications of this study for the marine industry are both direct and indirect. \n",
    "Directly the acidification of the ocean has a uniformly deleterious impact on calcifiers.\n",
    "Indirectly the impact on those calcifiers in turn affects the entire marine food web. \n",
    "\n",
    "\n",
    "\n",
    "\n"
   ]
  },
  {
   "cell_type": "markdown",
   "metadata": {},
   "source": [
    "### Scenarios for data use\n",
    "\n",
    "##### LiveOcean data use in forecast time scales\n",
    "\n",
    "This describes the expected use \n",
    "\n",
    "##### LiveOcean data use in year-over-year time scales\n",
    "\n",
    "Suppose the initial positive validation results for the ROMS model hold up in future studies \n",
    "as LiveOcean becomes operational, including hindcast re-analysis. \n",
    "The implication of this result will be that the forecast data represents the actual state of\n",
    "the ocean at some confidence level. After LiveOcean has produced such results for an \n",
    "extended period of time (months to years) a new opportunity will emerge for longitudinal analysis.\n",
    "\n",
    "\n",
    "One example is the analysis of coastal upwelling: Does the LiveOcean forecast record suggest \n",
    "seasonal patterns of nutrient supply to the coastal / shelf waters of the region of interest? \n",
    "Does this upwelling signal correlate with trends in marine coastal ecology? \n",
    "Does it correlate with independent high trophic level data such\n",
    "as industrial fisheries catch records.\n",
    "\n",
    "\n",
    "LiveOcean circulation results represent physical ocean transport and extend to plankton estimates.\n",
    "Plankton are defined to be living creatures that do not overcome prevailing currents with their\n",
    "own motility and can therefore be taken as 'swept along in physical water mass'. A fascinating\n",
    "potential consequence of an accurate LiveOcean forecast is the implication for higher trophic\n",
    "levels above those of plankton. For example a carnivorous and highly mobile fish such as a salmon\n",
    "can sample and respond to gradients in prey density which in turn will have dependencies along\n",
    "the trophic chain down to plankton. Will LiveOcean forecasts be accurate enough to see and even\n",
    "predict distributions of high trophic level predators? "
   ]
  },
  {
   "cell_type": "code",
   "execution_count": 17,
   "metadata": {
    "collapsed": false
   },
   "outputs": [
    {
     "data": {
      "text/html": [
       "<img src=\"http://robfatland.net/old/LiveOceanFigures/marine trophic level diagram placeholder.png\"/>"
      ],
      "text/plain": [
       "<IPython.core.display.Image object>"
      ]
     },
     "execution_count": 17,
     "metadata": {},
     "output_type": "execute_result"
    }
   ],
   "source": [
    "marineTrophic = Image(url = figureUrl + 'marine trophic level diagram placeholder.png')\n",
    "marineTrophic"
   ]
  },
  {
   "cell_type": "markdown",
   "metadata": {},
   "source": [
    "The following figure was produced as a simple dynamic visualization of hypothetical whale paths grazing along maximum local gradients in the LiveOcean surface zooplankton estimate over 72 hours. \n",
    "The zooplankton concentration is rendered as a greyscale overlay where the fuzziness in the near-field\n",
    "image over land reflects the model resolution, 174 by 381 map-plane cells across the region of interest. "
   ]
  },
  {
   "cell_type": "code",
   "execution_count": 18,
   "metadata": {
    "collapsed": false
   },
   "outputs": [
    {
     "data": {
      "text/html": [
       "<img src=\"http://robfatland.net/old/LiveOceanFigures/LiveOcean zooplankton whale simple example.png\"/>"
      ],
      "text/plain": [
       "<IPython.core.display.Image object>"
      ]
     },
     "execution_count": 18,
     "metadata": {},
     "output_type": "execute_result"
    }
   ],
   "source": [
    "whaleExample = Image(url= figureUrl + 'LiveOcean zooplankton whale simple example.png')\n",
    "whaleExample"
   ]
  },
  {
   "cell_type": "markdown",
   "metadata": {},
   "source": [
    "### LiveOcean Validation"
   ]
  },
  {
   "cell_type": "markdown",
   "metadata": {},
   "source": [
    "##### Past work"
   ]
  },
  {
   "cell_type": "markdown",
   "metadata": {},
   "source": [
    "ROMS has been validated primarily against mooring data and CTD station casts (pre-established consistent\n",
    "locations where a research vessel will measure conductivity, temperature and depth profiles from the \n",
    "surface to the sea floor).  Both mooring locations and CTD stations are shown in the\n",
    "following figure in relation to the LiveOcean forecast region. \n",
    "\n",
    "\n",
    " "
   ]
  },
  {
   "cell_type": "code",
   "execution_count": 19,
   "metadata": {
    "collapsed": false
   },
   "outputs": [
    {
     "data": {
      "text/html": [
       "<img src=\"http://robfatland.net/old/LiveOceanFigures/region of interest with validation moorings indicated.png\"/>"
      ],
      "text/plain": [
       "<IPython.core.display.Image object>"
      ]
     },
     "execution_count": 19,
     "metadata": {},
     "output_type": "execute_result"
    }
   ],
   "source": [
    "roiValidation = Image(url= figureUrl + 'region of interest with validation moorings indicated.png')\n",
    "roiValidation"
   ]
  },
  {
   "cell_type": "code",
   "execution_count": 20,
   "metadata": {
    "collapsed": false
   },
   "outputs": [
    {
     "data": {
      "text/html": [
       "<img src=\"http://robfatland.net/old/LiveOceanFigures/ROMS model validation from Siedlecki.png\"/>"
      ],
      "text/plain": [
       "<IPython.core.display.Image object>"
      ]
     },
     "execution_count": 20,
     "metadata": {},
     "output_type": "execute_result"
    }
   ],
   "source": [
    "validationGraph = Image(url= figureUrl + 'ROMS model validation from Siedlecki.png')\n",
    "validationGraph"
   ]
  },
  {
   "cell_type": "markdown",
   "metadata": {},
   "source": [
    "##### Future validation"
   ]
  },
  {
   "cell_type": "markdown",
   "metadata": {},
   "source": [
    "ROMS validation against moorings should and will continue as a matter of course.\n",
    "Of considerable interest will be validation against other data resources: \n",
    "CTD casts from research cruises, \n",
    "ARGO data, \n",
    "glider data, etc). This independent verification of ROMS model output could be \n",
    "done from dedicated resources; but it could also be done opportunistically provided\n",
    "that those data are openly available.\n",
    "\n",
    "\n",
    "One of the most important tests of ROMS and LiveOcean will be in the prediction \n",
    "of harmful algal blooms. A successful series of such predictions would be an\n",
    "important step in establishing public trust of the LiveOcean proposition. \n",
    "\n",
    "\n",
    "The significance of LiveOcean is yet to be realized. If it is successfully validated \n",
    "in terms of physical oceanography one obvious implication will be: Can LiveOcean \n",
    "reliably provide higher-level or derived information to the marine industry? "
   ]
  },
  {
   "cell_type": "markdown",
   "metadata": {},
   "source": [
    "### Project Extensions"
   ]
  },
  {
   "cell_type": "markdown",
   "metadata": {},
   "source": [
    "LiveOcean could provide tide data. It could provide turbulence estimates; upwelling; other driving condition data. Ocean current forecasts.\n",
    "\n",
    "Very important: LiveOcean could provide an API call that says \"Where did the water at this location come from?\" as well as \"Where will the water at this location go?\" "
   ]
  },
  {
   "cell_type": "markdown",
   "metadata": {},
   "source": [
    "##### Added value: New client paths"
   ]
  },
  {
   "cell_type": "markdown",
   "metadata": {},
   "source": [
    "Kilroy deconstruct this section. It is about Client paths, not information value; so either\n",
    "describe this topic as both or merge the information value into the section up above. \n",
    "\n",
    "\n",
    "Reference to begin: Above we described a LiveOcean result arriving on the chart plotter of a fishing vessel.\n",
    "    \n",
    "    \n",
    "This is straightforward technology but it is not yet clear to me if it has been implemented yet. I do know that\n",
    "there is some provision for ship-to-shore phone calls that span communication types... so a little more work \n",
    "making this make sense is necessary. \n",
    "\n",
    "\n",
    "Here provide at least three other examples of customized Clients: \n",
    "    \n",
    "1. Pass through the initial conditions for a favorite beach: to the Band on the \n",
    "wrist of a surfer; include \"HAB risk: Low\"\n",
    "\n",
    "2. Provide From/To: On a tablet app, map with clock, the person taps a location \n",
    "and a time and asks \"Where will this water go in the next 3 days?\" For example to help\n",
    "predict the spread and extent of an oil spill. \n",
    "\n",
    "3. Ferry outreach kiosk.\n",
    "\n",
    "Further important ideas: \n",
    "\n",
    "LiveOcean could provide tide data. It could provide turbulence estimates; upwelling; \n",
    "other driving condition data. Ocean current forecasts. Kilroy see note above (this section). \n"
   ]
  },
  {
   "cell_type": "markdown",
   "metadata": {},
   "source": [
    "##### Added value: advanced cloud services"
   ]
  },
  {
   "cell_type": "markdown",
   "metadata": {},
   "source": [
    "This section describes Microsoft Azure cloud services that are rapidly evolving. \n",
    "It should include a python example; but the real value would circumvent coding and simply\n",
    "create a cloud agent that constantly filters the results of the forecast for HABs and so forth. \n",
    "This is then recapitulated in the Conclusions. "
   ]
  },
  {
   "cell_type": "markdown",
   "metadata": {},
   "source": [
    "##### Added value: Use for other forecast types\n",
    "\n",
    "An important consequence of the modular design of LiveOcean is perceptual: The project can be understood\n",
    "as a template for other forecast systems. In 2014 LiveOcean middleware (i.e. excluding the ROMS model) was adapted \n",
    "by Anthony Arendt into 'Ice2Ocean', a system for forecasting river discharge from glaciated watersheds along the \n",
    "southern coast of Alaska.\n",
    "\n",
    "    "
   ]
  },
  {
   "cell_type": "markdown",
   "metadata": {},
   "source": [
    "### Conclusions"
   ]
  },
  {
   "cell_type": "markdown",
   "metadata": {},
   "source": [
    "The role of scientific models such as ROMS in predictive forecasts is at developing as a necessity. \n",
    "It is also intrinsically perilous to transition from the careful world of scientific inquiry into\n",
    "the operational world of marine fisheries. Fluid dynamics is fraught with uncertainty \n",
    "and error when \n",
    "rendered as finite grid cells in software. Scientists are comfortable with this uncertainty\n",
    "and care must be taken to create an understanding of 'caveat emptor' when the data are applied to\n",
    "real-world real-time decisions. \n",
    "\n",
    "The notion of 'cloud' is an evolving idea both in terms of perception and in terms of the services\n",
    "that the cloud can provide. In this chapter we have described three progressive cloud services that\n",
    "span the transition between data source (the ROMS model running on a non-cloud high-performance compute\n",
    "cluster) and the information consumer. These cloud services are, in order of sophistication: \n",
    "First a 'landing place' for the forecast data in native NetCDF format. \n",
    "Second a translational Applications Programming Interface (API)\n",
    "that supports Clients owned and operated by the consumer community \n",
    "(cell phone applications, web\n",
    "browsers, chart plotters, VHF radios, etcetera).\n",
    "Third -- and particular to our case study on the Microsoft Azure cloud platform -- \n",
    "sophisticated analysis services that continuously scan the forecast data\n",
    "for patterns of meaning such as health threats (harmful algal blooms) or \n",
    "optimal fishing conditions that could shorten fishing seasons and thereby help recover fish stocks."
   ]
  },
  {
   "cell_type": "markdown",
   "metadata": {},
   "source": [
    "### References"
   ]
  },
  {
   "cell_type": "markdown",
   "metadata": {
    "collapsed": false
   },
   "source": [
    "1. Ocean Acidification: From Knowledge to Action, Washington State’s Strategic Response. \n",
    "https://fortress.wa.gov/ecy/publications/SummaryPages/1201015.html. \n",
    "Blue ribbon panel (authors) website: http://www.ecy.wa.gov/water/marine/oa/panel.html.\n",
    "\n",
    "2. MacCready, Parker, et al. \"A model study of tide-and wind-induced mixing in the Columbia River Estuary and plume.\" Continental Shelf Research 29.1 (2009): 278-291.\n",
    "\n",
    "3. Liu, Yonggang, et al. \"Evaluation of a coastal ocean circulation model for the Columbia River plume in summer 2004.\" Journal of Geophysical Research: Oceans (1978–2012) 114.C2 (2009).\n",
    "\n",
    "4. Sutherland, David A., et al. \"A Model Study of the Salish Sea Estuarine Circulation*.\" Journal of Physical Oceanography 41.6 (2011): 1125-1143.\n",
    "\n",
    "5. Geyer, W. Rockwell, and Parker MacCready. \"The estuarine circulation.\" Annual Review of Fluid Mechanics 46.1 (2014): 175.\n",
    "    \n",
    "6. Siedlecki, S. A., et al. \n",
    "\"Seasonal and interannual oxygen variability on the Washington and Oregon continental shelves.\" \n",
    "Journal of Geophysical Research: Oceans (2014).\n",
    "\n",
    "Ref Kilroy-1: river discharge from NOAA: http://www.nwrfc.noaa.gov/rfc/\n",
    "\n",
    "Ref Kilroy-2: HYCOM http://hycom.org/data/glbu0pt08/expt-91pt1\n",
    "\n",
    "Ref Kilroy-3: NOPP http://www.nopp.org/"
   ]
  },
  {
   "cell_type": "code",
   "execution_count": null,
   "metadata": {
    "collapsed": true
   },
   "outputs": [],
   "source": []
  },
  {
   "cell_type": "code",
   "execution_count": null,
   "metadata": {
    "collapsed": true
   },
   "outputs": [],
   "source": []
  },
  {
   "cell_type": "code",
   "execution_count": null,
   "metadata": {
    "collapsed": true
   },
   "outputs": [],
   "source": []
  },
  {
   "cell_type": "code",
   "execution_count": null,
   "metadata": {
    "collapsed": true
   },
   "outputs": [],
   "source": []
  }
 ],
 "metadata": {
  "kernelspec": {
   "display_name": "Python 2",
   "language": "python",
   "name": "python2"
  },
  "language_info": {
   "codemirror_mode": {
    "name": "ipython",
    "version": 2
   },
   "file_extension": ".py",
   "mimetype": "text/x-python",
   "name": "python",
   "nbconvert_exporter": "python",
   "pygments_lexer": "ipython2",
   "version": "2.7.10"
  }
 },
 "nbformat": 4,
 "nbformat_minor": 0
}
